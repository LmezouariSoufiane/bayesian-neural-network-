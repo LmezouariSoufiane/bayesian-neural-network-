{
 "cells": [
  {
   "cell_type": "code",
   "execution_count": 1,
   "id": "254d3286",
   "metadata": {},
   "outputs": [],
   "source": [
    "import numpy as np \n",
    "# le package fondamental pour le calcul de tableaux\n",
    "#Il a également des fonctions pour travailler dans le domaine de l'algèbre linéaire\n",
    "\n",
    "\n",
    "import pandas as pd \n",
    "# permettant la manipulation et l'analyse des données.\n",
    "\n",
    "\n",
    "import seaborn as sns\n",
    "# bibliothèque de visualisation de données basée sur matplotlib.\n",
    "# Il fournit une interface de haut niveau pour dessiner des statistiques attrayantes et informatives.\n",
    "\n",
    "\n",
    "import matplotlib.pyplot as plt\n",
    "%matplotlib inline \n",
    "#Pour Jupyter notebook\n",
    "# bibliothèque complète pour créer des visualisations statiques, animées et interactives.\n",
    "\n",
    "\n",
    "from sklearn.model_selection import train_test_split\n",
    "#Divisez des tableaux ou des matrices en sous-ensembles d'entraînement et de test.\n",
    "\n",
    "\n",
    "from sklearn.preprocessing import StandardScaler\n",
    "# fournit plusieurs fonctions pour transformer les vecteurs de caractéristiques.\n",
    "# Nous en avons besoin pour la Standardisation\n",
    "\n",
    "\n",
    "from functools import partial\n",
    "# pour les fonctions d'ordre supérieur\n",
    "# Renvoie un nouvel objet partiel\n",
    "\n",
    "\n",
    "import tensorflow as tf\n",
    "# Est une bibliothèque logicielle open source pour le calcul numérique haute performance.\n",
    "# Développé à l'origine par des chercheurs et des ingénieurs \n",
    "# de l'équipe Google Brain au sein de l'organisation AI de Google\n",
    "\n",
    "\n",
    "import tensorflow_probability as tfp\n",
    "# Est une bibliothèque pour le raisonnement probabiliste et l'analyse statistique.\n",
    "# permet l'intégration de méthodes probabilistes avec des réseaux profonds.\n",
    "\n",
    "# from thermo.bnn import build_net, chunks, target_log_prob_fn_factory\n",
    "\n",
    "from sklearn.metrics import r2_score\n",
    "# implémente plusieurs fonctions de perte, de score et d'utilité pour mesurer les performances.\n",
    "# Nous en avons besoin pour le calcul de R^2"
   ]
  },
  {
   "cell_type": "code",
   "execution_count": 2,
   "id": "af5fdba9",
   "metadata": {},
   "outputs": [
    {
     "data": {
      "text/plain": [
       "(1827, 16)"
      ]
     },
     "execution_count": 2,
     "metadata": {},
     "output_type": "execute_result"
    }
   ],
   "source": [
    "voitures = pd.read_excel('Audinew.xlsx')\n",
    "voitures.shape"
   ]
  },
  {
   "cell_type": "code",
   "execution_count": 3,
   "id": "45731f43",
   "metadata": {},
   "outputs": [
    {
     "name": "stdout",
     "output_type": "stream",
     "text": [
      "Shape After deleting duplicate values: (1822, 16)\n"
     ]
    }
   ],
   "source": [
    "voitures = voitures.drop_duplicates()\n",
    "print('Shape After deleting duplicate values:', voitures.shape)"
   ]
  },
  {
   "cell_type": "code",
   "execution_count": 4,
   "id": "8f6401b8",
   "metadata": {},
   "outputs": [],
   "source": [
    "voitures.dropna(axis=0, how='any', thresh=None, subset=None, inplace=True)"
   ]
  },
  {
   "cell_type": "code",
   "execution_count": 5,
   "id": "eab9713f",
   "metadata": {},
   "outputs": [
    {
     "data": {
      "text/plain": [
       "Year               0\n",
       "Name               0\n",
       "price              0\n",
       "Age                0\n",
       "Miles              0\n",
       "Exterior color     0\n",
       "Interior color     0\n",
       "NB-accidents       0\n",
       "NB-Owners          0\n",
       "Type of use        0\n",
       "MPG:CTY            0\n",
       "MPG:HWY            0\n",
       "Engine:capacity    0\n",
       "Engine:Type        0\n",
       " Transmission      0\n",
       "Driven Type        0\n",
       "dtype: int64"
      ]
     },
     "execution_count": 5,
     "metadata": {},
     "output_type": "execute_result"
    }
   ],
   "source": [
    "voitures.isnull().sum()"
   ]
  },
  {
   "cell_type": "code",
   "execution_count": 6,
   "id": "b7ad2123",
   "metadata": {},
   "outputs": [
    {
     "data": {
      "text/plain": [
       "Index(['Year', 'Name', 'price', 'Age', 'Miles', 'Exterior color',\n",
       "       'Interior color', 'NB-accidents', 'NB-Owners', 'Type of use', 'MPG:CTY',\n",
       "       'MPG:HWY', 'Engine:capacity', 'Engine:Type', ' Transmission',\n",
       "       'Driven Type'],\n",
       "      dtype='object')"
      ]
     },
     "execution_count": 6,
     "metadata": {},
     "output_type": "execute_result"
    }
   ],
   "source": [
    "voitures.columns"
   ]
  },
  {
   "cell_type": "code",
   "execution_count": 7,
   "id": "2d9cd6ee",
   "metadata": {},
   "outputs": [],
   "source": [
    "voitures.drop(['Year'],axis=1,inplace=True)\n",
    "voitures.drop([' Transmission'],axis=1,inplace=True)\n",
    "voitures.drop(['Exterior color'],axis=1,inplace=True)\n",
    "voitures.drop(['Interior color'],axis=1,inplace=True)\n",
    "voitures.drop(['Type of use'],axis=1,inplace=True)\n",
    "voitures.drop(['NB-accidents'],axis=1,inplace=True)"
   ]
  },
  {
   "cell_type": "code",
   "execution_count": 8,
   "id": "dbebd0b1",
   "metadata": {},
   "outputs": [],
   "source": [
    "voitures['price'] = voitures['price'] / 10000"
   ]
  },
  {
   "cell_type": "code",
   "execution_count": 9,
   "id": "708c5689",
   "metadata": {},
   "outputs": [
    {
     "data": {
      "text/html": [
       "<div>\n",
       "<style scoped>\n",
       "    .dataframe tbody tr th:only-of-type {\n",
       "        vertical-align: middle;\n",
       "    }\n",
       "\n",
       "    .dataframe tbody tr th {\n",
       "        vertical-align: top;\n",
       "    }\n",
       "\n",
       "    .dataframe thead th {\n",
       "        text-align: right;\n",
       "    }\n",
       "</style>\n",
       "<table border=\"1\" class=\"dataframe\">\n",
       "  <thead>\n",
       "    <tr style=\"text-align: right;\">\n",
       "      <th></th>\n",
       "      <th>price</th>\n",
       "      <th>Age</th>\n",
       "      <th>Miles</th>\n",
       "      <th>NB-Owners</th>\n",
       "      <th>MPG:CTY</th>\n",
       "      <th>MPG:HWY</th>\n",
       "      <th>Engine:capacity</th>\n",
       "      <th>Name_Audi Q5</th>\n",
       "      <th>Name_Audi Q7</th>\n",
       "      <th>Name_Audi Q8</th>\n",
       "      <th>...</th>\n",
       "      <th>Name_Audi SQ7</th>\n",
       "      <th>Name_Audi SQ8</th>\n",
       "      <th>Engine:Type_V-6 Diesel Turbocharged</th>\n",
       "      <th>Engine:Type_V-6 Gas</th>\n",
       "      <th>Engine:Type_V-6 Gas Supercharged</th>\n",
       "      <th>Engine:Type_V-6 Gas Turbocharged</th>\n",
       "      <th>Engine:Type_V-8 Gas</th>\n",
       "      <th>Engine:Type_V-8 Gas Turbocharged</th>\n",
       "      <th>Engine:Type_V-8 Hybrid Turbocharged</th>\n",
       "      <th>Driven Type_ FWD</th>\n",
       "    </tr>\n",
       "  </thead>\n",
       "  <tbody>\n",
       "    <tr>\n",
       "      <th>0</th>\n",
       "      <td>2.8900</td>\n",
       "      <td>4</td>\n",
       "      <td>29390</td>\n",
       "      <td>1</td>\n",
       "      <td>20</td>\n",
       "      <td>28</td>\n",
       "      <td>2.0</td>\n",
       "      <td>0</td>\n",
       "      <td>0</td>\n",
       "      <td>0</td>\n",
       "      <td>...</td>\n",
       "      <td>0</td>\n",
       "      <td>0</td>\n",
       "      <td>0</td>\n",
       "      <td>0</td>\n",
       "      <td>0</td>\n",
       "      <td>0</td>\n",
       "      <td>0</td>\n",
       "      <td>0</td>\n",
       "      <td>0</td>\n",
       "      <td>1</td>\n",
       "    </tr>\n",
       "    <tr>\n",
       "      <th>1</th>\n",
       "      <td>2.9999</td>\n",
       "      <td>5</td>\n",
       "      <td>70439</td>\n",
       "      <td>2</td>\n",
       "      <td>19</td>\n",
       "      <td>25</td>\n",
       "      <td>3.0</td>\n",
       "      <td>0</td>\n",
       "      <td>1</td>\n",
       "      <td>0</td>\n",
       "      <td>...</td>\n",
       "      <td>0</td>\n",
       "      <td>0</td>\n",
       "      <td>0</td>\n",
       "      <td>0</td>\n",
       "      <td>1</td>\n",
       "      <td>0</td>\n",
       "      <td>0</td>\n",
       "      <td>0</td>\n",
       "      <td>0</td>\n",
       "      <td>0</td>\n",
       "    </tr>\n",
       "    <tr>\n",
       "      <th>2</th>\n",
       "      <td>4.0890</td>\n",
       "      <td>3</td>\n",
       "      <td>26616</td>\n",
       "      <td>1</td>\n",
       "      <td>19</td>\n",
       "      <td>25</td>\n",
       "      <td>2.0</td>\n",
       "      <td>0</td>\n",
       "      <td>1</td>\n",
       "      <td>0</td>\n",
       "      <td>...</td>\n",
       "      <td>0</td>\n",
       "      <td>0</td>\n",
       "      <td>0</td>\n",
       "      <td>0</td>\n",
       "      <td>0</td>\n",
       "      <td>0</td>\n",
       "      <td>0</td>\n",
       "      <td>0</td>\n",
       "      <td>0</td>\n",
       "      <td>0</td>\n",
       "    </tr>\n",
       "    <tr>\n",
       "      <th>3</th>\n",
       "      <td>3.0998</td>\n",
       "      <td>3</td>\n",
       "      <td>61183</td>\n",
       "      <td>2</td>\n",
       "      <td>22</td>\n",
       "      <td>27</td>\n",
       "      <td>2.0</td>\n",
       "      <td>1</td>\n",
       "      <td>0</td>\n",
       "      <td>0</td>\n",
       "      <td>...</td>\n",
       "      <td>0</td>\n",
       "      <td>0</td>\n",
       "      <td>0</td>\n",
       "      <td>0</td>\n",
       "      <td>0</td>\n",
       "      <td>0</td>\n",
       "      <td>0</td>\n",
       "      <td>0</td>\n",
       "      <td>0</td>\n",
       "      <td>0</td>\n",
       "    </tr>\n",
       "    <tr>\n",
       "      <th>4</th>\n",
       "      <td>2.4500</td>\n",
       "      <td>4</td>\n",
       "      <td>46218</td>\n",
       "      <td>2</td>\n",
       "      <td>20</td>\n",
       "      <td>28</td>\n",
       "      <td>2.0</td>\n",
       "      <td>0</td>\n",
       "      <td>0</td>\n",
       "      <td>0</td>\n",
       "      <td>...</td>\n",
       "      <td>0</td>\n",
       "      <td>0</td>\n",
       "      <td>0</td>\n",
       "      <td>0</td>\n",
       "      <td>0</td>\n",
       "      <td>0</td>\n",
       "      <td>0</td>\n",
       "      <td>0</td>\n",
       "      <td>0</td>\n",
       "      <td>1</td>\n",
       "    </tr>\n",
       "  </tbody>\n",
       "</table>\n",
       "<p>5 rows × 22 columns</p>\n",
       "</div>"
      ],
      "text/plain": [
       "    price  Age  Miles  NB-Owners  MPG:CTY  MPG:HWY  Engine:capacity  \\\n",
       "0  2.8900    4  29390          1       20       28              2.0   \n",
       "1  2.9999    5  70439          2       19       25              3.0   \n",
       "2  4.0890    3  26616          1       19       25              2.0   \n",
       "3  3.0998    3  61183          2       22       27              2.0   \n",
       "4  2.4500    4  46218          2       20       28              2.0   \n",
       "\n",
       "   Name_Audi Q5  Name_Audi Q7  Name_Audi Q8  ...  Name_Audi SQ7  \\\n",
       "0             0             0             0  ...              0   \n",
       "1             0             1             0  ...              0   \n",
       "2             0             1             0  ...              0   \n",
       "3             1             0             0  ...              0   \n",
       "4             0             0             0  ...              0   \n",
       "\n",
       "   Name_Audi SQ8  Engine:Type_V-6 Diesel Turbocharged  Engine:Type_V-6 Gas  \\\n",
       "0              0                                    0                    0   \n",
       "1              0                                    0                    0   \n",
       "2              0                                    0                    0   \n",
       "3              0                                    0                    0   \n",
       "4              0                                    0                    0   \n",
       "\n",
       "   Engine:Type_V-6 Gas Supercharged  Engine:Type_V-6 Gas Turbocharged  \\\n",
       "0                                 0                                 0   \n",
       "1                                 1                                 0   \n",
       "2                                 0                                 0   \n",
       "3                                 0                                 0   \n",
       "4                                 0                                 0   \n",
       "\n",
       "   Engine:Type_V-8 Gas  Engine:Type_V-8 Gas Turbocharged  \\\n",
       "0                    0                                 0   \n",
       "1                    0                                 0   \n",
       "2                    0                                 0   \n",
       "3                    0                                 0   \n",
       "4                    0                                 0   \n",
       "\n",
       "   Engine:Type_V-8 Hybrid Turbocharged  Driven Type_ FWD  \n",
       "0                                    0                 1  \n",
       "1                                    0                 0  \n",
       "2                                    0                 0  \n",
       "3                                    0                 0  \n",
       "4                                    0                 1  \n",
       "\n",
       "[5 rows x 22 columns]"
      ]
     },
     "execution_count": 9,
     "metadata": {},
     "output_type": "execute_result"
    }
   ],
   "source": [
    "\n",
    "DataForML=pd.get_dummies(voitures,drop_first=True)\n",
    "\n",
    "DataForML.head()"
   ]
  },
  {
   "cell_type": "code",
   "execution_count": 10,
   "id": "79ad42d3",
   "metadata": {},
   "outputs": [
    {
     "data": {
      "text/plain": [
       "Index(['price', 'Age', 'Miles', 'NB-Owners', 'MPG:CTY', 'MPG:HWY',\n",
       "       'Engine:capacity', 'Name_Audi Q5', 'Name_Audi Q7', 'Name_Audi Q8',\n",
       "       'Name_Audi RS Q8', 'Name_Audi SQ5', 'Name_Audi SQ7', 'Name_Audi SQ8',\n",
       "       'Engine:Type_V-6 Diesel Turbocharged', 'Engine:Type_V-6 Gas',\n",
       "       'Engine:Type_V-6 Gas Supercharged', 'Engine:Type_V-6 Gas Turbocharged',\n",
       "       'Engine:Type_V-8 Gas', 'Engine:Type_V-8 Gas Turbocharged',\n",
       "       'Engine:Type_V-8 Hybrid Turbocharged', 'Driven Type_ FWD'],\n",
       "      dtype='object')"
      ]
     },
     "execution_count": 10,
     "metadata": {},
     "output_type": "execute_result"
    }
   ],
   "source": [
    "DataForML.columns"
   ]
  },
  {
   "cell_type": "code",
   "execution_count": 11,
   "id": "5f5254eb",
   "metadata": {},
   "outputs": [],
   "source": [
    "X = DataForML[['Age', 'Miles', 'NB-Owners', 'MPG:CTY', 'MPG:HWY',\n",
    "       'Engine:capacity', 'Name_Audi Q5', 'Name_Audi Q7', 'Name_Audi Q8',\n",
    "       'Name_Audi RS Q8', 'Name_Audi SQ5', 'Name_Audi SQ7', 'Name_Audi SQ8',\n",
    "       'Engine:Type_V-6 Diesel Turbocharged', 'Engine:Type_V-6 Gas',\n",
    "       'Engine:Type_V-6 Gas Supercharged', 'Engine:Type_V-6 Gas Turbocharged',\n",
    "       'Engine:Type_V-8 Gas', 'Engine:Type_V-8 Gas Turbocharged',\n",
    "       'Engine:Type_V-8 Hybrid Turbocharged', 'Driven Type_ FWD']]\n",
    "y = DataForML['price']"
   ]
  },
  {
   "cell_type": "code",
   "execution_count": 12,
   "id": "3b58dbce",
   "metadata": {},
   "outputs": [],
   "source": [
    "#séparer l'entraînement et le test \n",
    "\n",
    "X_train, X_test, y_train, y_test = train_test_split(X, y, test_size=0.10, random_state=100)"
   ]
  },
  {
   "cell_type": "code",
   "execution_count": 13,
   "id": "28ce285b",
   "metadata": {},
   "outputs": [
    {
     "name": "stdout",
     "output_type": "stream",
     "text": [
      "x train:  (1638, 21)\n",
      "x test:  (182, 21)\n",
      "y train:  (1638,)\n",
      "y test:  (182,)\n"
     ]
    }
   ],
   "source": [
    "print(\"x train: \",X_train.shape)\n",
    "print(\"x test: \",X_test.shape)\n",
    "print(\"y train: \",y_train.shape)\n",
    "print(\"y test: \",y_test.shape)"
   ]
  },
  {
   "cell_type": "code",
   "execution_count": 14,
   "id": "167873fa",
   "metadata": {},
   "outputs": [],
   "source": [
    "# standardisation (normalisation z-score)\n",
    "# s'adapter et se transformer sur les données d'entraînement, s'adapter uniquement sur le test\n",
    "\n",
    "s_scaler = StandardScaler()\n",
    "X_train = s_scaler.fit_transform(X_train.astype(\"float32\"))\n",
    "X_test = s_scaler.transform(X_test.astype(\"float32\"))"
   ]
  },
  {
   "cell_type": "code",
   "execution_count": 15,
   "id": "d3ae8dbb",
   "metadata": {},
   "outputs": [],
   "source": [
    "def dense(inputs, w, b, activation=tf.identity):\n",
    "    return activation(tf.matmul(inputs, w) + b)\n",
    "\n",
    "\n",
    "def build_net(params, activation=tf.nn.relu):\n",
    "    def model(X, training=True):\n",
    "        for w, b in params[:-1]:\n",
    "            X = dense(X, w, b, activation)\n",
    "        # final linear layer\n",
    "        X = dense(X, *params[-1])\n",
    "        y_pred, y_log_var = tf.unstack(X, axis=-1)\n",
    "        y_var = tf.exp(y_log_var)\n",
    "        if training:\n",
    "            return tfp.distributions.Normal(loc=y_pred, scale=tf.sqrt(y_var))\n",
    "        return y_pred, y_var\n",
    "\n",
    "    return model\n",
    "\n",
    "\n",
    "def bnn_log_prob_fn(X, y, params, get_mean=False):\n",
    "    \"\"\"Calculer la vraisemblance logarithmique des prédictions y en fonction des caractéristiques X et des paramètres.\n",
    "    Args:\n",
    "        X (np.array): 2d valeurs de caractéristique.\n",
    "        y (np.array): 1d predictions (vérité terrain).\n",
    "        params (list): [[w1, b1], ...] contenant des tableaux 2d/1d pour les poids/biais.\n",
    "        get_mean (bool, optional): Indique s'il faut renvoyer le log moyen\n",
    "            probabilité sur tous les preds pour les diagnostics, i.e. pour\n",
    "            comparer les performances des trains et des ensembles de tests.\n",
    "    Returns:\n",
    "        tf.tensor: Somme ou moyenne des log-probabilités de toutes les prédictions.\n",
    "    \"\"\"\n",
    "    net = build_net(params)\n",
    "    pred_dist = net(X)\n",
    "    if get_mean:\n",
    "        return tf.reduce_mean(pred_dist.log_prob(y))\n",
    "    return tf.reduce_sum(pred_dist.log_prob(y))\n",
    "\n",
    "\n",
    "def prior_log_prob_fn(w_prior, b_prior, params):\n",
    "    log_prob = 0\n",
    "    \n",
    "    # # for w, b in params:\n",
    "    #     log_prob += tf.reduce_sum(w_prior.log_prob(w))\n",
    "    #     log_prob += tf.reduce_sum(b_prior.log_prob(b))\n",
    "    for w in params:\n",
    "          log_prob += tf.reduce_sum(w_prior.log_prob(w[0]))\n",
    "          log_prob += tf.reduce_sum(b_prior.log_prob(w[1]))\n",
    "    return log_prob\n",
    "\n",
    "\n",
    "def target_log_prob_fn_factory(w_prior, b_prior, X_train, y_train):\n",
    "    # This signature is forced by TFP's HMC kernel which calls log_prob_fn(*chains).\n",
    "    def target_log_prob_fn(*params):\n",
    "        if not isinstance(params[0], (list, tuple)):\n",
    "            params = chunks(params, 2)\n",
    "        log_prob = prior_log_prob_fn(w_prior, b_prior, params)\n",
    "        log_prob += bnn_log_prob_fn(X_train, y_train, params)\n",
    "        return log_prob\n",
    "\n",
    "    return target_log_prob_fn\n",
    "\n",
    "\n",
    "def tracer_factory(X, y):\n",
    "    return lambda params: partial(bnn_log_prob_fn, X, y)(params)\n",
    "\n",
    "\n",
    "def chunks(lst, n):\n",
    "    # Subdiviser lst en morceaux successifs de taille n.\n",
    "    return [lst[i : i + n] for i in range(0, len(lst), n)]\n",
    "\n",
    "\n",
    "def get_random_initial_state(w_prior, b_prior, nodes_per_layer, overdisp=1.0):\n",
    "    \"\"\"Tirer des échantillons aléatoires pour les poids et les biais d'un NN selon \n",
    "    certains distributions a priori spécifiés. Cet ensemble de valeurs de paramètres\n",
    "    peut servir de point de départ pour l'entraînement MCMC ou de descente de gradient.\n",
    "    \"\"\"\n",
    "    init_state = []\n",
    "    for n1, n2 in zip(nodes_per_layer, nodes_per_layer[1:]):\n",
    "        w_shape, b_shape = [n1, n2], n2\n",
    "        # Utilisez la surdispersion > 1 pour de meilleures statistiques R-hat.\n",
    "        w = w_prior.sample(w_shape) * overdisp\n",
    "        b = b_prior.sample(b_shape) * overdisp\n",
    "        init_state.append([tf.Variable(w), tf.Variable(b)])\n",
    "    return init_state"
   ]
  },
  {
   "cell_type": "code",
   "execution_count": 16,
   "id": "6238ea3c",
   "metadata": {},
   "outputs": [],
   "source": [
    "def pre_train_nn(X_train, y_train, nodes_per_layer, epochs=100):\n",
    "    \"\"\"Pre-train NN pour obtenir un bon point de départ pour HMC.\n",
    "    Args:\n",
    "        nodes_per_layer (list): le nombre de nœuds dans chaque couche dense\n",
    "        X_train (Tensor or np.array): échantillons d'entraînement\n",
    "        y_train (Tensor or np.array): cibles d'entraînement\n",
    "    Returns:\n",
    "        Tensor: liste des tableaux spécifiant les poids du réseau formé.\n",
    "        model: Keras Sequential model\n",
    "    \"\"\"\n",
    "    layers = [tf.keras.layers.Dense(n, activation=\"relu\") for n in nodes_per_layer]\n",
    "    layers[-1].activation = tf.identity  # Rendre la dernière couche linéaire.\n",
    "    model = tf.keras.Sequential(layers)\n",
    "\n",
    "    model.compile(loss=\"mse\", optimizer=\"adam\")\n",
    "    model.fit(X_train, y_train, epochs=epochs, verbose=0)\n",
    "    return model.get_weights(), model\n",
    "\n",
    "\n",
    "def trace_fn(current_state, kernel_results, summary_freq=10, callbacks=[]):\n",
    "    \"\"\"Peut être transmis au HMC kernel pour obtenir une trace des résultats intermédiaires\n",
    "       du kernel et des histogrammes des paramètres réseau dans Tensorboard.\n",
    "    \"\"\"\n",
    "    step = kernel_results.step\n",
    "    with tf.summary.record_if(tf.equal(step % summary_freq, 0)):\n",
    "        for idx, tensor in enumerate(current_state):\n",
    "            count = idx // 2 + 1\n",
    "            name = (\"w\" if idx % 2 == 0 else \"b\") + str(count)\n",
    "            tf.summary.histogram(name, tensor, step=step)\n",
    "        return kernel_results, [cb(*current_state) for cb in callbacks]\n",
    "\n",
    "\n",
    "@tf.function(experimental_compile=True)\n",
    "def sample_chain(*args, **kwargs):\n",
    "    \"\"\"Compilez le graphique statique pour sample_chain afin d'améliorer les performances.\"\"\"\n",
    "    return tfp.mcmc.sample_chain(*args, **kwargs)\n",
    "\n",
    "\n",
    "def run_hmc(\n",
    "    target_log_prob_fn,\n",
    "    step_size=0.01,\n",
    "    num_leapfrog_steps=10,\n",
    "    num_burnin_steps=1000,\n",
    "    num_results=1000,\n",
    "    current_state=None,\n",
    "    resume=None,\n",
    "    log_dir=\"logs/hmc/\",\n",
    "    sampler=\"nuts\",\n",
    "    step_size_adapter=\"dual_averaging\",\n",
    "    **kwargs,\n",
    "):\n",
    "    \"\"\"\n",
    "    Utilisez la console HMC adaptative pour générer une chaîne de Markov de longueur num_results.\n",
    "    Args:\n",
    "        target_log_prob_fn {appelable}: Détermine la distribution stationnaire\n",
    "        vers laquelle la chaîne de Markov doit converger.\n",
    "    Returns:\n",
    "        burnin(s): Échantillons rejetés générés pendant le préchauffage\n",
    "        chain(s): Chaîne(s) de Markov d'échantillons distribués selon\n",
    "            target_log_prob_fn (si convergé)\n",
    "        trace: les données collectées par trace_fn\n",
    "        final_kernel_result: résultats du kernel de la dernière étape (au cas\n",
    "            où le calcul doit être repris)\n",
    "    \"\"\"\n",
    "    err = \"Current_state ou resume est requis lors de l'appel de run_hmc\"\n",
    "    assert current_state is not None or resume is not None, err\n",
    "\n",
    "    summary_writer = tf.summary.create_file_writer(log_dir)\n",
    "\n",
    "    step_size_adapter = {\n",
    "        \"simple\": tfp.mcmc.SimpleStepSizeAdaptation,\n",
    "        \"dual_averaging\": tfp.mcmc.DualAveragingStepSizeAdaptation,\n",
    "    }[step_size_adapter]\n",
    "    if sampler == \"nuts\":\n",
    "        kernel = tfp.mcmc.NoUTurnSampler(target_log_prob_fn, step_size=step_size)\n",
    "        adaptive_kernel = step_size_adapter(\n",
    "            kernel,\n",
    "            num_adaptation_steps=num_burnin_steps,\n",
    "            step_size_setter_fn=lambda pkr, new_step_size: pkr._replace(\n",
    "                step_size=new_step_size\n",
    "            ),\n",
    "            step_size_getter_fn=lambda pkr: pkr.step_size,\n",
    "            log_accept_prob_getter_fn=lambda pkr: pkr.log_accept_ratio,\n",
    "        )\n",
    "    else:  # sampler == \"hmc\"\n",
    "        kernel = tfp.mcmc.HamiltonianMonteCarlo(\n",
    "            target_log_prob_fn,\n",
    "            step_size=step_size,\n",
    "            num_leapfrog_steps=num_leapfrog_steps,\n",
    "        )\n",
    "        adaptive_kernel = step_size_adapter(\n",
    "            kernel, num_adaptation_steps=num_burnin_steps\n",
    "        )\n",
    "\n",
    "    if resume:\n",
    "        prev_chain, prev_trace, prev_kernel_results = resume\n",
    "        step = len(prev_chain)\n",
    "        current_state = tf.nest.map_structure(lambda chain: chain[-1], prev_chain)\n",
    "    else:\n",
    "        prev_kernel_results = adaptive_kernel.bootstrap_results(current_state)\n",
    "        step = 0\n",
    "\n",
    "    tf.summary.trace_on(graph=True, profiler=False)\n",
    "\n",
    "    chain, trace, final_kernel_results = sample_chain(\n",
    "        kernel=adaptive_kernel,\n",
    "        current_state=current_state,\n",
    "        previous_kernel_results=prev_kernel_results,\n",
    "        num_results=num_burnin_steps + num_results,\n",
    "        trace_fn=trace_fn,\n",
    "        return_final_kernel_results=True,\n",
    "        **kwargs,\n",
    "    )\n",
    "\n",
    "    with summary_writer.as_default():\n",
    "        tf.summary.trace_export(name=\"hmc_trace\", step=step)\n",
    "    summary_writer.close()\n",
    "\n",
    "    if resume:\n",
    "        chain = nest_concat(prev_chain, chain)\n",
    "        trace = nest_concat(prev_trace, trace)\n",
    "    burnin, samples = zip(*((t[:-num_results], t[-num_results:]) for t in chain))\n",
    "    return burnin, samples, trace, final_kernel_results\n",
    "\n",
    "\n",
    "def predict_from_chain(chain, X_test, uncertainty=\"aleatoric_epistemic\"):\n",
    "    \"\"\"Prend une chaîne de Markov de configurations NN et effectue la\n",
    "    prédiction réelle sur un ensemble de tests X_test, y compris une\n",
    "    estimation aléatoire et éventuellement épistémique de l'incertitude.\n",
    "    \"\"\"\n",
    "    err = f\"type d'incertitude non reconnu : {uncertainty}\"\n",
    "    assert uncertainty in [\"aleatoric\", \"aleatoric_epistemic\"], err\n",
    "\n",
    "    if uncertainty == \"aleatoric\":\n",
    "        post_params = [tf.reduce_mean(t, axis=0) for t in chain]\n",
    "        post_model = build_net(post_params)\n",
    "        y_pred, y_var = post_model(X_test, training=False)\n",
    "\n",
    "        return y_pred.numpy(), y_var.numpy()\n",
    "\n",
    "    if uncertainty == \"aleatoric_epistemic\":\n",
    "        restructured_chain = [\n",
    "            [tensor[i] for tensor in chain] for i in range(len(chain[0]))\n",
    "        ]\n",
    "\n",
    "        def predict(params):\n",
    "            post_model = build_net(params)\n",
    "            y_pred, y_var = post_model(X_test, training=False)\n",
    "            return y_pred, y_var\n",
    "\n",
    "        preds = [predict(chunks(params, 2)) for params in restructured_chain]\n",
    "        y_pred_mc_samples, y_var_mc_samples = tf.unstack(preds, axis=1)\n",
    "        y_pred, y_var_epist = tf.nn.moments(y_pred_mc_samples, axes=0)\n",
    "        y_var_aleat = tf.reduce_mean(y_var_mc_samples, axis=0)\n",
    "        y_var_tot = y_var_epist + y_var_aleat\n",
    "        return y_pred, y_var_tot\n",
    "\n",
    "\n",
    "def hmc_predict(\n",
    "    weight_prior, bias_prior, init_state, X_train, y_train, X_test, y_test=None, **kwds\n",
    "):\n",
    "    \"\"\"fonction de niveau opérationnel qui relie run_hmc et predict_from_chain\n",
    "    en acceptant données d'entraînement et un ensemble de tests plus des a priori de paramètres\n",
    "    pour construire la fonction de probabilité logarithmique du BNN\n",
    "    compte tenu des données d'apprentissage X_train, y_train.\n",
    "    \"\"\"\n",
    "    bnn_log_prob_fn = target_log_prob_fn_factory(\n",
    "        weight_prior, bias_prior, X_train, y_train\n",
    "    )\n",
    "    # Aplatissez init_state puisque sample_chain de TFP ne peut pas gérer les sous-listes.\n",
    "    init_state = [i for sublist in init_state for i in sublist]\n",
    "    burnin, samples, trace, final_kernel_results = run_hmc(\n",
    "        bnn_log_prob_fn, current_state=init_state, **kwds\n",
    "    )\n",
    "    # print(samples)\n",
    "    y_pred, y_var = predict_from_chain(samples, X_test)\n",
    "    return y_pred.numpy(), y_var.numpy(), final_kernel_results, samples\n"
   ]
  },
  {
   "cell_type": "code",
   "execution_count": 17,
   "id": "c6c68bd2",
   "metadata": {},
   "outputs": [],
   "source": [
    "def get_map_trace(target_log_prob_fn, state, n_iter=1000, save_every=10, callbacks=[]):\n",
    "    optimizer = tf.optimizers.Adam()\n",
    "\n",
    "    @tf.function\n",
    "    def minimize():\n",
    "        optimizer.minimize(lambda: -target_log_prob_fn(*state), state)\n",
    "\n",
    "    state_trace, cb_trace = [], [[] for _ in callbacks]\n",
    "    for i in range(n_iter):\n",
    "        if i % save_every == 0:\n",
    "            state_trace.append(state)\n",
    "            for trace, cb in zip(cb_trace, callbacks):\n",
    "                trace.append(cb(state).numpy())\n",
    "        minimize()\n",
    "\n",
    "    return state_trace, cb_trace\n",
    "\n",
    "\n",
    "def get_best_map_state(map_trace, map_log_probs):\n",
    "    # map_log_probs[0/1]: train/test log probabilite\n",
    "    test_set_max_log_prob_idx = np.argmax(map_log_probs[1])\n",
    "    # Renvoie les paramètres MAP qui ont atteint la probabilité la plus élevée de l'ensemble de tests.\n",
    "    return map_trace[test_set_max_log_prob_idx]\n",
    "\n",
    "\n",
    "def get_nodes_per_layer(n_features, net_taper=(1, 0.65, 1.4)):\n",
    "    nodes_per_layer = [int(n_features * x) for x in net_taper]\n",
    "    \"\"\"Assurez-vous que la dernière couche comporte deux nœuds afin que\n",
    "      la sortie puisse être divisée en moyenne prédictive et en atténuation de perte apprise\"\"\" \n",
    "    nodes_per_layer.append(2)\n",
    "    return nodes_per_layer\n",
    "\n",
    "\n",
    "def map_predict(weight_prior, bias_prior, X_train, y_train, X_test, y_test):\n",
    "    \"\"\"Générer un maximum a posteriori de prédictions de réseau de neurones.\n",
    "    Args:\n",
    "        weight_prior (tfp.distribution): Probabilité a priori pour les poids\n",
    "        bias_prior (tfp.distribution): Probabilité a priori des biais\n",
    "        [X/y_train/test] (np.arrays): Ensembles d'entraînement et de test\n",
    "    \"\"\"\n",
    "\n",
    "    log_prob_tracers = (\n",
    "        tracer_factory(X_train, y_train),\n",
    "        tracer_factory(X_test, y_test),\n",
    "    )\n",
    "\n",
    "    n_features = X_train.shape[-1]\n",
    "    nodes = get_nodes_per_layer(n_features, net_taper=(1, 0.5, 0.3))\n",
    "    random_initial_state = get_random_initial_state(weight_prior, bias_prior, nodes)\n",
    "\n",
    "    trace, log_probs = get_map_trace(\n",
    "        target_log_prob_fn_factory(weight_prior, bias_prior, X_train, y_train),\n",
    "        random_initial_state,\n",
    "        n_iter=5000,\n",
    "        callbacks=log_prob_tracers,\n",
    "    )\n",
    "    # Configuration initiale de la console HMC.\n",
    "    best_params = get_best_map_state(trace, log_probs)\n",
    "\n",
    "    model = build_net(best_params)\n",
    "    y_pred, y_var = model(X_test, training=False)\n",
    "    return y_pred.numpy(), y_var.numpy(), log_probs, best_params"
   ]
  },
  {
   "cell_type": "code",
   "execution_count": 18,
   "id": "23c43b2c",
   "metadata": {},
   "outputs": [],
   "source": [
    "weight_prior = tfp.distributions.Normal(0, 0.2)\n",
    "bias_prior = tfp.distributions.Normal(0, 0.2)"
   ]
  },
  {
   "cell_type": "code",
   "execution_count": 19,
   "id": "37397db8",
   "metadata": {},
   "outputs": [],
   "source": [
    "log_prob_tracers = (\n",
    "    tracer_factory(X_train, y_train),\n",
    "    tracer_factory(X_test, y_test),\n",
    ")"
   ]
  },
  {
   "cell_type": "code",
   "execution_count": 20,
   "id": "7e02dca3",
   "metadata": {},
   "outputs": [],
   "source": [
    "n_features = X_train.shape[-1]\n",
    "random_initial_state = get_random_initial_state(\n",
    "    weight_prior, bias_prior, get_nodes_per_layer(n_features)\n",
    ")\n"
   ]
  },
  {
   "cell_type": "code",
   "execution_count": 21,
   "id": "23b0feab",
   "metadata": {},
   "outputs": [],
   "source": [
    "trace, log_probs = get_map_trace(\n",
    "    target_log_prob_fn_factory(weight_prior, bias_prior, X_train, y_train),\n",
    "    random_initial_state,\n",
    "    n_iter=3000,\n",
    "    callbacks=log_prob_tracers,\n",
    ")\n",
    "best_map_params = get_best_map_state(trace, log_probs)"
   ]
  },
  {
   "cell_type": "code",
   "execution_count": 22,
   "id": "c7d4b2f3",
   "metadata": {},
   "outputs": [],
   "source": [
    "map_nn = build_net(best_map_params)\n",
    "map_y_pred, map_y_var = map_nn(X_test, training=False)"
   ]
  },
  {
   "cell_type": "code",
   "execution_count": 23,
   "id": "2412d4bc",
   "metadata": {},
   "outputs": [],
   "source": [
    "y_pred, y_var, _, _ = map_predict(weight_prior, bias_prior, X_train, y_train, X_test, y_test)"
   ]
  },
  {
   "cell_type": "code",
   "execution_count": 24,
   "id": "6661644e",
   "metadata": {},
   "outputs": [],
   "source": [
    "our_weigth , our_model = pre_train_nn(X_train, y_train, get_nodes_per_layer(n_features))"
   ]
  },
  {
   "cell_type": "code",
   "execution_count": 25,
   "id": "33515662",
   "metadata": {},
   "outputs": [
    {
     "name": "stdout",
     "output_type": "stream",
     "text": [
      "Model: \"sequential\"\n",
      "_________________________________________________________________\n",
      " Layer (type)                Output Shape              Param #   \n",
      "=================================================================\n",
      " dense (Dense)               (None, 21)                462       \n",
      "                                                                 \n",
      " dense_1 (Dense)             (None, 13)                286       \n",
      "                                                                 \n",
      " dense_2 (Dense)             (None, 29)                406       \n",
      "                                                                 \n",
      " dense_3 (Dense)             (None, 2)                 60        \n",
      "                                                                 \n",
      "=================================================================\n",
      "Total params: 1,214\n",
      "Trainable params: 1,214\n",
      "Non-trainable params: 0\n",
      "_________________________________________________________________\n"
     ]
    }
   ],
   "source": [
    "our_model.summary()"
   ]
  },
  {
   "cell_type": "code",
   "execution_count": 26,
   "id": "39a0140d",
   "metadata": {},
   "outputs": [
    {
     "name": "stdout",
     "output_type": "stream",
     "text": [
      "########## Total Time Taken:  31 Minutes\n"
     ]
    }
   ],
   "source": [
    "import time\n",
    "StartTime=time.time()\n",
    "\n",
    "y_pred_HMC, y_var_HMC, final_kernel_results,my_samples = hmc_predict(weight_prior, bias_prior, best_map_params,\n",
    "                                                  X_train, y_train, X_test, y_test=None)\n",
    "\n",
    "EndTime=time.time()\n",
    "print(\"########## Total Time Taken: \", round((EndTime-StartTime)/60), 'Minutes')"
   ]
  },
  {
   "cell_type": "code",
   "execution_count": 28,
   "id": "661df820",
   "metadata": {},
   "outputs": [],
   "source": [
    "y_test = y_test * 10000\n",
    "y_pred_HMC = y_pred_HMC * 10000"
   ]
  },
  {
   "cell_type": "code",
   "execution_count": 30,
   "id": "13f36d77",
   "metadata": {},
   "outputs": [
    {
     "data": {
      "image/png": "[encoded data removed]",
      "text/plain": [
       "<Figure size 432x288 with 1 Axes>"
      ]
     },
     "metadata": {
      "needs_background": "light"
     },
     "output_type": "display_data"
    }
   ],
   "source": [
    "plt.scatter(y_test, y_pred_HMC)\n",
    "plt.xlabel(\"Prices\")\n",
    "plt.ylabel(\"Predicted prices\")\n",
    "plt.title(\"Prices vs Predicted prices\")\n",
    "plt.axline((0, 0), slope=1)\n",
    "plt.show()"
   ]
  },
  {
   "cell_type": "code",
   "execution_count": 31,
   "id": "2f16a195",
   "metadata": {},
   "outputs": [
    {
     "data": {
      "image/png": "[encoded data removed]",
      "text/plain": [
       "<Figure size 432x288 with 1 Axes>"
      ]
     },
     "metadata": {
      "needs_background": "light"
     },
     "output_type": "display_data"
    }
   ],
   "source": [
    "plt.scatter(y_pred_HMC, y_pred_HMC-y_test)\n",
    "plt.xlabel(\"Prices\")\n",
    "plt.ylabel(\"Predicted prices\")\n",
    "plt.title(\"Prices vs Predicted prices\")\n",
    "plt.show()"
   ]
  },
  {
   "cell_type": "code",
   "execution_count": 32,
   "id": "b40457f8",
   "metadata": {},
   "outputs": [
    {
     "name": "stderr",
     "output_type": "stream",
     "text": [
      "C:\\Users\\zoula\\AppData\\Local\\Programs\\Python\\Python310\\lib\\site-packages\\seaborn\\distributions.py:2619: FutureWarning: `distplot` is a deprecated function and will be removed in a future version. Please adapt your code to use either `displot` (a figure-level function with similar flexibility) or `histplot` (an axes-level function for histograms).\n",
      "  warnings.warn(msg, FutureWarning)\n"
     ]
    },
    {
     "data": {
      "image/png": "[encoded data removed]",
      "text/plain": [
       "<Figure size 432x288 with 1 Axes>"
      ]
     },
     "metadata": {
      "needs_background": "light"
     },
     "output_type": "display_data"
    }
   ],
   "source": [
    "sns.distplot(y_test-y_pred_HMC)\n",
    "plt.title(\"Histogram of Residuals\")\n",
    "plt.xlabel(\"Residuals\")\n",
    "plt.ylabel(\"Frequency\")\n",
    "plt.show()"
   ]
  },
  {
   "cell_type": "markdown",
   "id": "637a5383",
   "metadata": {},
   "source": [
    "# RMSE"
   ]
  },
  {
   "cell_type": "code",
   "execution_count": 33,
   "id": "caced4f2",
   "metadata": {},
   "outputs": [
    {
     "name": "stdout",
     "output_type": "stream",
     "text": [
      "Root Mean Square Error: 3015.659023230944\n"
     ]
    }
   ],
   "source": [
    "diff=np.subtract(y_test, y_pred_HMC)\n",
    "square=np.square(diff)\n",
    "MSE=square.mean()\n",
    "RMSE=np.sqrt(MSE)\n",
    "print(\"Root Mean Square Error:\", RMSE)"
   ]
  },
  {
   "cell_type": "markdown",
   "id": "16d5ca7e",
   "metadata": {},
   "source": [
    "# R^2"
   ]
  },
  {
   "cell_type": "code",
   "execution_count": 34,
   "id": "4056cc9d",
   "metadata": {},
   "outputs": [],
   "source": [
    "def performance_metric(y_true, y_predict):\n",
    "    \"\"\" Calcule et renvoie le score de performance entre \n",
    "        valeurs vraies et prédites en fonction de la métrique choisie. \"\"\"\n",
    "    \n",
    "    # Calculer le score de performance entre 'y_true' and 'y_predict'\n",
    "    score = r2_score(y_true, y_predict)\n",
    "    \n",
    "    # Rendre le score\n",
    "    return score"
   ]
  },
  {
   "cell_type": "code",
   "execution_count": 36,
   "id": "aa7c721b",
   "metadata": {},
   "outputs": [
    {
     "name": "stdout",
     "output_type": "stream",
     "text": [
      "R-Squared: 0.9697982666601457\n"
     ]
    }
   ],
   "source": [
    "R_2 = performance_metric(y_test, y_pred_HMC)\n",
    "print(\"R-Squared:\", R_2)"
   ]
  }
 ],
 "metadata": {
  "kernelspec": {
   "display_name": "Python 3 (ipykernel)",
   "language": "python",
   "name": "python3"
  },
  "language_info": {
   "codemirror_mode": {
    "name": "ipython",
    "version": 3
   },
   "file_extension": ".py",
   "mimetype": "text/x-python",
   "name": "python",
   "nbconvert_exporter": "python",
   "pygments_lexer": "ipython3",
   "version": "3.10.2"
  }
 },
 "nbformat": 4,
 "nbformat_minor": 5
}
