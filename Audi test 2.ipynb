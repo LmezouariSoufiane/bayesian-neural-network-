{
 "cells": [
  {
   "cell_type": "markdown",
   "id": "9b808ed2",
   "metadata": {},
   "source": [
    "# Packages"
   ]
  },
  {
   "cell_type": "markdown",
   "id": "493df45f",
   "metadata": {},
   "source": [
    "Tout d'abord, nous importons tous les paquets dont nous aurons besoin."
   ]
  },
  {
   "cell_type": "code",
   "execution_count": 1,
   "id": "c47a643f",
   "metadata": {},
   "outputs": [
    {
     "name": "stderr",
     "output_type": "stream",
     "text": [
      "C:\\Users\\zoula\\AppData\\Local\\Temp\\ipykernel_12724\\1912643657.py:57: DeprecationWarning: `import kerastuner` is deprecated, please use `import keras_tuner`.\n",
      "  from kerastuner.tuners import RandomSearch\n"
     ]
    }
   ],
   "source": [
    "import numpy as np \n",
    "# le package fondamental pour le calcul de tableaux\n",
    "#Il a également des fonctions pour travailler dans le domaine de l'algèbre linéaire\n",
    "\n",
    "\n",
    "import pandas as pd \n",
    "# permettant la manipulation et l'analyse des données.\n",
    "\n",
    "\n",
    "import seaborn as sns\n",
    "# bibliothèque de visualisation de données basée sur matplotlib.\n",
    "# Il fournit une interface de haut niveau pour dessiner des statistiques attrayantes et informatives.\n",
    "\n",
    "\n",
    "import matplotlib.pyplot as plt\n",
    "%matplotlib inline \n",
    "#Pour Jupyter notebook\n",
    "# bibliothèque complète pour créer des visualisations statiques, animées et interactives.\n",
    "\n",
    "\n",
    "from sklearn.model_selection import train_test_split\n",
    "#Divisez des tableaux ou des matrices en sous-ensembles d'entraînement et de test.\n",
    "\n",
    "\n",
    "from sklearn.preprocessing import StandardScaler\n",
    "# fournit plusieurs fonctions pour transformer les vecteurs de caractéristiques.\n",
    "# Nous en avons besoin pour la Standardisation\n",
    "\n",
    "\n",
    "from functools import partial\n",
    "# pour les fonctions d'ordre supérieur\n",
    "# Renvoie un nouvel objet partiel\n",
    "\n",
    "\n",
    "import tensorflow as tf\n",
    "# Est une bibliothèque logicielle open source pour le calcul numérique haute performance.\n",
    "# Développé à l'origine par des chercheurs et des ingénieurs \n",
    "# de l'équipe Google Brain au sein de l'organisation AI de Google\n",
    "\n",
    "\n",
    "import tensorflow_probability as tfp\n",
    "# Est une bibliothèque pour le raisonnement probabiliste et l'analyse statistique.\n",
    "# permet l'intégration de méthodes probabilistes avec des réseaux profonds.\n",
    "\n",
    "# from thermo.bnn import build_net, chunks, target_log_prob_fn_factory\n",
    "\n",
    "from sklearn.metrics import r2_score\n",
    "# implémente plusieurs fonctions de perte, de score et d'utilité pour mesurer les performances.\n",
    "# Nous en avons besoin pour le calcul de R^2\n",
    "\n",
    "\n",
    "\n",
    "\n",
    "import keras_tuner\n",
    "from tensorflow import keras\n",
    "from tensorflow.keras import layers\n",
    "from kerastuner.tuners import RandomSearch\n",
    "from tensorflow.keras.layers import Dropout\n",
    "from keras.models import Sequential\n",
    "from keras import backend as K\n",
    "import keras\n",
    "from keras.layers import Dense\n",
    "#Pour les réseaux de neurones\n",
    "\n",
    "\n",
    "import warnings\n",
    "warnings.filterwarnings('ignore')\n",
    "# Suppression des messages d'avertissement\n",
    "\n",
    "    \n",
    "import shutil\n",
    "# Opérations sur les répertoires et les fichiers"
   ]
  },
  {
   "cell_type": "markdown",
   "id": "c2826d23",
   "metadata": {},
   "source": [
    "# Lecture des données en python"
   ]
  },
  {
   "cell_type": "markdown",
   "id": "a105c5aa",
   "metadata": {},
   "source": [
    "C'est une étape importante dans l'apprentissage automatique ! Nous devons avoir une bonne compréhension des données et du domaine avant d'essayer d'appliquer un algorithme d'apprentissage automatique."
   ]
  },
  {
   "cell_type": "code",
   "execution_count": 30,
   "id": "7ef9a676",
   "metadata": {},
   "outputs": [
    {
     "data": {
      "text/plain": [
       "(1827, 16)"
      ]
     },
     "execution_count": 30,
     "metadata": {},
     "output_type": "execute_result"
    }
   ],
   "source": [
    "voitures = pd.read_excel('Audinew.xlsx')\n",
    "voitures.shape"
   ]
  },
  {
   "cell_type": "markdown",
   "id": "5cde3efd",
   "metadata": {},
   "source": [
    "Ce fichier contient 1827 données sur les prix des voitures."
   ]
  },
  {
   "cell_type": "code",
   "execution_count": 31,
   "id": "73e930f1",
   "metadata": {},
   "outputs": [
    {
     "name": "stdout",
     "output_type": "stream",
     "text": [
      "Forme Après avoir supprimé les valeurs en double : (1822, 16)\n"
     ]
    }
   ],
   "source": [
    "# Suppression des lignes en double, s'il y en a\n",
    "voitures = voitures.drop_duplicates()\n",
    "print('Forme Après avoir supprimé les valeurs en double :', voitures.shape)"
   ]
  },
  {
   "cell_type": "markdown",
   "id": "4cfe675a",
   "metadata": {},
   "source": [
    "### Traitement des valeurs manquantes"
   ]
  },
  {
   "cell_type": "markdown",
   "id": "024d628a",
   "metadata": {},
   "source": [
    "Les valeurs manquantes sont traitées séparément pour chaque colonne.\n",
    "\n",
    "Si une colonne contient plus de 30 % de données manquantes, le traitement des valeurs manquantes ne peut pas être effectué. Cette colonne doit être rejetée car il manque trop d'informations.\n",
    "\n",
    "Voici des options pour traiter les valeurs manquantes dans les données.\n",
    "\n",
    "- Supprimez les lignes de valeurs manquantes s'il n'y a que quelques enregistrements.\n",
    "\n",
    "- Remplacez les valeurs manquantes par la valeur MEDIANE des variables continues\n",
    "\n",
    "- Remplacez les valeurs manquantes par la valeur MODE pour les variables catégorielles"
   ]
  },
  {
   "cell_type": "code",
   "execution_count": 32,
   "id": "11569741",
   "metadata": {},
   "outputs": [
    {
     "data": {
      "text/plain": [
       "Year               0\n",
       "Name               0\n",
       "price              2\n",
       "Age                0\n",
       "Miles              0\n",
       "Exterior color     0\n",
       "Interior color     0\n",
       "NB-accidents       0\n",
       "NB-Owners          0\n",
       "Type of use        0\n",
       "MPG:CTY            0\n",
       "MPG:HWY            0\n",
       "Engine:capacity    0\n",
       "Engine:Type        0\n",
       " Transmission      0\n",
       "Driven Type        0\n",
       "dtype: int64"
      ]
     },
     "execution_count": 32,
     "metadata": {},
     "output_type": "execute_result"
    }
   ],
   "source": [
    "# Trouver combien de valeurs manquantes il y a pour chaque colonne.\n",
    "voitures.isnull().sum()"
   ]
  },
  {
   "cell_type": "markdown",
   "id": "2138041e",
   "metadata": {},
   "source": [
    "comme nous n'avons que deux valeurs manquantes dans la variable cible, nous décidons de supprimer."
   ]
  },
  {
   "cell_type": "markdown",
   "id": "6a9826cf",
   "metadata": {},
   "source": [
    "#### Suppression des valeurs manquantes"
   ]
  },
  {
   "cell_type": "code",
   "execution_count": 33,
   "id": "09bc0c3a",
   "metadata": {},
   "outputs": [],
   "source": [
    "voitures.dropna(axis=0, how='any', thresh=None, subset=None, inplace=True)"
   ]
  },
  {
   "cell_type": "code",
   "execution_count": 34,
   "id": "f8328336",
   "metadata": {},
   "outputs": [
    {
     "data": {
      "text/plain": [
       "Year               0\n",
       "Name               0\n",
       "price              0\n",
       "Age                0\n",
       "Miles              0\n",
       "Exterior color     0\n",
       "Interior color     0\n",
       "NB-accidents       0\n",
       "NB-Owners          0\n",
       "Type of use        0\n",
       "MPG:CTY            0\n",
       "MPG:HWY            0\n",
       "Engine:capacity    0\n",
       "Engine:Type        0\n",
       " Transmission      0\n",
       "Driven Type        0\n",
       "dtype: int64"
      ]
     },
     "execution_count": 34,
     "metadata": {},
     "output_type": "execute_result"
    }
   ],
   "source": [
    "# Vérifier à nouveau les valeurs manquantes après le traitement\n",
    "voitures.isnull().sum()"
   ]
  },
  {
   "cell_type": "markdown",
   "id": "bcdd840b",
   "metadata": {},
   "source": [
    "### Noms de colonne"
   ]
  },
  {
   "cell_type": "code",
   "execution_count": 35,
   "id": "0c6779ca",
   "metadata": {},
   "outputs": [
    {
     "data": {
      "text/plain": [
       "Index(['Year', 'Name', 'price', 'Age', 'Miles', 'Exterior color',\n",
       "       'Interior color', 'NB-accidents', 'NB-Owners', 'Type of use', 'MPG:CTY',\n",
       "       'MPG:HWY', 'Engine:capacity', 'Engine:Type', ' Transmission',\n",
       "       'Driven Type'],\n",
       "      dtype='object')"
      ]
     },
     "execution_count": 35,
     "metadata": {},
     "output_type": "execute_result"
    }
   ],
   "source": [
    "voitures.columns"
   ]
  },
  {
   "cell_type": "markdown",
   "id": "ef17ed67",
   "metadata": {},
   "source": [
    "### Description des données"
   ]
  },
  {
   "cell_type": "code",
   "execution_count": 36,
   "id": "2a22c655",
   "metadata": {},
   "outputs": [
    {
     "data": {
      "text/html": [
       "<div>\n",
       "<style scoped>\n",
       "    .dataframe tbody tr th:only-of-type {\n",
       "        vertical-align: middle;\n",
       "    }\n",
       "\n",
       "    .dataframe tbody tr th {\n",
       "        vertical-align: top;\n",
       "    }\n",
       "\n",
       "    .dataframe thead th {\n",
       "        text-align: right;\n",
       "    }\n",
       "</style>\n",
       "<table border=\"1\" class=\"dataframe\">\n",
       "  <thead>\n",
       "    <tr style=\"text-align: right;\">\n",
       "      <th></th>\n",
       "      <th>Year</th>\n",
       "      <th>Name</th>\n",
       "      <th>price</th>\n",
       "      <th>Age</th>\n",
       "      <th>Miles</th>\n",
       "      <th>Exterior color</th>\n",
       "      <th>Interior color</th>\n",
       "      <th>NB-accidents</th>\n",
       "      <th>NB-Owners</th>\n",
       "      <th>Type of use</th>\n",
       "      <th>MPG:CTY</th>\n",
       "      <th>MPG:HWY</th>\n",
       "      <th>Engine:capacity</th>\n",
       "      <th>Engine:Type</th>\n",
       "      <th>Transmission</th>\n",
       "      <th>Driven Type</th>\n",
       "    </tr>\n",
       "  </thead>\n",
       "  <tbody>\n",
       "    <tr>\n",
       "      <th>0</th>\n",
       "      <td>2018</td>\n",
       "      <td>Audi Q3</td>\n",
       "      <td>28900.0</td>\n",
       "      <td>4</td>\n",
       "      <td>29390</td>\n",
       "      <td>Blue</td>\n",
       "      <td>Gray</td>\n",
       "      <td>0</td>\n",
       "      <td>1</td>\n",
       "      <td>Personal use</td>\n",
       "      <td>20</td>\n",
       "      <td>28</td>\n",
       "      <td>2.0</td>\n",
       "      <td>Inline-4 Gas Turbocharged</td>\n",
       "      <td>Automatic</td>\n",
       "      <td>FWD</td>\n",
       "    </tr>\n",
       "    <tr>\n",
       "      <th>1</th>\n",
       "      <td>2017</td>\n",
       "      <td>Audi Q7</td>\n",
       "      <td>29999.0</td>\n",
       "      <td>5</td>\n",
       "      <td>70439</td>\n",
       "      <td>Silver</td>\n",
       "      <td>Black</td>\n",
       "      <td>0</td>\n",
       "      <td>2</td>\n",
       "      <td>Fleet use</td>\n",
       "      <td>19</td>\n",
       "      <td>25</td>\n",
       "      <td>3.0</td>\n",
       "      <td>V-6 Gas Supercharged</td>\n",
       "      <td>Automatic</td>\n",
       "      <td>AWD</td>\n",
       "    </tr>\n",
       "    <tr>\n",
       "      <th>2</th>\n",
       "      <td>2019</td>\n",
       "      <td>Audi Q7</td>\n",
       "      <td>40890.0</td>\n",
       "      <td>3</td>\n",
       "      <td>26616</td>\n",
       "      <td>Black</td>\n",
       "      <td>Brown</td>\n",
       "      <td>0</td>\n",
       "      <td>1</td>\n",
       "      <td>Personal use</td>\n",
       "      <td>19</td>\n",
       "      <td>25</td>\n",
       "      <td>2.0</td>\n",
       "      <td>Inline-4 Gas Turbocharged</td>\n",
       "      <td>Automatic</td>\n",
       "      <td>AWD</td>\n",
       "    </tr>\n",
       "    <tr>\n",
       "      <th>3</th>\n",
       "      <td>2019</td>\n",
       "      <td>Audi Q5</td>\n",
       "      <td>30998.0</td>\n",
       "      <td>3</td>\n",
       "      <td>61183</td>\n",
       "      <td>Black</td>\n",
       "      <td>Black</td>\n",
       "      <td>0</td>\n",
       "      <td>2</td>\n",
       "      <td>Personal use</td>\n",
       "      <td>22</td>\n",
       "      <td>27</td>\n",
       "      <td>2.0</td>\n",
       "      <td>Inline-4 Gas Turbocharged</td>\n",
       "      <td>Automatic</td>\n",
       "      <td>AWD</td>\n",
       "    </tr>\n",
       "    <tr>\n",
       "      <th>4</th>\n",
       "      <td>2018</td>\n",
       "      <td>Audi Q3</td>\n",
       "      <td>24500.0</td>\n",
       "      <td>4</td>\n",
       "      <td>46218</td>\n",
       "      <td>White</td>\n",
       "      <td>Black</td>\n",
       "      <td>3</td>\n",
       "      <td>2</td>\n",
       "      <td>Personal use</td>\n",
       "      <td>20</td>\n",
       "      <td>28</td>\n",
       "      <td>2.0</td>\n",
       "      <td>Inline-4 Gas Turbocharged</td>\n",
       "      <td>Automatic</td>\n",
       "      <td>FWD</td>\n",
       "    </tr>\n",
       "  </tbody>\n",
       "</table>\n",
       "</div>"
      ],
      "text/plain": [
       "   Year     Name    price  Age  Miles Exterior color Interior color  \\\n",
       "0  2018  Audi Q3  28900.0    4  29390          Blue           Gray    \n",
       "1  2017  Audi Q7  29999.0    5  70439        Silver          Black    \n",
       "2  2019  Audi Q7  40890.0    3  26616         Black          Brown    \n",
       "3  2019  Audi Q5  30998.0    3  61183         Black          Black    \n",
       "4  2018  Audi Q3  24500.0    4  46218         White          Black    \n",
       "\n",
       "   NB-accidents  NB-Owners    Type of use  MPG:CTY  MPG:HWY  Engine:capacity  \\\n",
       "0             0          1   Personal use       20       28              2.0   \n",
       "1             0          2      Fleet use       19       25              3.0   \n",
       "2             0          1   Personal use       19       25              2.0   \n",
       "3             0          2   Personal use       22       27              2.0   \n",
       "4             3          2   Personal use       20       28              2.0   \n",
       "\n",
       "                 Engine:Type  Transmission Driven Type  \n",
       "0  Inline-4 Gas Turbocharged     Automatic         FWD  \n",
       "1       V-6 Gas Supercharged     Automatic         AWD  \n",
       "2  Inline-4 Gas Turbocharged     Automatic         AWD  \n",
       "3  Inline-4 Gas Turbocharged     Automatic         AWD  \n",
       "4  Inline-4 Gas Turbocharged     Automatic         FWD  "
      ]
     },
     "execution_count": 36,
     "metadata": {},
     "output_type": "execute_result"
    }
   ],
   "source": [
    "voitures.head(5)"
   ]
  },
  {
   "cell_type": "markdown",
   "id": "ff3b13d9",
   "metadata": {},
   "source": [
    "Price : Le prix de la voiture en dollars\n",
    "\n",
    "Age : L'âge de la voiture en année\n",
    "\n",
    "Miles : Combien de KMS la voiture a-t-elle été utilisée\n",
    "\n",
    "Exterior color : Couleur extérieure de la voiture\n",
    "\n",
    "Interior color : Couleur intérieure de la voiture\n",
    "\n",
    "NB-accidents : Le nombre d'accidents de voiture\n",
    "\n",
    "NB-Owners : Le nombre de propriétaires de la voiture\n",
    "\n",
    "Type of use : The number of doors in the car\n",
    "\n",
    "MPG:CTY : la consommation de la voiture (miles par gallon) en ville\n",
    "\n",
    "MPG:HWY : la consommation de la voiture (miles par gallon) sur l'autoroute\n",
    "\n",
    "Engine:capacity : Capacité du moteur en litres\n",
    "\n",
    "'Engine:Type' : Type de moteur\n",
    "\n",
    "'Transmission' : Boîte de vitesses\n",
    "\n",
    "'Driven Type' : différents types de roues motrices"
   ]
  },
  {
   "cell_type": "markdown",
   "id": "b85ad225",
   "metadata": {},
   "source": [
    "### Recherche de valeurs uniques pour chaque colonne"
   ]
  },
  {
   "cell_type": "code",
   "execution_count": 9,
   "id": "2c7b1ec2",
   "metadata": {},
   "outputs": [
    {
     "name": "stdout",
     "output_type": "stream",
     "text": [
      "['Audi Q3' 'Audi Q7' 'Audi Q5' 'Audi Q8' 'Audi RS Q8' 'Audi SQ5'\n",
      " 'Audi SQ7' 'Audi SQ8']\n",
      "[' Personal use' ' Fleet use']\n",
      "['Inline-4 Gas Turbocharged' 'V-6 Gas Supercharged' 'V-6 Gas Turbocharged'\n",
      " 'V-8 Gas Turbocharged' 'V-8 Hybrid Turbocharged'\n",
      " 'V-6 Diesel Turbocharged' 'V-6 Gas' 'V-8 Gas']\n",
      "['  Automatic' '  Manual']\n",
      "['Blue ' 'Silver ' 'Black ' 'White ' 'Gray ' 'Red ' 'Orange ' 'Tan '\n",
      " 'Green ' 'Brown ']\n",
      "[' Gray ' ' Black ' ' Brown ' ' Beige ' ' Red ' ' Orange ']\n",
      "[ 4  5  3  6  1  7  2  8  0  9 10 12 11 15 14]\n",
      "[0 3 1 2]\n",
      "[1 2 3 0 4 5 6]\n",
      "[20 19 22 23 17 13 16 15 18 21 24 12 14]\n",
      "[28 25 27 22 19 24 21 23 26 29 30 20 31 17]\n",
      "[2.  3.  4.  3.2 3.6 4.2]\n"
     ]
    }
   ],
   "source": [
    "print(voitures['Name'].unique())\n",
    "print(voitures['Type of use'].unique())\n",
    "print(voitures['Engine:Type'].unique())\n",
    "print(voitures[' Transmission'].unique())\n",
    "print(voitures['Exterior color'].unique())\n",
    "print(voitures['Interior color'].unique())\n",
    "print(voitures['Age'].unique())\n",
    "print(voitures['NB-accidents'].unique())\n",
    "print(voitures['NB-Owners'].unique())\n",
    "print(voitures['MPG:CTY'].unique())\n",
    "print(voitures['MPG:HWY'].unique())\n",
    "print(voitures['Engine:capacity'].unique())"
   ]
  },
  {
   "cell_type": "markdown",
   "id": "2d3ee9bb",
   "metadata": {},
   "source": [
    "### Regardant la distribution de la variable cible"
   ]
  },
  {
   "cell_type": "code",
   "execution_count": 10,
   "id": "24a91e12",
   "metadata": {},
   "outputs": [
    {
     "data": {
      "text/plain": [
       "<AxesSubplot:>"
      ]
     },
     "execution_count": 10,
     "metadata": {},
     "output_type": "execute_result"
    },
    {
     "data": {
      "image/png": "[encoded data removed]",
      "text/plain": [
       "<Figure size 432x288 with 1 Axes>"
      ]
     },
     "metadata": {
      "needs_background": "light"
     },
     "output_type": "display_data"
    }
   ],
   "source": [
    "%matplotlib inline\n",
    "voitures['price'].hist()"
   ]
  },
  {
   "cell_type": "code",
   "execution_count": 11,
   "id": "1c2d3012",
   "metadata": {},
   "outputs": [
    {
     "data": {
      "image/png": "[encoded data removed]",
      "text/plain": [
       "<Figure size 720x504 with 2 Axes>"
      ]
     },
     "metadata": {
      "needs_background": "light"
     },
     "output_type": "display_data"
    }
   ],
   "source": [
    "fig = plt.figure(figsize=(10,7))\n",
    "fig.add_subplot(2,1,1)\n",
    "sns.distplot(voitures['price'])\n",
    "fig.add_subplot(2,1,2)\n",
    "sns.boxplot(voitures['price'])\n",
    "plt.tight_layout()"
   ]
  },
  {
   "cell_type": "markdown",
   "id": "4412170f",
   "metadata": {},
   "source": [
    "Une courbe en cloche est souhaitable, mais une asymétrie légèrement positive ou négative est également acceptable.\n",
    "La distribution des données de la variable cible est satisfaisante pour aller plus loin. Il existe un nombre suffisant de lignes pour chaque type de valeurs à partir desquelles apprendre."
   ]
  },
  {
   "cell_type": "markdown",
   "id": "b9fdf9f0",
   "metadata": {},
   "source": [
    "## Analyse visuelle des données"
   ]
  },
  {
   "cell_type": "markdown",
   "id": "77fe1002",
   "metadata": {},
   "source": [
    "Variables catégorielles : Bar plot\n",
    "\n",
    "Variables continues : Histogram"
   ]
  },
  {
   "cell_type": "markdown",
   "id": "22320ba8",
   "metadata": {},
   "source": [
    "### Visualisez la distribution de toutes les variables de prédicteur catégoriel dans les données à l'aide de diagrammes à barres"
   ]
  },
  {
   "cell_type": "markdown",
   "id": "3038baa3",
   "metadata": {},
   "source": [
    "Nous pouvons repérer une variable catégorielle dans les données en examinant les valeurs uniques qu'elles contiennent. En règle générale, une variable catégorielle contient moins de 20 valeurs uniques et il y a répétition de valeurs, ce qui signifie que les données peuvent être regroupées par ces valeurs uniques."
   ]
  },
  {
   "cell_type": "markdown",
   "id": "d3069751",
   "metadata": {},
   "source": [
    "Sur la base de l'exploration des données de base ci-dessus, nous avons repéré treize prédicteurs catégoriels dans les données."
   ]
  },
  {
   "cell_type": "markdown",
   "id": "a3bab105",
   "metadata": {},
   "source": [
    "Prédicteurs catégoriels :\n",
    "    \n",
    "'Name', 'Age', 'Exterior color', 'Interior color', 'NB-accidents', 'NB-Owners', 'Type of use', 'MPG:CTY', 'MPG:HWY', 'Engine:capacity',  'Engine:Type', ' Transmission', 'Driven Type' ."
   ]
  },
  {
   "cell_type": "markdown",
   "id": "4f773240",
   "metadata": {},
   "source": [
    "Nous utilisons des graphiques à barres pour voir comment les données sont distribuées pour ces colonnes catégorielles."
   ]
  },
  {
   "cell_type": "code",
   "execution_count": 43,
   "id": "b271954b",
   "metadata": {},
   "outputs": [],
   "source": [
    "# Tracer plusieurs graphiques à barres à la fois pour les variables catégorielles\n",
    "''' Puisqu'il n'y a pas de fonction par défaut qui peut tracer des graphiques à barres \n",
    "    pour plusieurs colonnes à la fois.\n",
    "    nous définissons notre propre fonction pour le même. '''\n",
    "\n",
    "def PlotBarCharts(inpData, colsToPlot):\n",
    "    %matplotlib inline\n",
    "    \n",
    "    fig, subPlot=plt.subplots(nrows=1, ncols=len(colsToPlot), figsize=(20,5))\n",
    "    fig.suptitle('Bar charts of: '+ str(colsToPlot))\n",
    "\n",
    "    for colName, plotNumber in zip(colsToPlot, range(len(colsToPlot))):\n",
    "        inpData.groupby(colName).size().plot(kind='bar',ax=subPlot[plotNumber])"
   ]
  },
  {
   "cell_type": "code",
   "execution_count": 39,
   "id": "82e47db7",
   "metadata": {},
   "outputs": [],
   "source": [
    "#voitures1 = voitures[['Age', 'Exterior color', 'Interior color','NB-accidents',\n",
    "                     #'NB-Owners', 'Type of use','MPG:CTY', 'MPG:HWY', \n",
    "                     #'Engine:capacity','Name', 'Engine:Type', ' Transmission', 'Driven Type']]\n",
    "#voitures1.hist( figsize=(20,15))\n",
    "#plt.show()"
   ]
  },
  {
   "cell_type": "code",
   "execution_count": 44,
   "id": "f666ebde",
   "metadata": {},
   "outputs": [
    {
     "data": {
      "image/png": "[encoded data removed]",
      "text/plain": [
       "<Figure size 1440x360 with 3 Axes>"
      ]
     },
     "metadata": {
      "needs_background": "light"
     },
     "output_type": "display_data"
    }
   ],
   "source": [
    "# Appel de la fonction\n",
    "PlotBarCharts(inpData=voitures, colsToPlot=['Age', 'Exterior color', 'Interior color'])"
   ]
  },
  {
   "cell_type": "code",
   "execution_count": 14,
   "id": "b0408b31",
   "metadata": {},
   "outputs": [
    {
     "data": {
      "image/png": "[encoded data removed]",
      "text/plain": [
       "<Figure size 1440x360 with 3 Axes>"
      ]
     },
     "metadata": {
      "needs_background": "light"
     },
     "output_type": "display_data"
    }
   ],
   "source": [
    "PlotBarCharts(inpData=voitures, colsToPlot=['NB-accidents', 'NB-Owners', 'Type of use'])"
   ]
  },
  {
   "cell_type": "code",
   "execution_count": 15,
   "id": "8bfa78ba",
   "metadata": {},
   "outputs": [
    {
     "data": {
      "image/png": "[encoded data removed]",
      "text/plain": [
       "<Figure size 1440x360 with 3 Axes>"
      ]
     },
     "metadata": {
      "needs_background": "light"
     },
     "output_type": "display_data"
    }
   ],
   "source": [
    "PlotBarCharts(inpData=voitures, colsToPlot=[ 'MPG:CTY', 'MPG:HWY', 'Engine:capacity'])"
   ]
  },
  {
   "cell_type": "code",
   "execution_count": 16,
   "id": "09e70c3a",
   "metadata": {},
   "outputs": [
    {
     "data": {
      "image/png": "[encoded data removed]",
      "text/plain": [
       "<Figure size 1440x360 with 4 Axes>"
      ]
     },
     "metadata": {
      "needs_background": "light"
     },
     "output_type": "display_data"
    }
   ],
   "source": [
    "PlotBarCharts(inpData=voitures, colsToPlot=['Name', 'Engine:Type', ' Transmission', 'Driven Type'])"
   ]
  },
  {
   "cell_type": "markdown",
   "id": "3bd6b7c3",
   "metadata": {},
   "source": [
    "### Interprétation des graphiques à barres"
   ]
  },
  {
   "cell_type": "markdown",
   "id": "bdd832e4",
   "metadata": {},
   "source": [
    "Ces diagrammes à barres représentent les fréquences de chaque catégorie sur l'axe Y et les noms de catégorie sur l'axe X.\n",
    "\n",
    "il y a des colonnes qui montre une distribution trop asymétrique où il n'y a qu'une seule barre dominante et les autres catégories sont présentes en très petit nombre. Ce type de colonnes peut ne pas être très utile dans l'apprentissage automatique. Nous confirmons cela dans la section d'analyse de corrélation et prenons un dernier appel pour sélectionner ou rejeter la colonne.\n",
    "\n",
    "Variables qualitatives sélectionnées : Toutes les variables catégorielles sont sélectionnées pour une analyse plus approfondie."
   ]
  },
  {
   "cell_type": "markdown",
   "id": "f6d76ca6",
   "metadata": {},
   "source": [
    "### Visualisez la distribution de toutes les variables du prédicteur continu dans les données à l'aide d'histogrammes"
   ]
  },
  {
   "cell_type": "markdown",
   "id": "f60f2021",
   "metadata": {},
   "source": [
    "Sur la base de l'exploration des données de base, une variable prédictive continue :\n",
    "\n",
    "'Miles'"
   ]
  },
  {
   "cell_type": "code",
   "execution_count": 17,
   "id": "5e87cc7e",
   "metadata": {},
   "outputs": [
    {
     "data": {
      "text/plain": [
       "array([[<AxesSubplot:title={'center':'Miles'}>]], dtype=object)"
      ]
     },
     "execution_count": 17,
     "metadata": {},
     "output_type": "execute_result"
    },
    {
     "data": {
      "image/png": "[encoded data removed]",
      "text/plain": [
       "<Figure size 720x360 with 1 Axes>"
      ]
     },
     "metadata": {
      "needs_background": "light"
     },
     "output_type": "display_data"
    }
   ],
   "source": [
    "# Tracer des histogrammes de colonne 'Miles'\n",
    "voitures.hist(['Miles'], figsize=(10,5))"
   ]
  },
  {
   "cell_type": "markdown",
   "id": "6c96fdf0",
   "metadata": {},
   "source": [
    "### Interprétation de l'histogramme\n",
    "\n",
    "L'histogramme nous montre la distribution des données pour une seule variable continue.\n",
    "\n",
    "L'axe X montre l'intervalle de valeurs et l'axe Y représente le nombre de valeurs dans cet intervalle. Par exemple, dans l'histogramme ci-dessus de \"Miles\", il y a environ 400 lignes de données qui ont une valeur égale à 50000."
   ]
  },
  {
   "cell_type": "markdown",
   "id": "cca7f716",
   "metadata": {},
   "source": [
    "## Sélection des caractéristiques\n",
    "\n",
    "Maintenant, le temps de choisir enfin les meilleures colonnes (Features) qui sont corrélées à la variable cible."
   ]
  },
  {
   "cell_type": "markdown",
   "id": "299ee625",
   "metadata": {},
   "source": [
    "### Exploration des relations : continu VS continu  – diagrammes de dispersion\n",
    "\n",
    "Lorsque la variable cible est continue et que le prédicteur est également continu, nous pouvons visualiser la relation entre les deux variables à l'aide d'un nuage de points et mesurer la force de la relation à l'aide de la valeur de corrélation de Pearson."
   ]
  },
  {
   "cell_type": "code",
   "execution_count": 18,
   "id": "607cc42e",
   "metadata": {},
   "outputs": [
    {
     "data": {
      "image/png": "[encoded data removed]",
      "text/plain": [
       "<Figure size 720x360 with 1 Axes>"
      ]
     },
     "metadata": {
      "needs_background": "light"
     },
     "output_type": "display_data"
    }
   ],
   "source": [
    "ContinuousCols=['Miles']\n",
    "\n",
    "for predictor in ContinuousCols:\n",
    "    voitures.plot.scatter(x=predictor, y='price', figsize=(10,5), title=predictor+\" VS \"+ 'price')"
   ]
  },
  {
   "cell_type": "markdown",
   "id": "6a4afa57",
   "metadata": {},
   "source": [
    "### Sélection statistique des caractéristiques (continues Vs continues) à l'aide de la valeur de corrélation"
   ]
  },
  {
   "cell_type": "code",
   "execution_count": 20,
   "id": "f0c75193",
   "metadata": {},
   "outputs": [
    {
     "data": {
      "text/html": [
       "<div>\n",
       "<style scoped>\n",
       "    .dataframe tbody tr th:only-of-type {\n",
       "        vertical-align: middle;\n",
       "    }\n",
       "\n",
       "    .dataframe tbody tr th {\n",
       "        vertical-align: top;\n",
       "    }\n",
       "\n",
       "    .dataframe thead th {\n",
       "        text-align: right;\n",
       "    }\n",
       "</style>\n",
       "<table border=\"1\" class=\"dataframe\">\n",
       "  <thead>\n",
       "    <tr style=\"text-align: right;\">\n",
       "      <th></th>\n",
       "      <th>price</th>\n",
       "      <th>Miles</th>\n",
       "    </tr>\n",
       "  </thead>\n",
       "  <tbody>\n",
       "    <tr>\n",
       "      <th>price</th>\n",
       "      <td>1.000000</td>\n",
       "      <td>-0.654413</td>\n",
       "    </tr>\n",
       "    <tr>\n",
       "      <th>Miles</th>\n",
       "      <td>-0.654413</td>\n",
       "      <td>1.000000</td>\n",
       "    </tr>\n",
       "  </tbody>\n",
       "</table>\n",
       "</div>"
      ],
      "text/plain": [
       "          price     Miles\n",
       "price  1.000000 -0.654413\n",
       "Miles -0.654413  1.000000"
      ]
     },
     "execution_count": 20,
     "metadata": {},
     "output_type": "execute_result"
    }
   ],
   "source": [
    "\n",
    "ContinuousCols=['price','Miles']\n",
    "CorrelationData=voitures[ContinuousCols].corr()\n",
    "\n",
    "CorrelationData\n"
   ]
  },
  {
   "cell_type": "code",
   "execution_count": 20,
   "id": "fdc8ab6b",
   "metadata": {},
   "outputs": [
    {
     "data": {
      "text/plain": [
       "price    1.000000\n",
       "Miles   -0.654413\n",
       "Name: price, dtype: float64"
      ]
     },
     "execution_count": 20,
     "metadata": {},
     "output_type": "execute_result"
    }
   ],
   "source": [
    "#Filtrage uniquement des colonnes dont la corrélation absolue est > 0,5 avec la variable cible.\n",
    "CorrelationData['price'][abs(CorrelationData['price']) > 0.5 ]"
   ]
  },
  {
   "cell_type": "markdown",
   "id": "cc614452",
   "metadata": {},
   "source": [
    "Colonnes finales sélectionnées :\n",
    "\n",
    "Miles."
   ]
  },
  {
   "cell_type": "markdown",
   "id": "92590748",
   "metadata": {},
   "source": [
    "### Exploration des relations : catégorielles et continues – Boîtes à moustaches"
   ]
  },
  {
   "cell_type": "code",
   "execution_count": 21,
   "id": "26528fb3",
   "metadata": {},
   "outputs": [
    {
     "data": {
      "image/png": "[encoded data removed]",
      "text/plain": [
       "<Figure size 1296x360 with 3 Axes>"
      ]
     },
     "metadata": {
      "needs_background": "light"
     },
     "output_type": "display_data"
    }
   ],
   "source": [
    "CategoricalColsList=['Age', 'Exterior color', 'Interior color']\n",
    "\n",
    "fig, PlotCanvas=plt.subplots(nrows=1, ncols=len(CategoricalColsList), figsize=(18,5))\n",
    "\n",
    "for PredictorCol , i in zip(CategoricalColsList, range(len(CategoricalColsList))):\n",
    "    voitures.boxplot(column='price', by=PredictorCol, figsize=(5,5), vert=True, ax=PlotCanvas[i])"
   ]
  },
  {
   "cell_type": "code",
   "execution_count": 22,
   "id": "668daecb",
   "metadata": {},
   "outputs": [
    {
     "data": {
      "image/png": "[encoded data removed]",
      "text/plain": [
       "<Figure size 1296x360 with 3 Axes>"
      ]
     },
     "metadata": {
      "needs_background": "light"
     },
     "output_type": "display_data"
    }
   ],
   "source": [
    "\n",
    "CategoricalColsList=['NB-accidents', 'NB-Owners', 'Type of use']\n",
    "\n",
    "fig, PlotCanvas=plt.subplots(nrows=1, ncols=len(CategoricalColsList), figsize=(18,5))\n",
    "\n",
    "for PredictorCol , i in zip(CategoricalColsList, range(len(CategoricalColsList))):\n",
    "    voitures.boxplot(column='price', by=PredictorCol, figsize=(5,5), vert=True, ax=PlotCanvas[i])\n"
   ]
  },
  {
   "cell_type": "code",
   "execution_count": 23,
   "id": "28bfae41",
   "metadata": {},
   "outputs": [
    {
     "data": {
      "image/png": "[encoded data removed]",
      "text/plain": [
       "<Figure size 1296x360 with 3 Axes>"
      ]
     },
     "metadata": {
      "needs_background": "light"
     },
     "output_type": "display_data"
    }
   ],
   "source": [
    "\n",
    "CategoricalColsList=['MPG:CTY', 'MPG:HWY', 'Engine:capacity']\n",
    "\n",
    "fig, PlotCanvas=plt.subplots(nrows=1, ncols=len(CategoricalColsList), figsize=(18,5))\n",
    "\n",
    "for PredictorCol , i in zip(CategoricalColsList, range(len(CategoricalColsList))):\n",
    "    voitures.boxplot(column='price', by=PredictorCol, figsize=(5,5), vert=True, ax=PlotCanvas[i])\n"
   ]
  },
  {
   "cell_type": "code",
   "execution_count": 24,
   "id": "314262e4",
   "metadata": {},
   "outputs": [
    {
     "data": {
      "image/png": "[encoded data removed]",
      "text/plain": [
       "<Figure size 1296x360 with 2 Axes>"
      ]
     },
     "metadata": {
      "needs_background": "light"
     },
     "output_type": "display_data"
    }
   ],
   "source": [
    "\n",
    "CategoricalColsList=['Name', 'Driven Type']\n",
    "\n",
    "fig, PlotCanvas=plt.subplots(nrows=1, ncols=len(CategoricalColsList), figsize=(18,5))\n",
    "\n",
    "for PredictorCol , i in zip(CategoricalColsList, range(len(CategoricalColsList))):\n",
    "    voitures.boxplot(column='price', by=PredictorCol, figsize=(5,5), vert=True, ax=PlotCanvas[i])\n"
   ]
  },
  {
   "cell_type": "code",
   "execution_count": 25,
   "id": "82548c8d",
   "metadata": {},
   "outputs": [
    {
     "data": {
      "image/png": "[encoded data removed]",
      "text/plain": [
       "<Figure size 1296x360 with 2 Axes>"
      ]
     },
     "metadata": {
      "needs_background": "light"
     },
     "output_type": "display_data"
    }
   ],
   "source": [
    "\n",
    "CategoricalColsList=[' Transmission','Engine:Type']\n",
    "\n",
    "fig, PlotCanvas=plt.subplots(nrows=1, ncols=len(CategoricalColsList), figsize=(18,5))\n",
    "\n",
    "for PredictorCol , i in zip(CategoricalColsList, range(len(CategoricalColsList))):\n",
    "    voitures.boxplot(column='price', by=PredictorCol, figsize=(5,5), vert=True, ax=PlotCanvas[i])\n"
   ]
  },
  {
   "cell_type": "markdown",
   "id": "28d35a6c",
   "metadata": {},
   "source": [
    "### Interprétation des boîtes à moustaches"
   ]
  },
  {
   "cell_type": "markdown",
   "id": "c925a562",
   "metadata": {},
   "source": [
    "Ces graphiques donnent une idée de la distribution des données du prédicteur continu sur l'axe des Y pour chacune des catégories sur l'axe des X.\n",
    "\n",
    "Si la distribution semble similaire pour chaque catégorie (les cases sont sur la même ligne), cela signifie que la variable continue n'a aucun effet sur la variable cible. Les variables ne sont donc pas corrélées entre elles.\n",
    "\n",
    "Sélection finale des colonnes catégorielles :\n",
    "\n",
    "'Age', 'NB-Owners', 'MPG:CTY', 'MPG:HWY', 'Engine:capacity', 'Name', 'Driven Type', 'Engine:Type'"
   ]
  },
  {
   "cell_type": "markdown",
   "id": "8beb890b",
   "metadata": {},
   "source": [
    "### Sélection des prédicteurs finaux pour l'apprentissage automatique\n",
    "\n",
    "Sur la base des tests ci-dessus, sélection des colonnes finales pour ML (machine learning)"
   ]
  },
  {
   "cell_type": "code",
   "execution_count": 26,
   "id": "074e4e3f",
   "metadata": {},
   "outputs": [],
   "source": [
    "#Suppression des colonnes inutiles des données\n",
    "voitures.drop(['Year'],axis=1,inplace=True)\n",
    "voitures.drop([' Transmission'],axis=1,inplace=True)\n",
    "voitures.drop(['Exterior color'],axis=1,inplace=True)\n",
    "voitures.drop(['Interior color'],axis=1,inplace=True)\n",
    "voitures.drop(['Type of use'],axis=1,inplace=True)\n",
    "voitures.drop(['NB-accidents'],axis=1,inplace=True)"
   ]
  },
  {
   "cell_type": "code",
   "execution_count": 27,
   "id": "383b9842",
   "metadata": {},
   "outputs": [
    {
     "data": {
      "text/html": [
       "<div>\n",
       "<style scoped>\n",
       "    .dataframe tbody tr th:only-of-type {\n",
       "        vertical-align: middle;\n",
       "    }\n",
       "\n",
       "    .dataframe tbody tr th {\n",
       "        vertical-align: top;\n",
       "    }\n",
       "\n",
       "    .dataframe thead th {\n",
       "        text-align: right;\n",
       "    }\n",
       "</style>\n",
       "<table border=\"1\" class=\"dataframe\">\n",
       "  <thead>\n",
       "    <tr style=\"text-align: right;\">\n",
       "      <th></th>\n",
       "      <th>Name</th>\n",
       "      <th>price</th>\n",
       "      <th>Age</th>\n",
       "      <th>Miles</th>\n",
       "      <th>NB-Owners</th>\n",
       "      <th>MPG:CTY</th>\n",
       "      <th>MPG:HWY</th>\n",
       "      <th>Engine:capacity</th>\n",
       "      <th>Engine:Type</th>\n",
       "      <th>Driven Type</th>\n",
       "    </tr>\n",
       "  </thead>\n",
       "  <tbody>\n",
       "    <tr>\n",
       "      <th>0</th>\n",
       "      <td>Audi Q3</td>\n",
       "      <td>28900.0</td>\n",
       "      <td>4</td>\n",
       "      <td>29390</td>\n",
       "      <td>1</td>\n",
       "      <td>20</td>\n",
       "      <td>28</td>\n",
       "      <td>2.0</td>\n",
       "      <td>Inline-4 Gas Turbocharged</td>\n",
       "      <td>FWD</td>\n",
       "    </tr>\n",
       "    <tr>\n",
       "      <th>1</th>\n",
       "      <td>Audi Q7</td>\n",
       "      <td>29999.0</td>\n",
       "      <td>5</td>\n",
       "      <td>70439</td>\n",
       "      <td>2</td>\n",
       "      <td>19</td>\n",
       "      <td>25</td>\n",
       "      <td>3.0</td>\n",
       "      <td>V-6 Gas Supercharged</td>\n",
       "      <td>AWD</td>\n",
       "    </tr>\n",
       "    <tr>\n",
       "      <th>2</th>\n",
       "      <td>Audi Q7</td>\n",
       "      <td>40890.0</td>\n",
       "      <td>3</td>\n",
       "      <td>26616</td>\n",
       "      <td>1</td>\n",
       "      <td>19</td>\n",
       "      <td>25</td>\n",
       "      <td>2.0</td>\n",
       "      <td>Inline-4 Gas Turbocharged</td>\n",
       "      <td>AWD</td>\n",
       "    </tr>\n",
       "    <tr>\n",
       "      <th>3</th>\n",
       "      <td>Audi Q5</td>\n",
       "      <td>30998.0</td>\n",
       "      <td>3</td>\n",
       "      <td>61183</td>\n",
       "      <td>2</td>\n",
       "      <td>22</td>\n",
       "      <td>27</td>\n",
       "      <td>2.0</td>\n",
       "      <td>Inline-4 Gas Turbocharged</td>\n",
       "      <td>AWD</td>\n",
       "    </tr>\n",
       "    <tr>\n",
       "      <th>4</th>\n",
       "      <td>Audi Q3</td>\n",
       "      <td>24500.0</td>\n",
       "      <td>4</td>\n",
       "      <td>46218</td>\n",
       "      <td>2</td>\n",
       "      <td>20</td>\n",
       "      <td>28</td>\n",
       "      <td>2.0</td>\n",
       "      <td>Inline-4 Gas Turbocharged</td>\n",
       "      <td>FWD</td>\n",
       "    </tr>\n",
       "  </tbody>\n",
       "</table>\n",
       "</div>"
      ],
      "text/plain": [
       "      Name    price  Age  Miles  NB-Owners  MPG:CTY  MPG:HWY  Engine:capacity  \\\n",
       "0  Audi Q3  28900.0    4  29390          1       20       28              2.0   \n",
       "1  Audi Q7  29999.0    5  70439          2       19       25              3.0   \n",
       "2  Audi Q7  40890.0    3  26616          1       19       25              2.0   \n",
       "3  Audi Q5  30998.0    3  61183          2       22       27              2.0   \n",
       "4  Audi Q3  24500.0    4  46218          2       20       28              2.0   \n",
       "\n",
       "                 Engine:Type Driven Type  \n",
       "0  Inline-4 Gas Turbocharged         FWD  \n",
       "1       V-6 Gas Supercharged         AWD  \n",
       "2  Inline-4 Gas Turbocharged         AWD  \n",
       "3  Inline-4 Gas Turbocharged         AWD  \n",
       "4  Inline-4 Gas Turbocharged         FWD  "
      ]
     },
     "execution_count": 27,
     "metadata": {},
     "output_type": "execute_result"
    }
   ],
   "source": [
    "voitures.head()"
   ]
  },
  {
   "cell_type": "markdown",
   "id": "0d216b9d",
   "metadata": {},
   "source": [
    "## Prétraitement des données pour l'apprentissage automatique"
   ]
  },
  {
   "cell_type": "markdown",
   "id": "c5b34370",
   "metadata": {},
   "source": [
    "Conversion de la variable nominale en numérique à l'aide de get_dummies()"
   ]
  },
  {
   "cell_type": "code",
   "execution_count": 28,
   "id": "38802619",
   "metadata": {},
   "outputs": [
    {
     "data": {
      "text/html": [
       "<div>\n",
       "<style scoped>\n",
       "    .dataframe tbody tr th:only-of-type {\n",
       "        vertical-align: middle;\n",
       "    }\n",
       "\n",
       "    .dataframe tbody tr th {\n",
       "        vertical-align: top;\n",
       "    }\n",
       "\n",
       "    .dataframe thead th {\n",
       "        text-align: right;\n",
       "    }\n",
       "</style>\n",
       "<table border=\"1\" class=\"dataframe\">\n",
       "  <thead>\n",
       "    <tr style=\"text-align: right;\">\n",
       "      <th></th>\n",
       "      <th>price</th>\n",
       "      <th>Age</th>\n",
       "      <th>Miles</th>\n",
       "      <th>NB-Owners</th>\n",
       "      <th>MPG:CTY</th>\n",
       "      <th>MPG:HWY</th>\n",
       "      <th>Engine:capacity</th>\n",
       "      <th>Name_Audi Q5</th>\n",
       "      <th>Name_Audi Q7</th>\n",
       "      <th>Name_Audi Q8</th>\n",
       "      <th>...</th>\n",
       "      <th>Name_Audi SQ7</th>\n",
       "      <th>Name_Audi SQ8</th>\n",
       "      <th>Engine:Type_V-6 Diesel Turbocharged</th>\n",
       "      <th>Engine:Type_V-6 Gas</th>\n",
       "      <th>Engine:Type_V-6 Gas Supercharged</th>\n",
       "      <th>Engine:Type_V-6 Gas Turbocharged</th>\n",
       "      <th>Engine:Type_V-8 Gas</th>\n",
       "      <th>Engine:Type_V-8 Gas Turbocharged</th>\n",
       "      <th>Engine:Type_V-8 Hybrid Turbocharged</th>\n",
       "      <th>Driven Type_ FWD</th>\n",
       "    </tr>\n",
       "  </thead>\n",
       "  <tbody>\n",
       "    <tr>\n",
       "      <th>0</th>\n",
       "      <td>28900.0</td>\n",
       "      <td>4</td>\n",
       "      <td>29390</td>\n",
       "      <td>1</td>\n",
       "      <td>20</td>\n",
       "      <td>28</td>\n",
       "      <td>2.0</td>\n",
       "      <td>0</td>\n",
       "      <td>0</td>\n",
       "      <td>0</td>\n",
       "      <td>...</td>\n",
       "      <td>0</td>\n",
       "      <td>0</td>\n",
       "      <td>0</td>\n",
       "      <td>0</td>\n",
       "      <td>0</td>\n",
       "      <td>0</td>\n",
       "      <td>0</td>\n",
       "      <td>0</td>\n",
       "      <td>0</td>\n",
       "      <td>1</td>\n",
       "    </tr>\n",
       "    <tr>\n",
       "      <th>1</th>\n",
       "      <td>29999.0</td>\n",
       "      <td>5</td>\n",
       "      <td>70439</td>\n",
       "      <td>2</td>\n",
       "      <td>19</td>\n",
       "      <td>25</td>\n",
       "      <td>3.0</td>\n",
       "      <td>0</td>\n",
       "      <td>1</td>\n",
       "      <td>0</td>\n",
       "      <td>...</td>\n",
       "      <td>0</td>\n",
       "      <td>0</td>\n",
       "      <td>0</td>\n",
       "      <td>0</td>\n",
       "      <td>1</td>\n",
       "      <td>0</td>\n",
       "      <td>0</td>\n",
       "      <td>0</td>\n",
       "      <td>0</td>\n",
       "      <td>0</td>\n",
       "    </tr>\n",
       "    <tr>\n",
       "      <th>2</th>\n",
       "      <td>40890.0</td>\n",
       "      <td>3</td>\n",
       "      <td>26616</td>\n",
       "      <td>1</td>\n",
       "      <td>19</td>\n",
       "      <td>25</td>\n",
       "      <td>2.0</td>\n",
       "      <td>0</td>\n",
       "      <td>1</td>\n",
       "      <td>0</td>\n",
       "      <td>...</td>\n",
       "      <td>0</td>\n",
       "      <td>0</td>\n",
       "      <td>0</td>\n",
       "      <td>0</td>\n",
       "      <td>0</td>\n",
       "      <td>0</td>\n",
       "      <td>0</td>\n",
       "      <td>0</td>\n",
       "      <td>0</td>\n",
       "      <td>0</td>\n",
       "    </tr>\n",
       "    <tr>\n",
       "      <th>3</th>\n",
       "      <td>30998.0</td>\n",
       "      <td>3</td>\n",
       "      <td>61183</td>\n",
       "      <td>2</td>\n",
       "      <td>22</td>\n",
       "      <td>27</td>\n",
       "      <td>2.0</td>\n",
       "      <td>1</td>\n",
       "      <td>0</td>\n",
       "      <td>0</td>\n",
       "      <td>...</td>\n",
       "      <td>0</td>\n",
       "      <td>0</td>\n",
       "      <td>0</td>\n",
       "      <td>0</td>\n",
       "      <td>0</td>\n",
       "      <td>0</td>\n",
       "      <td>0</td>\n",
       "      <td>0</td>\n",
       "      <td>0</td>\n",
       "      <td>0</td>\n",
       "    </tr>\n",
       "    <tr>\n",
       "      <th>4</th>\n",
       "      <td>24500.0</td>\n",
       "      <td>4</td>\n",
       "      <td>46218</td>\n",
       "      <td>2</td>\n",
       "      <td>20</td>\n",
       "      <td>28</td>\n",
       "      <td>2.0</td>\n",
       "      <td>0</td>\n",
       "      <td>0</td>\n",
       "      <td>0</td>\n",
       "      <td>...</td>\n",
       "      <td>0</td>\n",
       "      <td>0</td>\n",
       "      <td>0</td>\n",
       "      <td>0</td>\n",
       "      <td>0</td>\n",
       "      <td>0</td>\n",
       "      <td>0</td>\n",
       "      <td>0</td>\n",
       "      <td>0</td>\n",
       "      <td>1</td>\n",
       "    </tr>\n",
       "  </tbody>\n",
       "</table>\n",
       "<p>5 rows × 22 columns</p>\n",
       "</div>"
      ],
      "text/plain": [
       "     price  Age  Miles  NB-Owners  MPG:CTY  MPG:HWY  Engine:capacity  \\\n",
       "0  28900.0    4  29390          1       20       28              2.0   \n",
       "1  29999.0    5  70439          2       19       25              3.0   \n",
       "2  40890.0    3  26616          1       19       25              2.0   \n",
       "3  30998.0    3  61183          2       22       27              2.0   \n",
       "4  24500.0    4  46218          2       20       28              2.0   \n",
       "\n",
       "   Name_Audi Q5  Name_Audi Q7  Name_Audi Q8  ...  Name_Audi SQ7  \\\n",
       "0             0             0             0  ...              0   \n",
       "1             0             1             0  ...              0   \n",
       "2             0             1             0  ...              0   \n",
       "3             1             0             0  ...              0   \n",
       "4             0             0             0  ...              0   \n",
       "\n",
       "   Name_Audi SQ8  Engine:Type_V-6 Diesel Turbocharged  Engine:Type_V-6 Gas  \\\n",
       "0              0                                    0                    0   \n",
       "1              0                                    0                    0   \n",
       "2              0                                    0                    0   \n",
       "3              0                                    0                    0   \n",
       "4              0                                    0                    0   \n",
       "\n",
       "   Engine:Type_V-6 Gas Supercharged  Engine:Type_V-6 Gas Turbocharged  \\\n",
       "0                                 0                                 0   \n",
       "1                                 1                                 0   \n",
       "2                                 0                                 0   \n",
       "3                                 0                                 0   \n",
       "4                                 0                                 0   \n",
       "\n",
       "   Engine:Type_V-8 Gas  Engine:Type_V-8 Gas Turbocharged  \\\n",
       "0                    0                                 0   \n",
       "1                    0                                 0   \n",
       "2                    0                                 0   \n",
       "3                    0                                 0   \n",
       "4                    0                                 0   \n",
       "\n",
       "   Engine:Type_V-8 Hybrid Turbocharged  Driven Type_ FWD  \n",
       "0                                    0                 1  \n",
       "1                                    0                 0  \n",
       "2                                    0                 0  \n",
       "3                                    0                 0  \n",
       "4                                    0                 1  \n",
       "\n",
       "[5 rows x 22 columns]"
      ]
     },
     "execution_count": 28,
     "metadata": {},
     "output_type": "execute_result"
    }
   ],
   "source": [
    "DataForML=pd.get_dummies(voitures,drop_first=True)\n",
    "DataForML.head()"
   ]
  },
  {
   "cell_type": "code",
   "execution_count": 29,
   "id": "9c467c9e",
   "metadata": {},
   "outputs": [
    {
     "data": {
      "text/plain": [
       "Index(['price', 'Age', 'Miles', 'NB-Owners', 'MPG:CTY', 'MPG:HWY',\n",
       "       'Engine:capacity', 'Name_Audi Q5', 'Name_Audi Q7', 'Name_Audi Q8',\n",
       "       'Name_Audi RS Q8', 'Name_Audi SQ5', 'Name_Audi SQ7', 'Name_Audi SQ8',\n",
       "       'Engine:Type_V-6 Diesel Turbocharged', 'Engine:Type_V-6 Gas',\n",
       "       'Engine:Type_V-6 Gas Supercharged', 'Engine:Type_V-6 Gas Turbocharged',\n",
       "       'Engine:Type_V-8 Gas', 'Engine:Type_V-8 Gas Turbocharged',\n",
       "       'Engine:Type_V-8 Hybrid Turbocharged', 'Driven Type_ FWD'],\n",
       "      dtype='object')"
      ]
     },
     "execution_count": 29,
     "metadata": {},
     "output_type": "execute_result"
    }
   ],
   "source": [
    "DataForML.columns"
   ]
  },
  {
   "cell_type": "markdown",
   "id": "2787e9d3",
   "metadata": {},
   "source": [
    "### Standardisation/Normalisation des données"
   ]
  },
  {
   "cell_type": "markdown",
   "id": "94c5f02b",
   "metadata": {},
   "source": [
    "Compte tenu de l'utilisation de petits poids dans le modèle et de l'utilisation de l'erreur entre les prédictions et les valeurs attendues, l'échelle des entrées et des sorties utilisées pour former le modèle est un facteur important. Les variables d'entrée non mises à l'échelle peuvent entraîner un processus d'apprentissage lent ou instable, tandis que les variables cibles non mises à l'échelle sur les problèmes de régression peuvent entraîner des gradients explosifs entraînant l'échec du processus d'apprentissage."
   ]
  },
  {
   "cell_type": "code",
   "execution_count": 30,
   "id": "08a81ac1",
   "metadata": {},
   "outputs": [],
   "source": [
    "# Variable cible et variables prédictives séparées\n",
    "TargetVariable=['price']\n",
    "Predictors=['Age', 'Miles', 'NB-Owners', 'MPG:CTY', 'MPG:HWY',\n",
    "       'Engine:capacity', 'Name_Audi Q5', 'Name_Audi Q7', 'Name_Audi Q8',\n",
    "       'Name_Audi RS Q8', 'Name_Audi SQ5', 'Name_Audi SQ7', 'Name_Audi SQ8',\n",
    "       'Engine:Type_V-6 Diesel Turbocharged', 'Engine:Type_V-6 Gas',\n",
    "       'Engine:Type_V-6 Gas Supercharged', 'Engine:Type_V-6 Gas Turbocharged',\n",
    "       'Engine:Type_V-8 Gas', 'Engine:Type_V-8 Gas Turbocharged',\n",
    "       'Engine:Type_V-8 Hybrid Turbocharged', 'Driven Type_ FWD']\n",
    "\n",
    "X=DataForML[Predictors].values\n",
    "y=DataForML[TargetVariable].values\n",
    "\n",
    "# standardisation (z score)\n",
    "PredictorScaler=StandardScaler()\n",
    "TargetVarScaler=StandardScaler()\n",
    "\n",
    "# Stockage de l'objet fit pour référence ultérieure\n",
    "PredictorScalerFit=PredictorScaler.fit(X)\n",
    "TargetVarScalerFit=TargetVarScaler.fit(y)\n",
    "\n",
    "\n",
    "X=PredictorScalerFit.transform(X)\n",
    "y=TargetVarScalerFit.transform(y)"
   ]
  },
  {
   "cell_type": "markdown",
   "id": "876d445e",
   "metadata": {},
   "source": [
    "### Division des données en échantillons d'apprentissage et de test"
   ]
  },
  {
   "cell_type": "markdown",
   "id": "1340f5de",
   "metadata": {},
   "source": [
    "Nous n'utilisons pas les données complètes pour créer le modèle. Certaines données sont sélectionnées au hasard et conservées pour vérifier la qualité du modèle. Ceci est connu sous le nom de données de test et les données restantes sont appelées données d'apprentissage sur lesquelles le modèle est construit."
   ]
  },
  {
   "cell_type": "code",
   "execution_count": 31,
   "id": "97a207c0",
   "metadata": {},
   "outputs": [
    {
     "name": "stdout",
     "output_type": "stream",
     "text": [
      "(1638, 21)\n",
      "(1638, 1)\n",
      "(182, 21)\n",
      "(182, 1)\n"
     ]
    }
   ],
   "source": [
    "X_train, X_test, y_train, y_test = train_test_split(X, y, test_size=0.10, random_state=42)\n",
    "\n",
    "# Vérification de l'intégrité des données échantillonnées\n",
    "print(X_train.shape)\n",
    "print(y_train.shape)\n",
    "print(X_test.shape)\n",
    "print(y_test.shape)"
   ]
  },
  {
   "cell_type": "markdown",
   "id": "bb037771",
   "metadata": {},
   "source": [
    "# Création d'un modèle d'apprentissage profond réseaux de neurones (ANN)"
   ]
  },
  {
   "cell_type": "markdown",
   "id": "1e283c51",
   "metadata": {},
   "source": [
    "## Réglage des hyperparamètres des ANN"
   ]
  },
  {
   "cell_type": "markdown",
   "id": "d183702d",
   "metadata": {},
   "source": [
    "Trouver  le nombre optimal de neurones, le nombre optimal de couches, et les meilleures valeurs pour batch_size et epoch est très important car cela affecte directement les performances du modèle. De mauvaises valeurs peuvent entraîner un surajustement (overfitting) ou un sous-ajustement (underfitting).\n",
    "\n",
    "Il n'y a pas de règle empirique qui puisse vous aider à décider du nombre de couches/nombre de neurones, etc. lors du premier examen des données. Vous devez essayer différents paramètres et choisir la combinaison qui produit la plus grande précision.\n",
    "\n",
    "Gardez simplement à l'esprit que plus le réseau est grand, plus il est intensif en calcul, donc son exécution prendra plus de temps. Donc toujours pour trouver la meilleure précision avec le minimum de couches/neurones."
   ]
  },
  {
   "cell_type": "markdown",
   "id": "4e32bcb8",
   "metadata": {},
   "source": [
    "Avant cela, nous devrions parler de certains des termes dans l'extrait de code ci-dessous"
   ]
  },
  {
   "cell_type": "markdown",
   "id": "6dadf06f",
   "metadata": {},
   "source": [
    "Dans l'extrait de code ci-dessous, le module \"Sequential\" de la bibliothèque Keras est utilisé pour créer une séquence de couches ANN empilées les unes après les autres. Chaque couche est définie à l'aide du module \"Dense\" de Keras où nous spécifions combien de neurones seraient là, quelle technique serait utilisée pour initialiser les poids dans le réseau. quelle sera la fonction d'activation de chaque neurone de cette couche.\n",
    "\n",
    "Comprenons les hyperparamètres dans les extraits de code.\n",
    "\n",
    "#### units= \n",
    "cela signifie le nombre de neurones dans chaque couche cachée\n",
    "\n",
    "#### input_dim= \n",
    "Cela signifie le nombre de prédicteurs dans les données d'entrée qui sont attendus par la première couche.\n",
    "\n",
    "#### kernel_initializer=’normal’:\n",
    "Lorsque les neurones commencent leur calcul, un algorithme doit décider de la valeur de chaque poids. Ce paramètre le précise. Vous pouvez choisir différentes valeurs comme « normal » ou « glorot_uniform ».\n",
    "\n",
    "#### activation=’relu’:\n",
    "Ceci spécifie la fonction d'activation pour les calculs à l'intérieur de chaque neurone. Vous pouvez choisir des valeurs comme « relu », « tanh », « sigmoïde », etc.\n",
    "\n",
    "#### batch_size=\n",
    "Cela spécifie combien de lignes seront transmises au réseau en une seule fois, après quoi le calcul SSE commencera et le réseau de neurones commencera à ajuster ses poids en fonction des erreurs.\n",
    "\n",
    "Lorsque toutes les lignes sont passées dans les batches  de lignes, nous appelons cela 1-epoch. Ou un cycle de données complet. Ceci est également connu sous le nom de descente de gradient en mini-batch. Une petite valeur de batch_size incitera l'ANN à regarder les données lentement, comme 2 lignes à la fois ou 4 lignes à la fois, ce qui pourrait entraîner un surajustement (overfitting), par rapport à une grande valeur comme 20 ou 50 lignes à la fois, ce qui faire en sorte que l'ANN examine rapidement les données, ce qui pourrait entraîner un sous-ajustement (underfitting). Par conséquent, une valeur appropriée doit être choisie en utilisant le réglage des hyperparamètres.\n",
    "\n",
    "#### Epochs=\n",
    "La même activité d'ajustement des pondérations se poursuit 'epochs' fois. En termes simples, l'ANN examine les données d'entraînement complètes 'epochs' fois et ajuste ses pondérations."
   ]
  },
  {
   "cell_type": "markdown",
   "id": "b8df72bd",
   "metadata": {},
   "source": [
    "### Trouver le meilleur ensemble de paramètres à l'aide de RandomSearch()"
   ]
  },
  {
   "cell_type": "markdown",
   "id": "dba7dd34",
   "metadata": {},
   "source": [
    "Cette technique nous permet de contrôler le nombre de tentatives de combinaisons d'hyperparamètres. la recherche aléatoire nous permet de spécifier le nombre de modèles à former. Nous pouvons baser nos itérations de recherche sur nos ressources de calcul ou sur le temps pris par itération.\n",
    "\n",
    "nous allons d'abord essayer de trouver le nombre de couches et de neurones."
   ]
  },
  {
   "cell_type": "code",
   "execution_count": 27,
   "id": "e2831bb6",
   "metadata": {},
   "outputs": [],
   "source": [
    "def build_model(hp):\n",
    "    model = keras.Sequential()\n",
    "    for i in range(hp.Int('num_layers', 2, 5)):\n",
    "        model.add(layers.Dense(units=hp.Int('units_' + str(i),\n",
    "                                            min_value=1,\n",
    "                                            max_value=40,\n",
    "                                            step=1),\n",
    "                               activation='relu'))\n",
    "    model.add(layers.Dense(1, activation='linear'))\n",
    "    model.compile(\n",
    "        optimizer=keras.optimizers.Adam(\n",
    "            hp.Choice('learning_rate', [1e-2, 1e-3, 1e-4])),\n",
    "        loss='mse',\n",
    "        metrics=['mse'])\n",
    "    return model"
   ]
  },
  {
   "cell_type": "code",
   "execution_count": 28,
   "id": "19b7657d",
   "metadata": {},
   "outputs": [],
   "source": [
    "tuner = RandomSearch(\n",
    "    build_model,\n",
    "    objective='val_mse',\n",
    "    max_trials=50,\n",
    "    executions_per_trial=3,\n",
    "    directory='project',\n",
    "    project_name='Air Quality Index')"
   ]
  },
  {
   "cell_type": "code",
   "execution_count": 31,
   "id": "78c6b392",
   "metadata": {},
   "outputs": [
    {
     "name": "stdout",
     "output_type": "stream",
     "text": [
      "Trial 50 Complete [00h 00m 14s]\n",
      "val_mse: 0.04738420993089676\n",
      "\n",
      "Best val_mse So Far: 0.040800224989652634\n",
      "Total elapsed time: 00h 11m 50s\n",
      "INFO:tensorflow:Oracle triggered exit\n"
     ]
    }
   ],
   "source": [
    "tuner.search(X_train, y_train,\n",
    "             epochs=5,\n",
    "             validation_data=(X_test, y_test))"
   ]
  },
  {
   "cell_type": "markdown",
   "id": "c9247ccf",
   "metadata": {},
   "source": [
    "#### voir les 10 meilleurs modèles :"
   ]
  },
  {
   "cell_type": "code",
   "execution_count": 32,
   "id": "f2bff8a9",
   "metadata": {},
   "outputs": [
    {
     "name": "stdout",
     "output_type": "stream",
     "text": [
      "Results summary\n",
      "Results in project\\Air Quality Index\n",
      "Showing 10 best trials\n",
      "<keras_tuner.engine.objective.Objective object at 0x000001BC6D313CA0>\n",
      "Trial summary\n",
      "Hyperparameters:\n",
      "num_layers: 2\n",
      "units_0: 39\n",
      "units_1: 23\n",
      "learning_rate: 0.01\n",
      "units_2: 1\n",
      "units_3: 24\n",
      "units_4: 26\n",
      "Score: 0.040800224989652634\n",
      "Trial summary\n",
      "Hyperparameters:\n",
      "num_layers: 4\n",
      "units_0: 14\n",
      "units_1: 35\n",
      "learning_rate: 0.01\n",
      "units_2: 32\n",
      "units_3: 36\n",
      "units_4: 13\n",
      "Score: 0.04738420993089676\n",
      "Trial summary\n",
      "Hyperparameters:\n",
      "num_layers: 4\n",
      "units_0: 32\n",
      "units_1: 27\n",
      "learning_rate: 0.001\n",
      "units_2: 19\n",
      "units_3: 27\n",
      "units_4: 13\n",
      "Score: 0.048397778222958245\n",
      "Trial summary\n",
      "Hyperparameters:\n",
      "num_layers: 2\n",
      "units_0: 13\n",
      "units_1: 27\n",
      "learning_rate: 0.01\n",
      "units_2: 14\n",
      "units_3: 19\n",
      "units_4: 14\n",
      "Score: 0.04934419939915339\n",
      "Trial summary\n",
      "Hyperparameters:\n",
      "num_layers: 4\n",
      "units_0: 35\n",
      "units_1: 18\n",
      "learning_rate: 0.01\n",
      "units_2: 24\n",
      "units_3: 27\n",
      "Score: 0.049344694862763085\n",
      "Trial summary\n",
      "Hyperparameters:\n",
      "num_layers: 4\n",
      "units_0: 29\n",
      "units_1: 12\n",
      "learning_rate: 0.01\n",
      "units_2: 16\n",
      "units_3: 26\n",
      "units_4: 32\n",
      "Score: 0.049913266052802406\n",
      "Trial summary\n",
      "Hyperparameters:\n",
      "num_layers: 4\n",
      "units_0: 13\n",
      "units_1: 17\n",
      "learning_rate: 0.01\n",
      "units_2: 28\n",
      "units_3: 13\n",
      "units_4: 6\n",
      "Score: 0.05006014183163643\n",
      "Trial summary\n",
      "Hyperparameters:\n",
      "num_layers: 4\n",
      "units_0: 32\n",
      "units_1: 35\n",
      "learning_rate: 0.01\n",
      "units_2: 40\n",
      "units_3: 32\n",
      "units_4: 38\n",
      "Score: 0.05106485386689504\n",
      "Trial summary\n",
      "Hyperparameters:\n",
      "num_layers: 3\n",
      "units_0: 13\n",
      "units_1: 36\n",
      "learning_rate: 0.01\n",
      "units_2: 11\n",
      "units_3: 15\n",
      "units_4: 19\n",
      "Score: 0.053847767412662506\n",
      "Trial summary\n",
      "Hyperparameters:\n",
      "num_layers: 3\n",
      "units_0: 10\n",
      "units_1: 26\n",
      "learning_rate: 0.01\n",
      "units_2: 4\n",
      "units_3: 34\n",
      "units_4: 36\n",
      "Score: 0.054420998940865196\n"
     ]
    }
   ],
   "source": [
    "tuner.results_summary()"
   ]
  },
  {
   "cell_type": "markdown",
   "id": "29219cec",
   "metadata": {},
   "source": [
    "#### trouver les autres hyperparamètres : Epochs, Batch"
   ]
  },
  {
   "cell_type": "code",
   "execution_count": 61,
   "id": "1677d937",
   "metadata": {},
   "outputs": [
    {
     "name": "stdout",
     "output_type": "stream",
     "text": [
      "Epoch 1/5\n",
      "328/328 [==============================] - 1s 3ms/step - loss: 0.3008 - mean_squared_error: 0.3008 - val_loss: 0.0464 - val_mean_squared_error: 0.0464\n",
      "Epoch 2/5\n",
      "328/328 [==============================] - 1s 2ms/step - loss: 0.0363 - mean_squared_error: 0.0363 - val_loss: 0.0402 - val_mean_squared_error: 0.0402\n",
      "Epoch 3/5\n",
      "328/328 [==============================] - 1s 2ms/step - loss: 0.0329 - mean_squared_error: 0.0329 - val_loss: 0.0444 - val_mean_squared_error: 0.0444\n",
      "Epoch 4/5\n",
      "328/328 [==============================] - 1s 3ms/step - loss: 0.0321 - mean_squared_error: 0.0321 - val_loss: 0.0432 - val_mean_squared_error: 0.0432\n",
      "Epoch 5/5\n",
      "328/328 [==============================] - 1s 3ms/step - loss: 0.0327 - mean_squared_error: 0.0327 - val_loss: 0.0393 - val_mean_squared_error: 0.0393\n",
      "6/6 [==============================] - 0s 0s/step - loss: 0.0393 - mean_squared_error: 0.0393\n",
      "Epoch 1/10\n",
      "328/328 [==============================] - 1s 3ms/step - loss: 0.2882 - mean_squared_error: 0.2882 - val_loss: 0.0466 - val_mean_squared_error: 0.0466\n",
      "Epoch 2/10\n",
      "328/328 [==============================] - 1s 2ms/step - loss: 0.0395 - mean_squared_error: 0.0395 - val_loss: 0.0463 - val_mean_squared_error: 0.0463\n",
      "Epoch 3/10\n",
      "328/328 [==============================] - 1s 3ms/step - loss: 0.0333 - mean_squared_error: 0.0333 - val_loss: 0.0530 - val_mean_squared_error: 0.0530\n",
      "Epoch 4/10\n",
      "328/328 [==============================] - 1s 3ms/step - loss: 0.0336 - mean_squared_error: 0.0336 - val_loss: 0.0581 - val_mean_squared_error: 0.0581\n",
      "Epoch 5/10\n",
      "328/328 [==============================] - 1s 3ms/step - loss: 0.0334 - mean_squared_error: 0.0334 - val_loss: 0.0390 - val_mean_squared_error: 0.0390\n",
      "Epoch 6/10\n",
      "328/328 [==============================] - 1s 3ms/step - loss: 0.0319 - mean_squared_error: 0.0319 - val_loss: 0.0469 - val_mean_squared_error: 0.0469\n",
      "Epoch 7/10\n",
      "328/328 [==============================] - 1s 3ms/step - loss: 0.0314 - mean_squared_error: 0.0314 - val_loss: 0.0457 - val_mean_squared_error: 0.0457\n",
      "Epoch 8/10\n",
      "328/328 [==============================] - 1s 2ms/step - loss: 0.0308 - mean_squared_error: 0.0308 - val_loss: 0.0488 - val_mean_squared_error: 0.0488\n",
      "Epoch 9/10\n",
      "328/328 [==============================] - 1s 3ms/step - loss: 0.0334 - mean_squared_error: 0.0334 - val_loss: 0.0536 - val_mean_squared_error: 0.0536\n",
      "Epoch 10/10\n",
      "328/328 [==============================] - 1s 3ms/step - loss: 0.0311 - mean_squared_error: 0.0311 - val_loss: 0.0401 - val_mean_squared_error: 0.0401\n",
      "6/6 [==============================] - 0s 3ms/step - loss: 0.0401 - mean_squared_error: 0.0401\n",
      "Epoch 1/50\n",
      "82/82 [==============================] - 1s 5ms/step - loss: 0.7508 - mean_squared_error: 0.7508 - val_loss: 0.5302 - val_mean_squared_error: 0.5302\n",
      "Epoch 2/50\n",
      "82/82 [==============================] - 0s 3ms/step - loss: 0.1560 - mean_squared_error: 0.1560 - val_loss: 0.1122 - val_mean_squared_error: 0.1122\n",
      "Epoch 3/50\n",
      "82/82 [==============================] - 0s 3ms/step - loss: 0.0391 - mean_squared_error: 0.0391 - val_loss: 0.0452 - val_mean_squared_error: 0.0452\n",
      "Epoch 4/50\n",
      "82/82 [==============================] - 0s 3ms/step - loss: 0.0342 - mean_squared_error: 0.0342 - val_loss: 0.0467 - val_mean_squared_error: 0.0467\n",
      "Epoch 5/50\n",
      "82/82 [==============================] - 0s 3ms/step - loss: 0.0319 - mean_squared_error: 0.0319 - val_loss: 0.0424 - val_mean_squared_error: 0.0424\n",
      "Epoch 6/50\n",
      "82/82 [==============================] - 0s 3ms/step - loss: 0.0313 - mean_squared_error: 0.0313 - val_loss: 0.0411 - val_mean_squared_error: 0.0411\n",
      "Epoch 7/50\n",
      "82/82 [==============================] - 0s 3ms/step - loss: 0.0313 - mean_squared_error: 0.0313 - val_loss: 0.0440 - val_mean_squared_error: 0.0440\n",
      "Epoch 8/50\n",
      "82/82 [==============================] - 0s 3ms/step - loss: 0.0307 - mean_squared_error: 0.0307 - val_loss: 0.0436 - val_mean_squared_error: 0.0436\n",
      "Epoch 9/50\n",
      "82/82 [==============================] - 0s 3ms/step - loss: 0.0305 - mean_squared_error: 0.0305 - val_loss: 0.0413 - val_mean_squared_error: 0.0413\n",
      "Epoch 10/50\n",
      "82/82 [==============================] - 0s 3ms/step - loss: 0.0303 - mean_squared_error: 0.0303 - val_loss: 0.0407 - val_mean_squared_error: 0.0407\n",
      "Epoch 11/50\n",
      "82/82 [==============================] - 0s 3ms/step - loss: 0.0297 - mean_squared_error: 0.0297 - val_loss: 0.0412 - val_mean_squared_error: 0.0412\n",
      "Epoch 12/50\n",
      "82/82 [==============================] - 0s 3ms/step - loss: 0.0304 - mean_squared_error: 0.0304 - val_loss: 0.0420 - val_mean_squared_error: 0.0420\n",
      "Epoch 13/50\n",
      "82/82 [==============================] - 0s 3ms/step - loss: 0.0296 - mean_squared_error: 0.0296 - val_loss: 0.0480 - val_mean_squared_error: 0.0480\n",
      "Epoch 14/50\n",
      "82/82 [==============================] - 0s 3ms/step - loss: 0.0295 - mean_squared_error: 0.0295 - val_loss: 0.0384 - val_mean_squared_error: 0.0384\n",
      "Epoch 15/50\n",
      "82/82 [==============================] - 0s 3ms/step - loss: 0.0289 - mean_squared_error: 0.0289 - val_loss: 0.0408 - val_mean_squared_error: 0.0408\n",
      "Epoch 16/50\n",
      "82/82 [==============================] - 0s 3ms/step - loss: 0.0294 - mean_squared_error: 0.0294 - val_loss: 0.0439 - val_mean_squared_error: 0.0439\n",
      "Epoch 17/50\n",
      "82/82 [==============================] - 0s 3ms/step - loss: 0.0300 - mean_squared_error: 0.0300 - val_loss: 0.0421 - val_mean_squared_error: 0.0421\n",
      "Epoch 18/50\n",
      "82/82 [==============================] - 0s 2ms/step - loss: 0.0291 - mean_squared_error: 0.0291 - val_loss: 0.0391 - val_mean_squared_error: 0.0391\n",
      "Epoch 19/50\n",
      "82/82 [==============================] - 0s 3ms/step - loss: 0.0298 - mean_squared_error: 0.0298 - val_loss: 0.0423 - val_mean_squared_error: 0.0423\n",
      "Epoch 20/50\n",
      "82/82 [==============================] - 0s 3ms/step - loss: 0.0289 - mean_squared_error: 0.0289 - val_loss: 0.0399 - val_mean_squared_error: 0.0399\n",
      "Epoch 21/50\n",
      "82/82 [==============================] - 0s 3ms/step - loss: 0.0294 - mean_squared_error: 0.0294 - val_loss: 0.0396 - val_mean_squared_error: 0.0396\n",
      "Epoch 22/50\n",
      "82/82 [==============================] - 0s 2ms/step - loss: 0.0290 - mean_squared_error: 0.0290 - val_loss: 0.0419 - val_mean_squared_error: 0.0419\n",
      "Epoch 23/50\n",
      "82/82 [==============================] - 0s 3ms/step - loss: 0.0277 - mean_squared_error: 0.0277 - val_loss: 0.0426 - val_mean_squared_error: 0.0426\n",
      "Epoch 24/50\n",
      "82/82 [==============================] - 0s 3ms/step - loss: 0.0288 - mean_squared_error: 0.0288 - val_loss: 0.0414 - val_mean_squared_error: 0.0414\n",
      "Epoch 25/50\n",
      "82/82 [==============================] - 0s 3ms/step - loss: 0.0288 - mean_squared_error: 0.0288 - val_loss: 0.0458 - val_mean_squared_error: 0.0458\n",
      "Epoch 26/50\n",
      "82/82 [==============================] - 0s 3ms/step - loss: 0.0277 - mean_squared_error: 0.0277 - val_loss: 0.0384 - val_mean_squared_error: 0.0384\n",
      "Epoch 27/50\n",
      "82/82 [==============================] - 0s 3ms/step - loss: 0.0282 - mean_squared_error: 0.0282 - val_loss: 0.0448 - val_mean_squared_error: 0.0448\n",
      "Epoch 28/50\n",
      "82/82 [==============================] - 0s 3ms/step - loss: 0.0283 - mean_squared_error: 0.0283 - val_loss: 0.0418 - val_mean_squared_error: 0.0418\n",
      "Epoch 29/50\n",
      "82/82 [==============================] - 0s 3ms/step - loss: 0.0288 - mean_squared_error: 0.0288 - val_loss: 0.0389 - val_mean_squared_error: 0.0389\n",
      "Epoch 30/50\n",
      "82/82 [==============================] - 0s 3ms/step - loss: 0.0288 - mean_squared_error: 0.0288 - val_loss: 0.0456 - val_mean_squared_error: 0.0456\n",
      "Epoch 31/50\n",
      "82/82 [==============================] - 0s 2ms/step - loss: 0.0282 - mean_squared_error: 0.0282 - val_loss: 0.0420 - val_mean_squared_error: 0.0420\n",
      "Epoch 32/50\n",
      "82/82 [==============================] - 0s 3ms/step - loss: 0.0288 - mean_squared_error: 0.0288 - val_loss: 0.0410 - val_mean_squared_error: 0.0410\n",
      "Epoch 33/50\n",
      "82/82 [==============================] - 0s 3ms/step - loss: 0.0279 - mean_squared_error: 0.0279 - val_loss: 0.0467 - val_mean_squared_error: 0.0467\n",
      "Epoch 34/50\n",
      "82/82 [==============================] - 0s 3ms/step - loss: 0.0278 - mean_squared_error: 0.0278 - val_loss: 0.0462 - val_mean_squared_error: 0.0462\n",
      "Epoch 35/50\n",
      "82/82 [==============================] - 0s 3ms/step - loss: 0.0278 - mean_squared_error: 0.0278 - val_loss: 0.0407 - val_mean_squared_error: 0.0407\n"
     ]
    },
    {
     "name": "stdout",
     "output_type": "stream",
     "text": [
      "Epoch 36/50\n",
      "82/82 [==============================] - 0s 3ms/step - loss: 0.0279 - mean_squared_error: 0.0279 - val_loss: 0.0383 - val_mean_squared_error: 0.0383\n",
      "Epoch 37/50\n",
      "82/82 [==============================] - 0s 3ms/step - loss: 0.0282 - mean_squared_error: 0.0282 - val_loss: 0.0438 - val_mean_squared_error: 0.0438\n",
      "Epoch 38/50\n",
      "82/82 [==============================] - 0s 3ms/step - loss: 0.0277 - mean_squared_error: 0.0277 - val_loss: 0.0419 - val_mean_squared_error: 0.0419\n",
      "Epoch 39/50\n",
      "82/82 [==============================] - 0s 2ms/step - loss: 0.0286 - mean_squared_error: 0.0286 - val_loss: 0.0408 - val_mean_squared_error: 0.0408\n",
      "Epoch 40/50\n",
      "82/82 [==============================] - 0s 3ms/step - loss: 0.0284 - mean_squared_error: 0.0284 - val_loss: 0.0447 - val_mean_squared_error: 0.0447\n",
      "Epoch 41/50\n",
      "82/82 [==============================] - 0s 3ms/step - loss: 0.0291 - mean_squared_error: 0.0291 - val_loss: 0.0383 - val_mean_squared_error: 0.0383\n",
      "Epoch 42/50\n",
      "82/82 [==============================] - 0s 3ms/step - loss: 0.0274 - mean_squared_error: 0.0274 - val_loss: 0.0419 - val_mean_squared_error: 0.0419\n",
      "Epoch 43/50\n",
      "82/82 [==============================] - 0s 3ms/step - loss: 0.0288 - mean_squared_error: 0.0288 - val_loss: 0.0412 - val_mean_squared_error: 0.0412\n",
      "Epoch 44/50\n",
      "82/82 [==============================] - 0s 3ms/step - loss: 0.0282 - mean_squared_error: 0.0282 - val_loss: 0.0409 - val_mean_squared_error: 0.0409\n",
      "Epoch 45/50\n",
      "82/82 [==============================] - 0s 3ms/step - loss: 0.0280 - mean_squared_error: 0.0280 - val_loss: 0.0414 - val_mean_squared_error: 0.0414\n",
      "Epoch 46/50\n",
      "82/82 [==============================] - 0s 3ms/step - loss: 0.0286 - mean_squared_error: 0.0286 - val_loss: 0.0431 - val_mean_squared_error: 0.0431\n",
      "Epoch 47/50\n",
      "82/82 [==============================] - 0s 3ms/step - loss: 0.0273 - mean_squared_error: 0.0273 - val_loss: 0.0400 - val_mean_squared_error: 0.0400\n",
      "Epoch 48/50\n",
      "82/82 [==============================] - 0s 2ms/step - loss: 0.0278 - mean_squared_error: 0.0278 - val_loss: 0.0404 - val_mean_squared_error: 0.0404\n",
      "Epoch 49/50\n",
      "82/82 [==============================] - 0s 3ms/step - loss: 0.0272 - mean_squared_error: 0.0272 - val_loss: 0.0417 - val_mean_squared_error: 0.0417\n",
      "Epoch 50/50\n",
      "82/82 [==============================] - 0s 3ms/step - loss: 0.0280 - mean_squared_error: 0.0280 - val_loss: 0.0415 - val_mean_squared_error: 0.0415\n",
      "6/6 [==============================] - 0s 3ms/step - loss: 0.0415 - mean_squared_error: 0.0415\n",
      "Epoch 1/5\n",
      "328/328 [==============================] - 2s 3ms/step - loss: 0.3426 - mean_squared_error: 0.3426 - val_loss: 0.0427 - val_mean_squared_error: 0.0427\n",
      "Epoch 2/5\n",
      "328/328 [==============================] - 1s 3ms/step - loss: 0.0403 - mean_squared_error: 0.0403 - val_loss: 0.0591 - val_mean_squared_error: 0.0591\n",
      "Epoch 3/5\n",
      "328/328 [==============================] - 1s 3ms/step - loss: 0.0376 - mean_squared_error: 0.0376 - val_loss: 0.0366 - val_mean_squared_error: 0.0366\n",
      "Epoch 4/5\n",
      "328/328 [==============================] - 1s 2ms/step - loss: 0.0343 - mean_squared_error: 0.0343 - val_loss: 0.0339 - val_mean_squared_error: 0.0339\n",
      "Epoch 5/5\n",
      "328/328 [==============================] - 1s 3ms/step - loss: 0.0337 - mean_squared_error: 0.0337 - val_loss: 0.0352 - val_mean_squared_error: 0.0352\n",
      "6/6 [==============================] - 0s 1ms/step - loss: 0.0352 - mean_squared_error: 0.0352\n",
      "Epoch 1/50\n",
      "82/82 [==============================] - 1s 4ms/step - loss: 0.6891 - mean_squared_error: 0.6891 - val_loss: 0.2613 - val_mean_squared_error: 0.2613\n",
      "Epoch 2/50\n",
      "82/82 [==============================] - 0s 3ms/step - loss: 0.0997 - mean_squared_error: 0.0997 - val_loss: 0.0479 - val_mean_squared_error: 0.0479\n",
      "Epoch 3/50\n",
      "82/82 [==============================] - 0s 3ms/step - loss: 0.0397 - mean_squared_error: 0.0397 - val_loss: 0.0396 - val_mean_squared_error: 0.0396\n",
      "Epoch 4/50\n",
      "82/82 [==============================] - 0s 3ms/step - loss: 0.0352 - mean_squared_error: 0.0352 - val_loss: 0.0427 - val_mean_squared_error: 0.0427\n",
      "Epoch 5/50\n",
      "82/82 [==============================] - 0s 3ms/step - loss: 0.0343 - mean_squared_error: 0.0343 - val_loss: 0.0359 - val_mean_squared_error: 0.0359\n",
      "Epoch 6/50\n",
      "82/82 [==============================] - 0s 3ms/step - loss: 0.0314 - mean_squared_error: 0.0314 - val_loss: 0.0359 - val_mean_squared_error: 0.0359\n",
      "Epoch 7/50\n",
      "82/82 [==============================] - 0s 3ms/step - loss: 0.0316 - mean_squared_error: 0.0316 - val_loss: 0.0374 - val_mean_squared_error: 0.0374\n",
      "Epoch 8/50\n",
      "82/82 [==============================] - 0s 2ms/step - loss: 0.0308 - mean_squared_error: 0.0308 - val_loss: 0.0372 - val_mean_squared_error: 0.0372\n",
      "Epoch 9/50\n",
      "82/82 [==============================] - 0s 2ms/step - loss: 0.0313 - mean_squared_error: 0.0313 - val_loss: 0.0365 - val_mean_squared_error: 0.0365\n",
      "Epoch 10/50\n",
      "82/82 [==============================] - 0s 3ms/step - loss: 0.0299 - mean_squared_error: 0.0299 - val_loss: 0.0369 - val_mean_squared_error: 0.0369\n",
      "Epoch 11/50\n",
      "82/82 [==============================] - 0s 3ms/step - loss: 0.0306 - mean_squared_error: 0.0306 - val_loss: 0.0342 - val_mean_squared_error: 0.0342\n",
      "Epoch 12/50\n",
      "82/82 [==============================] - 0s 3ms/step - loss: 0.0306 - mean_squared_error: 0.0306 - val_loss: 0.0358 - val_mean_squared_error: 0.0358\n",
      "Epoch 13/50\n",
      "82/82 [==============================] - 0s 3ms/step - loss: 0.0297 - mean_squared_error: 0.0297 - val_loss: 0.0350 - val_mean_squared_error: 0.0350\n",
      "Epoch 14/50\n",
      "82/82 [==============================] - 0s 3ms/step - loss: 0.0302 - mean_squared_error: 0.0302 - val_loss: 0.0351 - val_mean_squared_error: 0.0351\n",
      "Epoch 15/50\n",
      "82/82 [==============================] - 0s 3ms/step - loss: 0.0306 - mean_squared_error: 0.0306 - val_loss: 0.0368 - val_mean_squared_error: 0.0368\n",
      "Epoch 16/50\n",
      "82/82 [==============================] - 0s 3ms/step - loss: 0.0307 - mean_squared_error: 0.0307 - val_loss: 0.0365 - val_mean_squared_error: 0.0365\n",
      "Epoch 17/50\n",
      "82/82 [==============================] - 0s 3ms/step - loss: 0.0300 - mean_squared_error: 0.0300 - val_loss: 0.0357 - val_mean_squared_error: 0.0357\n",
      "Epoch 18/50\n",
      "82/82 [==============================] - 0s 3ms/step - loss: 0.0290 - mean_squared_error: 0.0290 - val_loss: 0.0350 - val_mean_squared_error: 0.0350\n",
      "Epoch 19/50\n",
      "82/82 [==============================] - 0s 3ms/step - loss: 0.0295 - mean_squared_error: 0.0295 - val_loss: 0.0377 - val_mean_squared_error: 0.0377\n",
      "Epoch 20/50\n",
      "82/82 [==============================] - 0s 3ms/step - loss: 0.0299 - mean_squared_error: 0.0299 - val_loss: 0.0369 - val_mean_squared_error: 0.0369\n",
      "Epoch 21/50\n",
      "82/82 [==============================] - 0s 3ms/step - loss: 0.0289 - mean_squared_error: 0.0289 - val_loss: 0.0364 - val_mean_squared_error: 0.0364\n",
      "Epoch 22/50\n",
      "82/82 [==============================] - 0s 3ms/step - loss: 0.0289 - mean_squared_error: 0.0289 - val_loss: 0.0340 - val_mean_squared_error: 0.0340\n",
      "Epoch 23/50\n",
      "82/82 [==============================] - 0s 3ms/step - loss: 0.0287 - mean_squared_error: 0.0287 - val_loss: 0.0351 - val_mean_squared_error: 0.0351\n",
      "Epoch 24/50\n",
      "82/82 [==============================] - 0s 3ms/step - loss: 0.0292 - mean_squared_error: 0.0292 - val_loss: 0.0347 - val_mean_squared_error: 0.0347\n",
      "Epoch 25/50\n",
      "82/82 [==============================] - 0s 3ms/step - loss: 0.0283 - mean_squared_error: 0.0283 - val_loss: 0.0349 - val_mean_squared_error: 0.0349\n",
      "Epoch 26/50\n",
      "82/82 [==============================] - 0s 3ms/step - loss: 0.0301 - mean_squared_error: 0.0301 - val_loss: 0.0338 - val_mean_squared_error: 0.0338\n",
      "Epoch 27/50\n",
      "82/82 [==============================] - 0s 3ms/step - loss: 0.0293 - mean_squared_error: 0.0293 - val_loss: 0.0345 - val_mean_squared_error: 0.0345\n",
      "Epoch 28/50\n",
      "82/82 [==============================] - 0s 3ms/step - loss: 0.0284 - mean_squared_error: 0.0284 - val_loss: 0.0377 - val_mean_squared_error: 0.0377\n",
      "Epoch 29/50\n",
      "82/82 [==============================] - 0s 3ms/step - loss: 0.0286 - mean_squared_error: 0.0286 - val_loss: 0.0356 - val_mean_squared_error: 0.0356\n",
      "Epoch 30/50\n",
      "82/82 [==============================] - 0s 3ms/step - loss: 0.0290 - mean_squared_error: 0.0290 - val_loss: 0.0340 - val_mean_squared_error: 0.0340\n"
     ]
    },
    {
     "name": "stdout",
     "output_type": "stream",
     "text": [
      "Epoch 31/50\n",
      "82/82 [==============================] - 0s 3ms/step - loss: 0.0292 - mean_squared_error: 0.0292 - val_loss: 0.0353 - val_mean_squared_error: 0.0353\n",
      "Epoch 32/50\n",
      "82/82 [==============================] - 0s 3ms/step - loss: 0.0296 - mean_squared_error: 0.0296 - val_loss: 0.0346 - val_mean_squared_error: 0.0346\n",
      "Epoch 33/50\n",
      "82/82 [==============================] - 0s 3ms/step - loss: 0.0305 - mean_squared_error: 0.0305 - val_loss: 0.0349 - val_mean_squared_error: 0.0349\n",
      "Epoch 34/50\n",
      "82/82 [==============================] - 0s 3ms/step - loss: 0.0285 - mean_squared_error: 0.0285 - val_loss: 0.0336 - val_mean_squared_error: 0.0336\n",
      "Epoch 35/50\n",
      "82/82 [==============================] - 0s 3ms/step - loss: 0.0278 - mean_squared_error: 0.0278 - val_loss: 0.0362 - val_mean_squared_error: 0.0362\n",
      "Epoch 36/50\n",
      "82/82 [==============================] - 0s 2ms/step - loss: 0.0278 - mean_squared_error: 0.0278 - val_loss: 0.0399 - val_mean_squared_error: 0.0399\n",
      "Epoch 37/50\n",
      "82/82 [==============================] - 0s 3ms/step - loss: 0.0292 - mean_squared_error: 0.0292 - val_loss: 0.0392 - val_mean_squared_error: 0.0392\n",
      "Epoch 38/50\n",
      "82/82 [==============================] - 0s 3ms/step - loss: 0.0284 - mean_squared_error: 0.0284 - val_loss: 0.0355 - val_mean_squared_error: 0.0355\n",
      "Epoch 39/50\n",
      "82/82 [==============================] - 0s 4ms/step - loss: 0.0280 - mean_squared_error: 0.0280 - val_loss: 0.0354 - val_mean_squared_error: 0.0354\n",
      "Epoch 40/50\n",
      "82/82 [==============================] - 0s 3ms/step - loss: 0.0285 - mean_squared_error: 0.0285 - val_loss: 0.0360 - val_mean_squared_error: 0.0360\n",
      "Epoch 41/50\n",
      "82/82 [==============================] - 0s 3ms/step - loss: 0.0289 - mean_squared_error: 0.0289 - val_loss: 0.0376 - val_mean_squared_error: 0.0376\n",
      "Epoch 42/50\n",
      "82/82 [==============================] - 0s 3ms/step - loss: 0.0285 - mean_squared_error: 0.0285 - val_loss: 0.0386 - val_mean_squared_error: 0.0386\n",
      "Epoch 43/50\n",
      "82/82 [==============================] - 0s 4ms/step - loss: 0.0283 - mean_squared_error: 0.0283 - val_loss: 0.0366 - val_mean_squared_error: 0.0366\n",
      "Epoch 44/50\n",
      "82/82 [==============================] - 0s 3ms/step - loss: 0.0296 - mean_squared_error: 0.0296 - val_loss: 0.0344 - val_mean_squared_error: 0.0344\n",
      "Epoch 45/50\n",
      "82/82 [==============================] - 0s 3ms/step - loss: 0.0288 - mean_squared_error: 0.0288 - val_loss: 0.0343 - val_mean_squared_error: 0.0343\n",
      "Epoch 46/50\n",
      "82/82 [==============================] - 0s 3ms/step - loss: 0.0280 - mean_squared_error: 0.0280 - val_loss: 0.0354 - val_mean_squared_error: 0.0354\n",
      "Epoch 47/50\n",
      "82/82 [==============================] - 0s 3ms/step - loss: 0.0281 - mean_squared_error: 0.0281 - val_loss: 0.0348 - val_mean_squared_error: 0.0348\n",
      "Epoch 48/50\n",
      "82/82 [==============================] - 0s 3ms/step - loss: 0.0280 - mean_squared_error: 0.0280 - val_loss: 0.0346 - val_mean_squared_error: 0.0346\n",
      "Epoch 49/50\n",
      "82/82 [==============================] - 0s 3ms/step - loss: 0.0289 - mean_squared_error: 0.0289 - val_loss: 0.0356 - val_mean_squared_error: 0.0356\n",
      "Epoch 50/50\n",
      "82/82 [==============================] - 0s 3ms/step - loss: 0.0282 - mean_squared_error: 0.0282 - val_loss: 0.0368 - val_mean_squared_error: 0.0368\n",
      "6/6 [==============================] - 0s 0s/step - loss: 0.0368 - mean_squared_error: 0.0368\n"
     ]
    },
    {
     "ename": "SyntaxError",
     "evalue": "'return' outside function (2477551988.py, line 35)",
     "output_type": "error",
     "traceback": [
      "\u001b[1;36m  Input \u001b[1;32mIn [61]\u001b[1;36m\u001b[0m\n\u001b[1;33m    return(SearchResultsData)\u001b[0m\n\u001b[1;37m    ^\u001b[0m\n\u001b[1;31mSyntaxError\u001b[0m\u001b[1;31m:\u001b[0m 'return' outside function\n"
     ]
    }
   ],
   "source": [
    "SearchResultsData=pd.DataFrame(columns=['Epochs', 'Batch','random_state', 'MSE'])\n",
    "\n",
    "for epochs_trail, batch_trail, Rd_state in [[5,5,42],[10,5,42],[50,20,42],[5,5,100],[50,20,100]] :\n",
    "    \n",
    "    X_train, X_test, y_train, y_test = train_test_split(X, y, test_size=0.10, random_state=Rd_state)\n",
    "    \n",
    "    model = Sequential()\n",
    "\n",
    "    model.add(Dense(units=39, input_dim=X_train.shape[-1], kernel_initializer='normal', activation='relu'))\n",
    "\n",
    "\n",
    "    model.add(Dense(units=23, kernel_initializer='normal', activation='relu'))\n",
    "\n",
    "\n",
    "    model.add(Dense(1, kernel_initializer='normal'))\n",
    "\n",
    "    \n",
    "    model.compile(loss='mse', optimizer='adam', metrics=[tf.keras.metrics.MeanSquaredError()])\n",
    "    \n",
    "    model.fit(X_train, y_train, verbose=1, epochs = epochs_trail, batch_size=batch_trail,\n",
    "                   validation_data=(X_test,y_test))\n",
    "    _, MSE = model.evaluate(X_test,y_test)\n",
    "    \n",
    "    SearchResultsData=SearchResultsData.append(pd.DataFrame(data=[[epochs_trail, batch_trail, Rd_state, MSE]],\n",
    "                                                                    columns=['Epochs', 'Batch','random_state', 'MSE'] ))\n",
    "return(SearchResultsData)   \n",
    "    "
   ]
  },
  {
   "cell_type": "code",
   "execution_count": 62,
   "id": "532a67c1",
   "metadata": {},
   "outputs": [
    {
     "data": {
      "text/html": [
       "<div>\n",
       "<style scoped>\n",
       "    .dataframe tbody tr th:only-of-type {\n",
       "        vertical-align: middle;\n",
       "    }\n",
       "\n",
       "    .dataframe tbody tr th {\n",
       "        vertical-align: top;\n",
       "    }\n",
       "\n",
       "    .dataframe thead th {\n",
       "        text-align: right;\n",
       "    }\n",
       "</style>\n",
       "<table border=\"1\" class=\"dataframe\">\n",
       "  <thead>\n",
       "    <tr style=\"text-align: right;\">\n",
       "      <th></th>\n",
       "      <th>Epochs</th>\n",
       "      <th>Batch</th>\n",
       "      <th>random_state</th>\n",
       "      <th>MSE</th>\n",
       "    </tr>\n",
       "  </thead>\n",
       "  <tbody>\n",
       "    <tr>\n",
       "      <th>0</th>\n",
       "      <td>5</td>\n",
       "      <td>5</td>\n",
       "      <td>42</td>\n",
       "      <td>0.039260</td>\n",
       "    </tr>\n",
       "    <tr>\n",
       "      <th>0</th>\n",
       "      <td>10</td>\n",
       "      <td>5</td>\n",
       "      <td>42</td>\n",
       "      <td>0.040118</td>\n",
       "    </tr>\n",
       "    <tr>\n",
       "      <th>0</th>\n",
       "      <td>50</td>\n",
       "      <td>20</td>\n",
       "      <td>42</td>\n",
       "      <td>0.041498</td>\n",
       "    </tr>\n",
       "    <tr>\n",
       "      <th>0</th>\n",
       "      <td>5</td>\n",
       "      <td>5</td>\n",
       "      <td>100</td>\n",
       "      <td>0.035155</td>\n",
       "    </tr>\n",
       "    <tr>\n",
       "      <th>0</th>\n",
       "      <td>50</td>\n",
       "      <td>20</td>\n",
       "      <td>100</td>\n",
       "      <td>0.036752</td>\n",
       "    </tr>\n",
       "  </tbody>\n",
       "</table>\n",
       "</div>"
      ],
      "text/plain": [
       "  Epochs Batch random_state       MSE\n",
       "0      5     5           42  0.039260\n",
       "0     10     5           42  0.040118\n",
       "0     50    20           42  0.041498\n",
       "0      5     5          100  0.035155\n",
       "0     50    20          100  0.036752"
      ]
     },
     "execution_count": 62,
     "metadata": {},
     "output_type": "execute_result"
    }
   ],
   "source": [
    "SearchResultsData"
   ]
  },
  {
   "cell_type": "markdown",
   "id": "730ea2bf",
   "metadata": {},
   "source": [
    "d'après le tableau ci-dessus, le meilleur modèle est : \n",
    " le modèle qui a Epochs = 5, Batch = 5, random_state = 100"
   ]
  },
  {
   "cell_type": "code",
   "execution_count": 64,
   "id": "477b4b6a",
   "metadata": {},
   "outputs": [
    {
     "name": "stdout",
     "output_type": "stream",
     "text": [
      "Epoch 1/5\n",
      "328/328 [==============================] - 1s 3ms/step - loss: 0.4509 - mean_squared_error: 0.4509 - val_loss: 0.2651 - val_mean_squared_error: 0.2651\n",
      "Epoch 2/5\n",
      "328/328 [==============================] - 1s 3ms/step - loss: 0.0823 - mean_squared_error: 0.0823 - val_loss: 0.0774 - val_mean_squared_error: 0.0774\n",
      "Epoch 3/5\n",
      "328/328 [==============================] - 1s 2ms/step - loss: 0.0428 - mean_squared_error: 0.0428 - val_loss: 0.0494 - val_mean_squared_error: 0.0494\n",
      "Epoch 4/5\n",
      "328/328 [==============================] - 1s 2ms/step - loss: 0.0355 - mean_squared_error: 0.0355 - val_loss: 0.0466 - val_mean_squared_error: 0.0466\n",
      "Epoch 5/5\n",
      "328/328 [==============================] - 1s 2ms/step - loss: 0.0339 - mean_squared_error: 0.0339 - val_loss: 0.0495 - val_mean_squared_error: 0.0495\n",
      "6/6 [==============================] - 0s 0s/step - loss: 0.0495 - mean_squared_error: 0.0495\n",
      "Epoch 1/10\n",
      "328/328 [==============================] - 1s 3ms/step - loss: 0.3899 - mean_squared_error: 0.3899 - val_loss: 0.0749 - val_mean_squared_error: 0.0749\n",
      "Epoch 2/10\n",
      "328/328 [==============================] - 1s 2ms/step - loss: 0.0398 - mean_squared_error: 0.0398 - val_loss: 0.0561 - val_mean_squared_error: 0.0561\n",
      "Epoch 3/10\n",
      "328/328 [==============================] - 1s 3ms/step - loss: 0.0329 - mean_squared_error: 0.0329 - val_loss: 0.0510 - val_mean_squared_error: 0.0510\n",
      "Epoch 4/10\n",
      "328/328 [==============================] - 1s 3ms/step - loss: 0.0318 - mean_squared_error: 0.0318 - val_loss: 0.0530 - val_mean_squared_error: 0.0530\n",
      "Epoch 5/10\n",
      "328/328 [==============================] - 1s 3ms/step - loss: 0.0312 - mean_squared_error: 0.0312 - val_loss: 0.0490 - val_mean_squared_error: 0.0490\n",
      "Epoch 6/10\n",
      "328/328 [==============================] - 1s 3ms/step - loss: 0.0308 - mean_squared_error: 0.0308 - val_loss: 0.0512 - val_mean_squared_error: 0.0512\n",
      "Epoch 7/10\n",
      "328/328 [==============================] - 1s 3ms/step - loss: 0.0317 - mean_squared_error: 0.0317 - val_loss: 0.0543 - val_mean_squared_error: 0.0543\n",
      "Epoch 8/10\n",
      "328/328 [==============================] - 1s 3ms/step - loss: 0.0311 - mean_squared_error: 0.0311 - val_loss: 0.0473 - val_mean_squared_error: 0.0473\n",
      "Epoch 9/10\n",
      "328/328 [==============================] - 1s 3ms/step - loss: 0.0310 - mean_squared_error: 0.0310 - val_loss: 0.0507 - val_mean_squared_error: 0.0507\n",
      "Epoch 10/10\n",
      "328/328 [==============================] - 1s 3ms/step - loss: 0.0297 - mean_squared_error: 0.0297 - val_loss: 0.0571 - val_mean_squared_error: 0.0571\n",
      "6/6 [==============================] - 0s 1ms/step - loss: 0.0571 - mean_squared_error: 0.0571\n",
      "Epoch 1/50\n",
      "82/82 [==============================] - 1s 4ms/step - loss: 0.8270 - mean_squared_error: 0.8270 - val_loss: 0.6115 - val_mean_squared_error: 0.6115\n",
      "Epoch 2/50\n",
      "82/82 [==============================] - 0s 3ms/step - loss: 0.1902 - mean_squared_error: 0.1902 - val_loss: 0.1389 - val_mean_squared_error: 0.1389\n",
      "Epoch 3/50\n",
      "82/82 [==============================] - 0s 3ms/step - loss: 0.0550 - mean_squared_error: 0.0550 - val_loss: 0.0549 - val_mean_squared_error: 0.0549\n",
      "Epoch 4/50\n",
      "82/82 [==============================] - 0s 2ms/step - loss: 0.0386 - mean_squared_error: 0.0386 - val_loss: 0.0500 - val_mean_squared_error: 0.0500\n",
      "Epoch 5/50\n",
      "82/82 [==============================] - 0s 3ms/step - loss: 0.0368 - mean_squared_error: 0.0368 - val_loss: 0.0494 - val_mean_squared_error: 0.0494\n",
      "Epoch 6/50\n",
      "82/82 [==============================] - 0s 2ms/step - loss: 0.0345 - mean_squared_error: 0.0345 - val_loss: 0.0471 - val_mean_squared_error: 0.0471\n",
      "Epoch 7/50\n",
      "82/82 [==============================] - 0s 3ms/step - loss: 0.0335 - mean_squared_error: 0.0335 - val_loss: 0.0458 - val_mean_squared_error: 0.0458\n",
      "Epoch 8/50\n",
      "82/82 [==============================] - 0s 3ms/step - loss: 0.0328 - mean_squared_error: 0.0328 - val_loss: 0.0451 - val_mean_squared_error: 0.0451\n",
      "Epoch 9/50\n",
      "82/82 [==============================] - 0s 3ms/step - loss: 0.0310 - mean_squared_error: 0.0310 - val_loss: 0.0465 - val_mean_squared_error: 0.0465\n",
      "Epoch 10/50\n",
      "82/82 [==============================] - 0s 3ms/step - loss: 0.0309 - mean_squared_error: 0.0309 - val_loss: 0.0459 - val_mean_squared_error: 0.0459\n",
      "Epoch 11/50\n",
      "82/82 [==============================] - 0s 3ms/step - loss: 0.0304 - mean_squared_error: 0.0304 - val_loss: 0.0441 - val_mean_squared_error: 0.0441\n",
      "Epoch 12/50\n",
      "82/82 [==============================] - 0s 3ms/step - loss: 0.0302 - mean_squared_error: 0.0302 - val_loss: 0.0485 - val_mean_squared_error: 0.0485\n",
      "Epoch 13/50\n",
      "82/82 [==============================] - 0s 3ms/step - loss: 0.0312 - mean_squared_error: 0.0312 - val_loss: 0.0509 - val_mean_squared_error: 0.0509\n",
      "Epoch 14/50\n",
      "82/82 [==============================] - 0s 3ms/step - loss: 0.0300 - mean_squared_error: 0.0300 - val_loss: 0.0448 - val_mean_squared_error: 0.0448\n",
      "Epoch 15/50\n",
      "82/82 [==============================] - 0s 3ms/step - loss: 0.0300 - mean_squared_error: 0.0300 - val_loss: 0.0499 - val_mean_squared_error: 0.0499\n",
      "Epoch 16/50\n",
      "82/82 [==============================] - 0s 3ms/step - loss: 0.0298 - mean_squared_error: 0.0298 - val_loss: 0.0448 - val_mean_squared_error: 0.0448\n",
      "Epoch 17/50\n",
      "82/82 [==============================] - 0s 3ms/step - loss: 0.0292 - mean_squared_error: 0.0292 - val_loss: 0.0450 - val_mean_squared_error: 0.0450\n",
      "Epoch 18/50\n",
      "82/82 [==============================] - 0s 3ms/step - loss: 0.0291 - mean_squared_error: 0.0291 - val_loss: 0.0478 - val_mean_squared_error: 0.0478\n",
      "Epoch 19/50\n",
      "82/82 [==============================] - 0s 3ms/step - loss: 0.0289 - mean_squared_error: 0.0289 - val_loss: 0.0459 - val_mean_squared_error: 0.0459\n",
      "Epoch 20/50\n",
      "82/82 [==============================] - 0s 3ms/step - loss: 0.0291 - mean_squared_error: 0.0291 - val_loss: 0.0444 - val_mean_squared_error: 0.0444\n",
      "Epoch 21/50\n",
      "82/82 [==============================] - 0s 3ms/step - loss: 0.0286 - mean_squared_error: 0.0286 - val_loss: 0.0442 - val_mean_squared_error: 0.0442\n",
      "Epoch 22/50\n",
      "82/82 [==============================] - 0s 3ms/step - loss: 0.0287 - mean_squared_error: 0.0287 - val_loss: 0.0450 - val_mean_squared_error: 0.0450\n",
      "Epoch 23/50\n",
      "82/82 [==============================] - 0s 3ms/step - loss: 0.0284 - mean_squared_error: 0.0284 - val_loss: 0.0440 - val_mean_squared_error: 0.0440\n",
      "Epoch 24/50\n",
      "82/82 [==============================] - 0s 3ms/step - loss: 0.0286 - mean_squared_error: 0.0286 - val_loss: 0.0453 - val_mean_squared_error: 0.0453\n",
      "Epoch 25/50\n",
      "82/82 [==============================] - 0s 3ms/step - loss: 0.0300 - mean_squared_error: 0.0300 - val_loss: 0.0453 - val_mean_squared_error: 0.0453\n",
      "Epoch 26/50\n",
      "82/82 [==============================] - 0s 3ms/step - loss: 0.0286 - mean_squared_error: 0.0286 - val_loss: 0.0447 - val_mean_squared_error: 0.0447\n",
      "Epoch 27/50\n",
      "82/82 [==============================] - 0s 3ms/step - loss: 0.0284 - mean_squared_error: 0.0284 - val_loss: 0.0439 - val_mean_squared_error: 0.0439\n",
      "Epoch 28/50\n",
      "82/82 [==============================] - 0s 3ms/step - loss: 0.0282 - mean_squared_error: 0.0282 - val_loss: 0.0477 - val_mean_squared_error: 0.0477\n",
      "Epoch 29/50\n",
      "82/82 [==============================] - 0s 3ms/step - loss: 0.0285 - mean_squared_error: 0.0285 - val_loss: 0.0436 - val_mean_squared_error: 0.0436\n",
      "Epoch 30/50\n",
      "82/82 [==============================] - 0s 3ms/step - loss: 0.0288 - mean_squared_error: 0.0288 - val_loss: 0.0488 - val_mean_squared_error: 0.0488\n",
      "Epoch 31/50\n",
      "82/82 [==============================] - 0s 3ms/step - loss: 0.0282 - mean_squared_error: 0.0282 - val_loss: 0.0469 - val_mean_squared_error: 0.0469\n",
      "Epoch 32/50\n",
      "82/82 [==============================] - 0s 3ms/step - loss: 0.0284 - mean_squared_error: 0.0284 - val_loss: 0.0469 - val_mean_squared_error: 0.0469\n",
      "Epoch 33/50\n",
      "82/82 [==============================] - 0s 3ms/step - loss: 0.0285 - mean_squared_error: 0.0285 - val_loss: 0.0459 - val_mean_squared_error: 0.0459\n",
      "Epoch 34/50\n",
      "82/82 [==============================] - 0s 3ms/step - loss: 0.0287 - mean_squared_error: 0.0287 - val_loss: 0.0471 - val_mean_squared_error: 0.0471\n",
      "Epoch 35/50\n",
      "82/82 [==============================] - 0s 3ms/step - loss: 0.0290 - mean_squared_error: 0.0290 - val_loss: 0.0464 - val_mean_squared_error: 0.0464\n"
     ]
    },
    {
     "name": "stdout",
     "output_type": "stream",
     "text": [
      "Epoch 36/50\n",
      "82/82 [==============================] - 0s 3ms/step - loss: 0.0284 - mean_squared_error: 0.0284 - val_loss: 0.0453 - val_mean_squared_error: 0.0453\n",
      "Epoch 37/50\n",
      "82/82 [==============================] - 0s 2ms/step - loss: 0.0278 - mean_squared_error: 0.0278 - val_loss: 0.0453 - val_mean_squared_error: 0.0453\n",
      "Epoch 38/50\n",
      "82/82 [==============================] - 0s 3ms/step - loss: 0.0282 - mean_squared_error: 0.0282 - val_loss: 0.0460 - val_mean_squared_error: 0.0460\n",
      "Epoch 39/50\n",
      "82/82 [==============================] - 0s 3ms/step - loss: 0.0280 - mean_squared_error: 0.0280 - val_loss: 0.0458 - val_mean_squared_error: 0.0458\n",
      "Epoch 40/50\n",
      "82/82 [==============================] - 0s 3ms/step - loss: 0.0287 - mean_squared_error: 0.0287 - val_loss: 0.0448 - val_mean_squared_error: 0.0448\n",
      "Epoch 41/50\n",
      "82/82 [==============================] - 0s 3ms/step - loss: 0.0279 - mean_squared_error: 0.0279 - val_loss: 0.0479 - val_mean_squared_error: 0.0479\n",
      "Epoch 42/50\n",
      "82/82 [==============================] - 0s 3ms/step - loss: 0.0279 - mean_squared_error: 0.0279 - val_loss: 0.0462 - val_mean_squared_error: 0.0462\n",
      "Epoch 43/50\n",
      "82/82 [==============================] - 0s 3ms/step - loss: 0.0280 - mean_squared_error: 0.0280 - val_loss: 0.0473 - val_mean_squared_error: 0.0473\n",
      "Epoch 44/50\n",
      "82/82 [==============================] - 0s 3ms/step - loss: 0.0281 - mean_squared_error: 0.0281 - val_loss: 0.0472 - val_mean_squared_error: 0.0472\n",
      "Epoch 45/50\n",
      "82/82 [==============================] - 0s 3ms/step - loss: 0.0281 - mean_squared_error: 0.0281 - val_loss: 0.0498 - val_mean_squared_error: 0.0498\n",
      "Epoch 46/50\n",
      "82/82 [==============================] - 0s 3ms/step - loss: 0.0286 - mean_squared_error: 0.0286 - val_loss: 0.0495 - val_mean_squared_error: 0.0495\n",
      "Epoch 47/50\n",
      "82/82 [==============================] - 0s 3ms/step - loss: 0.0284 - mean_squared_error: 0.0284 - val_loss: 0.0461 - val_mean_squared_error: 0.0461\n",
      "Epoch 48/50\n",
      "82/82 [==============================] - 0s 3ms/step - loss: 0.0280 - mean_squared_error: 0.0280 - val_loss: 0.0522 - val_mean_squared_error: 0.0522\n",
      "Epoch 49/50\n",
      "82/82 [==============================] - 0s 3ms/step - loss: 0.0279 - mean_squared_error: 0.0279 - val_loss: 0.0498 - val_mean_squared_error: 0.0498\n",
      "Epoch 50/50\n",
      "82/82 [==============================] - 0s 3ms/step - loss: 0.0281 - mean_squared_error: 0.0281 - val_loss: 0.0503 - val_mean_squared_error: 0.0503\n",
      "6/6 [==============================] - 0s 0s/step - loss: 0.0503 - mean_squared_error: 0.0503\n",
      "Epoch 1/5\n",
      "328/328 [==============================] - 1s 3ms/step - loss: 0.4564 - mean_squared_error: 0.4564 - val_loss: 0.0730 - val_mean_squared_error: 0.0730\n",
      "Epoch 2/5\n",
      "328/328 [==============================] - 1s 3ms/step - loss: 0.0515 - mean_squared_error: 0.0515 - val_loss: 0.0398 - val_mean_squared_error: 0.0398\n",
      "Epoch 3/5\n",
      "328/328 [==============================] - 1s 3ms/step - loss: 0.0373 - mean_squared_error: 0.0373 - val_loss: 0.0356 - val_mean_squared_error: 0.0356\n",
      "Epoch 4/5\n",
      "328/328 [==============================] - 1s 3ms/step - loss: 0.0336 - mean_squared_error: 0.0336 - val_loss: 0.0415 - val_mean_squared_error: 0.0415\n",
      "Epoch 5/5\n",
      "328/328 [==============================] - 1s 3ms/step - loss: 0.0336 - mean_squared_error: 0.0336 - val_loss: 0.0367 - val_mean_squared_error: 0.0367\n",
      "6/6 [==============================] - 0s 3ms/step - loss: 0.0367 - mean_squared_error: 0.0367\n",
      "Epoch 1/50\n",
      "82/82 [==============================] - 1s 4ms/step - loss: 0.7961 - mean_squared_error: 0.7961 - val_loss: 0.4624 - val_mean_squared_error: 0.4624\n",
      "Epoch 2/50\n",
      "82/82 [==============================] - 0s 3ms/step - loss: 0.1742 - mean_squared_error: 0.1742 - val_loss: 0.0970 - val_mean_squared_error: 0.0970\n",
      "Epoch 3/50\n",
      "82/82 [==============================] - 0s 3ms/step - loss: 0.0580 - mean_squared_error: 0.0580 - val_loss: 0.0448 - val_mean_squared_error: 0.0448\n",
      "Epoch 4/50\n",
      "82/82 [==============================] - 0s 3ms/step - loss: 0.0380 - mean_squared_error: 0.0380 - val_loss: 0.0400 - val_mean_squared_error: 0.0400\n",
      "Epoch 5/50\n",
      "82/82 [==============================] - 0s 3ms/step - loss: 0.0332 - mean_squared_error: 0.0332 - val_loss: 0.0366 - val_mean_squared_error: 0.0366\n",
      "Epoch 6/50\n",
      "82/82 [==============================] - 0s 3ms/step - loss: 0.0313 - mean_squared_error: 0.0313 - val_loss: 0.0361 - val_mean_squared_error: 0.0361\n",
      "Epoch 7/50\n",
      "82/82 [==============================] - 0s 3ms/step - loss: 0.0308 - mean_squared_error: 0.0308 - val_loss: 0.0361 - val_mean_squared_error: 0.0361\n",
      "Epoch 8/50\n",
      "82/82 [==============================] - 0s 3ms/step - loss: 0.0306 - mean_squared_error: 0.0306 - val_loss: 0.0357 - val_mean_squared_error: 0.0357\n",
      "Epoch 9/50\n",
      "82/82 [==============================] - 0s 3ms/step - loss: 0.0304 - mean_squared_error: 0.0304 - val_loss: 0.0346 - val_mean_squared_error: 0.0346\n",
      "Epoch 10/50\n",
      "82/82 [==============================] - 0s 3ms/step - loss: 0.0303 - mean_squared_error: 0.0303 - val_loss: 0.0355 - val_mean_squared_error: 0.0355\n",
      "Epoch 11/50\n",
      "82/82 [==============================] - 0s 3ms/step - loss: 0.0294 - mean_squared_error: 0.0294 - val_loss: 0.0371 - val_mean_squared_error: 0.0371\n",
      "Epoch 12/50\n",
      "82/82 [==============================] - 0s 3ms/step - loss: 0.0294 - mean_squared_error: 0.0294 - val_loss: 0.0362 - val_mean_squared_error: 0.0362\n",
      "Epoch 13/50\n",
      "82/82 [==============================] - 0s 3ms/step - loss: 0.0295 - mean_squared_error: 0.0295 - val_loss: 0.0345 - val_mean_squared_error: 0.0345\n",
      "Epoch 14/50\n",
      "82/82 [==============================] - 0s 3ms/step - loss: 0.0292 - mean_squared_error: 0.0292 - val_loss: 0.0371 - val_mean_squared_error: 0.0371\n",
      "Epoch 15/50\n",
      "82/82 [==============================] - 0s 3ms/step - loss: 0.0298 - mean_squared_error: 0.0298 - val_loss: 0.0362 - val_mean_squared_error: 0.0362\n",
      "Epoch 16/50\n",
      "82/82 [==============================] - 0s 3ms/step - loss: 0.0296 - mean_squared_error: 0.0296 - val_loss: 0.0366 - val_mean_squared_error: 0.0366\n",
      "Epoch 17/50\n",
      "82/82 [==============================] - 0s 3ms/step - loss: 0.0294 - mean_squared_error: 0.0294 - val_loss: 0.0353 - val_mean_squared_error: 0.0353\n",
      "Epoch 18/50\n",
      "82/82 [==============================] - 0s 2ms/step - loss: 0.0291 - mean_squared_error: 0.0291 - val_loss: 0.0364 - val_mean_squared_error: 0.0364\n",
      "Epoch 19/50\n",
      "82/82 [==============================] - 0s 3ms/step - loss: 0.0294 - mean_squared_error: 0.0294 - val_loss: 0.0365 - val_mean_squared_error: 0.0365\n",
      "Epoch 20/50\n",
      "82/82 [==============================] - 0s 3ms/step - loss: 0.0291 - mean_squared_error: 0.0291 - val_loss: 0.0391 - val_mean_squared_error: 0.0391\n",
      "Epoch 21/50\n",
      "82/82 [==============================] - 0s 3ms/step - loss: 0.0292 - mean_squared_error: 0.0292 - val_loss: 0.0366 - val_mean_squared_error: 0.0366\n",
      "Epoch 22/50\n",
      "82/82 [==============================] - 0s 3ms/step - loss: 0.0289 - mean_squared_error: 0.0289 - val_loss: 0.0374 - val_mean_squared_error: 0.0374\n",
      "Epoch 23/50\n",
      "82/82 [==============================] - 0s 3ms/step - loss: 0.0296 - mean_squared_error: 0.0296 - val_loss: 0.0357 - val_mean_squared_error: 0.0357\n",
      "Epoch 24/50\n",
      "82/82 [==============================] - 0s 2ms/step - loss: 0.0288 - mean_squared_error: 0.0288 - val_loss: 0.0353 - val_mean_squared_error: 0.0353\n",
      "Epoch 25/50\n",
      "82/82 [==============================] - 0s 3ms/step - loss: 0.0288 - mean_squared_error: 0.0288 - val_loss: 0.0347 - val_mean_squared_error: 0.0347\n",
      "Epoch 26/50\n",
      "82/82 [==============================] - 0s 3ms/step - loss: 0.0289 - mean_squared_error: 0.0289 - val_loss: 0.0361 - val_mean_squared_error: 0.0361\n",
      "Epoch 27/50\n",
      "82/82 [==============================] - 0s 3ms/step - loss: 0.0283 - mean_squared_error: 0.0283 - val_loss: 0.0345 - val_mean_squared_error: 0.0345\n",
      "Epoch 28/50\n",
      "82/82 [==============================] - 0s 3ms/step - loss: 0.0291 - mean_squared_error: 0.0291 - val_loss: 0.0357 - val_mean_squared_error: 0.0357\n",
      "Epoch 29/50\n",
      "82/82 [==============================] - 0s 3ms/step - loss: 0.0293 - mean_squared_error: 0.0293 - val_loss: 0.0369 - val_mean_squared_error: 0.0369\n",
      "Epoch 30/50\n",
      "82/82 [==============================] - 0s 3ms/step - loss: 0.0291 - mean_squared_error: 0.0291 - val_loss: 0.0368 - val_mean_squared_error: 0.0368\n"
     ]
    },
    {
     "name": "stdout",
     "output_type": "stream",
     "text": [
      "Epoch 31/50\n",
      "82/82 [==============================] - 0s 3ms/step - loss: 0.0289 - mean_squared_error: 0.0289 - val_loss: 0.0354 - val_mean_squared_error: 0.0354\n",
      "Epoch 32/50\n",
      "82/82 [==============================] - 0s 3ms/step - loss: 0.0291 - mean_squared_error: 0.0291 - val_loss: 0.0382 - val_mean_squared_error: 0.0382\n",
      "Epoch 33/50\n",
      "82/82 [==============================] - 0s 3ms/step - loss: 0.0291 - mean_squared_error: 0.0291 - val_loss: 0.0361 - val_mean_squared_error: 0.0361\n",
      "Epoch 34/50\n",
      "82/82 [==============================] - 0s 3ms/step - loss: 0.0288 - mean_squared_error: 0.0288 - val_loss: 0.0356 - val_mean_squared_error: 0.0356\n",
      "Epoch 35/50\n",
      "82/82 [==============================] - 0s 3ms/step - loss: 0.0297 - mean_squared_error: 0.0297 - val_loss: 0.0376 - val_mean_squared_error: 0.0376\n",
      "Epoch 36/50\n",
      "82/82 [==============================] - 0s 3ms/step - loss: 0.0295 - mean_squared_error: 0.0295 - val_loss: 0.0355 - val_mean_squared_error: 0.0355\n",
      "Epoch 37/50\n",
      "82/82 [==============================] - 0s 3ms/step - loss: 0.0289 - mean_squared_error: 0.0289 - val_loss: 0.0366 - val_mean_squared_error: 0.0366\n",
      "Epoch 38/50\n",
      "82/82 [==============================] - 0s 3ms/step - loss: 0.0289 - mean_squared_error: 0.0289 - val_loss: 0.0360 - val_mean_squared_error: 0.0360\n",
      "Epoch 39/50\n",
      "82/82 [==============================] - 0s 3ms/step - loss: 0.0298 - mean_squared_error: 0.0298 - val_loss: 0.0350 - val_mean_squared_error: 0.0350\n",
      "Epoch 40/50\n",
      "82/82 [==============================] - 0s 3ms/step - loss: 0.0290 - mean_squared_error: 0.0290 - val_loss: 0.0410 - val_mean_squared_error: 0.0410\n",
      "Epoch 41/50\n",
      "82/82 [==============================] - 0s 3ms/step - loss: 0.0298 - mean_squared_error: 0.0298 - val_loss: 0.0353 - val_mean_squared_error: 0.0353\n",
      "Epoch 42/50\n",
      "82/82 [==============================] - 0s 3ms/step - loss: 0.0292 - mean_squared_error: 0.0292 - val_loss: 0.0380 - val_mean_squared_error: 0.0380\n",
      "Epoch 43/50\n",
      "82/82 [==============================] - 0s 3ms/step - loss: 0.0291 - mean_squared_error: 0.0291 - val_loss: 0.0370 - val_mean_squared_error: 0.0370\n",
      "Epoch 44/50\n",
      "82/82 [==============================] - 0s 3ms/step - loss: 0.0293 - mean_squared_error: 0.0293 - val_loss: 0.0360 - val_mean_squared_error: 0.0360\n",
      "Epoch 45/50\n",
      "82/82 [==============================] - 0s 2ms/step - loss: 0.0290 - mean_squared_error: 0.0290 - val_loss: 0.0359 - val_mean_squared_error: 0.0359\n",
      "Epoch 46/50\n",
      "82/82 [==============================] - 0s 2ms/step - loss: 0.0286 - mean_squared_error: 0.0286 - val_loss: 0.0379 - val_mean_squared_error: 0.0379\n",
      "Epoch 47/50\n",
      "82/82 [==============================] - 0s 2ms/step - loss: 0.0288 - mean_squared_error: 0.0288 - val_loss: 0.0369 - val_mean_squared_error: 0.0369\n",
      "Epoch 48/50\n",
      "82/82 [==============================] - 0s 1ms/step - loss: 0.0290 - mean_squared_error: 0.0290 - val_loss: 0.0386 - val_mean_squared_error: 0.0386\n",
      "Epoch 49/50\n",
      "82/82 [==============================] - 0s 2ms/step - loss: 0.0289 - mean_squared_error: 0.0289 - val_loss: 0.0371 - val_mean_squared_error: 0.0371\n",
      "Epoch 50/50\n",
      "82/82 [==============================] - 0s 3ms/step - loss: 0.0284 - mean_squared_error: 0.0284 - val_loss: 0.0354 - val_mean_squared_error: 0.0354\n",
      "6/6 [==============================] - 0s 0s/step - loss: 0.0354 - mean_squared_error: 0.0354\n"
     ]
    },
    {
     "ename": "SyntaxError",
     "evalue": "'return' outside function (3736802127.py, line 35)",
     "output_type": "error",
     "traceback": [
      "\u001b[1;36m  Input \u001b[1;32mIn [64]\u001b[1;36m\u001b[0m\n\u001b[1;33m    return(SearchResultsData)\u001b[0m\n\u001b[1;37m    ^\u001b[0m\n\u001b[1;31mSyntaxError\u001b[0m\u001b[1;31m:\u001b[0m 'return' outside function\n"
     ]
    }
   ],
   "source": [
    "SearchResultsData=pd.DataFrame(columns=['Epochs', 'Batch','random_state', 'MSE'])\n",
    "\n",
    "for epochs_trail, batch_trail, Rd_state in [[5,5,42],[10,5,42],[50,20,42],[5,5,100],[50,20,100]] :\n",
    "    \n",
    "    X_train, X_test, y_train, y_test = train_test_split(X, y, test_size=0.10, random_state=Rd_state)\n",
    "    \n",
    "    model = Sequential()\n",
    "\n",
    "    model.add(Dense(units=13, input_dim=X_train.shape[-1], kernel_initializer='normal', activation='relu'))\n",
    "\n",
    "\n",
    "    model.add(Dense(units=29, kernel_initializer='normal', activation='relu'))\n",
    "\n",
    "\n",
    "    model.add(Dense(1, kernel_initializer='normal'))\n",
    "\n",
    "    \n",
    "    model.compile(loss='mse', optimizer='adam', metrics=[tf.keras.metrics.MeanSquaredError()])\n",
    "    \n",
    "    model.fit(X_train, y_train, verbose=1, epochs = epochs_trail, batch_size=batch_trail,\n",
    "                   validation_data=(X_test,y_test))\n",
    "    _, MSE = model.evaluate(X_test,y_test)\n",
    "    \n",
    "    SearchResultsData=SearchResultsData.append(pd.DataFrame(data=[[epochs_trail, batch_trail, Rd_state, MSE]],\n",
    "                                                                    columns=['Epochs', 'Batch','random_state', 'MSE'] ))\n",
    "return(SearchResultsData)   \n",
    "    "
   ]
  },
  {
   "cell_type": "code",
   "execution_count": 65,
   "id": "cb41dd33",
   "metadata": {},
   "outputs": [
    {
     "data": {
      "text/html": [
       "<div>\n",
       "<style scoped>\n",
       "    .dataframe tbody tr th:only-of-type {\n",
       "        vertical-align: middle;\n",
       "    }\n",
       "\n",
       "    .dataframe tbody tr th {\n",
       "        vertical-align: top;\n",
       "    }\n",
       "\n",
       "    .dataframe thead th {\n",
       "        text-align: right;\n",
       "    }\n",
       "</style>\n",
       "<table border=\"1\" class=\"dataframe\">\n",
       "  <thead>\n",
       "    <tr style=\"text-align: right;\">\n",
       "      <th></th>\n",
       "      <th>Epochs</th>\n",
       "      <th>Batch</th>\n",
       "      <th>random_state</th>\n",
       "      <th>MSE</th>\n",
       "    </tr>\n",
       "  </thead>\n",
       "  <tbody>\n",
       "    <tr>\n",
       "      <th>0</th>\n",
       "      <td>5</td>\n",
       "      <td>5</td>\n",
       "      <td>42</td>\n",
       "      <td>0.049457</td>\n",
       "    </tr>\n",
       "    <tr>\n",
       "      <th>0</th>\n",
       "      <td>10</td>\n",
       "      <td>5</td>\n",
       "      <td>42</td>\n",
       "      <td>0.057062</td>\n",
       "    </tr>\n",
       "    <tr>\n",
       "      <th>0</th>\n",
       "      <td>50</td>\n",
       "      <td>20</td>\n",
       "      <td>42</td>\n",
       "      <td>0.050324</td>\n",
       "    </tr>\n",
       "    <tr>\n",
       "      <th>0</th>\n",
       "      <td>5</td>\n",
       "      <td>5</td>\n",
       "      <td>100</td>\n",
       "      <td>0.036733</td>\n",
       "    </tr>\n",
       "    <tr>\n",
       "      <th>0</th>\n",
       "      <td>50</td>\n",
       "      <td>20</td>\n",
       "      <td>100</td>\n",
       "      <td>0.035429</td>\n",
       "    </tr>\n",
       "  </tbody>\n",
       "</table>\n",
       "</div>"
      ],
      "text/plain": [
       "  Epochs Batch random_state       MSE\n",
       "0      5     5           42  0.049457\n",
       "0     10     5           42  0.057062\n",
       "0     50    20           42  0.050324\n",
       "0      5     5          100  0.036733\n",
       "0     50    20          100  0.035429"
      ]
     },
     "execution_count": 65,
     "metadata": {},
     "output_type": "execute_result"
    }
   ],
   "source": [
    "SearchResultsData"
   ]
  },
  {
   "cell_type": "markdown",
   "id": "722dfd14",
   "metadata": {},
   "source": [
    "d'après le tableau ci-dessus, le meilleur modèle est : \n",
    " le modèle qui a Epochs = 50, Batch = 20, random_state = 100"
   ]
  },
  {
   "cell_type": "code",
   "execution_count": 34,
   "id": "e1df0965",
   "metadata": {},
   "outputs": [
    {
     "name": "stdout",
     "output_type": "stream",
     "text": [
      "Epoch 1/5\n",
      "328/328 [==============================] - 4s 6ms/step - loss: 0.4232 - mean_squared_error: 0.4232 - val_loss: 0.2011 - val_mean_squared_error: 0.2011\n",
      "Epoch 2/5\n",
      "328/328 [==============================] - 2s 5ms/step - loss: 0.0645 - mean_squared_error: 0.0645 - val_loss: 0.0560 - val_mean_squared_error: 0.0560\n",
      "Epoch 3/5\n",
      "328/328 [==============================] - 2s 5ms/step - loss: 0.0371 - mean_squared_error: 0.0371 - val_loss: 0.0554 - val_mean_squared_error: 0.0554\n",
      "Epoch 4/5\n",
      "328/328 [==============================] - 2s 5ms/step - loss: 0.0409 - mean_squared_error: 0.0409 - val_loss: 0.0500 - val_mean_squared_error: 0.0500\n",
      "Epoch 5/5\n",
      "328/328 [==============================] - 2s 5ms/step - loss: 0.0346 - mean_squared_error: 0.0346 - val_loss: 0.0489 - val_mean_squared_error: 0.0489\n",
      "6/6 [==============================] - 0s 4ms/step - loss: 0.0489 - mean_squared_error: 0.0489\n",
      "Epoch 1/10\n",
      "328/328 [==============================] - 4s 6ms/step - loss: 0.3307 - mean_squared_error: 0.3307 - val_loss: 0.1754 - val_mean_squared_error: 0.1754\n",
      "Epoch 2/10\n",
      "328/328 [==============================] - 2s 5ms/step - loss: 0.0618 - mean_squared_error: 0.0618 - val_loss: 0.0476 - val_mean_squared_error: 0.0476\n",
      "Epoch 3/10\n",
      "328/328 [==============================] - 2s 5ms/step - loss: 0.0342 - mean_squared_error: 0.0342 - val_loss: 0.0442 - val_mean_squared_error: 0.0442\n",
      "Epoch 4/10\n",
      "328/328 [==============================] - 2s 5ms/step - loss: 0.0372 - mean_squared_error: 0.0372 - val_loss: 0.0500 - val_mean_squared_error: 0.0500\n",
      "Epoch 5/10\n",
      "328/328 [==============================] - 2s 5ms/step - loss: 0.0347 - mean_squared_error: 0.0347 - val_loss: 0.0462 - val_mean_squared_error: 0.0462\n",
      "Epoch 6/10\n",
      "328/328 [==============================] - 2s 5ms/step - loss: 0.0327 - mean_squared_error: 0.0327 - val_loss: 0.0440 - val_mean_squared_error: 0.0440\n",
      "Epoch 7/10\n",
      "328/328 [==============================] - 2s 5ms/step - loss: 0.0332 - mean_squared_error: 0.0332 - val_loss: 0.0498 - val_mean_squared_error: 0.0498\n",
      "Epoch 8/10\n",
      "328/328 [==============================] - 2s 5ms/step - loss: 0.0341 - mean_squared_error: 0.0341 - val_loss: 0.0478 - val_mean_squared_error: 0.0478\n",
      "Epoch 9/10\n",
      "328/328 [==============================] - 2s 5ms/step - loss: 0.0316 - mean_squared_error: 0.0316 - val_loss: 0.0455 - val_mean_squared_error: 0.0455\n",
      "Epoch 10/10\n",
      "328/328 [==============================] - 2s 5ms/step - loss: 0.0333 - mean_squared_error: 0.0333 - val_loss: 0.0420 - val_mean_squared_error: 0.0420\n",
      "6/6 [==============================] - 0s 5ms/step - loss: 0.0420 - mean_squared_error: 0.0420\n",
      "Epoch 1/50\n",
      "82/82 [==============================] - 3s 12ms/step - loss: 0.7935 - mean_squared_error: 0.7935 - val_loss: 0.4643 - val_mean_squared_error: 0.4643\n",
      "Epoch 2/50\n",
      "82/82 [==============================] - 0s 6ms/step - loss: 0.1174 - mean_squared_error: 0.1174 - val_loss: 0.0917 - val_mean_squared_error: 0.0917\n",
      "Epoch 3/50\n",
      "82/82 [==============================] - 0s 6ms/step - loss: 0.0391 - mean_squared_error: 0.0391 - val_loss: 0.0548 - val_mean_squared_error: 0.0548\n",
      "Epoch 4/50\n",
      "82/82 [==============================] - 1s 6ms/step - loss: 0.0358 - mean_squared_error: 0.0358 - val_loss: 0.0490 - val_mean_squared_error: 0.0490\n",
      "Epoch 5/50\n",
      "82/82 [==============================] - 0s 6ms/step - loss: 0.0339 - mean_squared_error: 0.0339 - val_loss: 0.0495 - val_mean_squared_error: 0.0495\n",
      "Epoch 6/50\n",
      "82/82 [==============================] - 1s 7ms/step - loss: 0.0306 - mean_squared_error: 0.0306 - val_loss: 0.0485 - val_mean_squared_error: 0.0485\n",
      "Epoch 7/50\n",
      "82/82 [==============================] - 1s 7ms/step - loss: 0.0311 - mean_squared_error: 0.0311 - val_loss: 0.0578 - val_mean_squared_error: 0.0578\n",
      "Epoch 8/50\n",
      "82/82 [==============================] - 0s 6ms/step - loss: 0.0310 - mean_squared_error: 0.0310 - val_loss: 0.0540 - val_mean_squared_error: 0.0540\n",
      "Epoch 9/50\n",
      "82/82 [==============================] - 0s 6ms/step - loss: 0.0311 - mean_squared_error: 0.0311 - val_loss: 0.0495 - val_mean_squared_error: 0.0495\n",
      "Epoch 10/50\n",
      "82/82 [==============================] - 0s 6ms/step - loss: 0.0306 - mean_squared_error: 0.0306 - val_loss: 0.0478 - val_mean_squared_error: 0.0478\n",
      "Epoch 11/50\n",
      "82/82 [==============================] - 0s 6ms/step - loss: 0.0303 - mean_squared_error: 0.0303 - val_loss: 0.0505 - val_mean_squared_error: 0.0505\n",
      "Epoch 12/50\n",
      "82/82 [==============================] - 0s 6ms/step - loss: 0.0312 - mean_squared_error: 0.0312 - val_loss: 0.0477 - val_mean_squared_error: 0.0477\n",
      "Epoch 13/50\n",
      "82/82 [==============================] - 0s 6ms/step - loss: 0.0335 - mean_squared_error: 0.0335 - val_loss: 0.0549 - val_mean_squared_error: 0.0549\n",
      "Epoch 14/50\n",
      "82/82 [==============================] - 0s 6ms/step - loss: 0.0305 - mean_squared_error: 0.0305 - val_loss: 0.0468 - val_mean_squared_error: 0.0468\n",
      "Epoch 15/50\n",
      "82/82 [==============================] - 0s 6ms/step - loss: 0.0305 - mean_squared_error: 0.0305 - val_loss: 0.0490 - val_mean_squared_error: 0.0490\n",
      "Epoch 16/50\n",
      "82/82 [==============================] - 0s 6ms/step - loss: 0.0295 - mean_squared_error: 0.0295 - val_loss: 0.0469 - val_mean_squared_error: 0.0469\n",
      "Epoch 17/50\n",
      "82/82 [==============================] - 0s 6ms/step - loss: 0.0296 - mean_squared_error: 0.0296 - val_loss: 0.0469 - val_mean_squared_error: 0.0469\n",
      "Epoch 18/50\n",
      "82/82 [==============================] - 0s 6ms/step - loss: 0.0297 - mean_squared_error: 0.0297 - val_loss: 0.0507 - val_mean_squared_error: 0.0507\n",
      "Epoch 19/50\n",
      "82/82 [==============================] - 0s 6ms/step - loss: 0.0330 - mean_squared_error: 0.0330 - val_loss: 0.0507 - val_mean_squared_error: 0.0507\n",
      "Epoch 20/50\n",
      "82/82 [==============================] - 0s 6ms/step - loss: 0.0293 - mean_squared_error: 0.0293 - val_loss: 0.0474 - val_mean_squared_error: 0.0474\n",
      "Epoch 21/50\n",
      "82/82 [==============================] - 0s 6ms/step - loss: 0.0300 - mean_squared_error: 0.0300 - val_loss: 0.0443 - val_mean_squared_error: 0.0443\n",
      "Epoch 22/50\n",
      "82/82 [==============================] - 0s 6ms/step - loss: 0.0282 - mean_squared_error: 0.0282 - val_loss: 0.0477 - val_mean_squared_error: 0.0477\n",
      "Epoch 23/50\n",
      "82/82 [==============================] - 0s 6ms/step - loss: 0.0300 - mean_squared_error: 0.0300 - val_loss: 0.0472 - val_mean_squared_error: 0.0472\n",
      "Epoch 24/50\n",
      "82/82 [==============================] - 0s 6ms/step - loss: 0.0315 - mean_squared_error: 0.0315 - val_loss: 0.0442 - val_mean_squared_error: 0.0442\n",
      "Epoch 25/50\n",
      "82/82 [==============================] - 0s 6ms/step - loss: 0.0295 - mean_squared_error: 0.0295 - val_loss: 0.0450 - val_mean_squared_error: 0.0450\n",
      "Epoch 26/50\n",
      "82/82 [==============================] - 0s 6ms/step - loss: 0.0319 - mean_squared_error: 0.0319 - val_loss: 0.0466 - val_mean_squared_error: 0.0466\n",
      "Epoch 27/50\n",
      "82/82 [==============================] - 0s 6ms/step - loss: 0.0294 - mean_squared_error: 0.0294 - val_loss: 0.0469 - val_mean_squared_error: 0.0469\n",
      "Epoch 28/50\n",
      "82/82 [==============================] - 0s 6ms/step - loss: 0.0294 - mean_squared_error: 0.0294 - val_loss: 0.0443 - val_mean_squared_error: 0.0443\n",
      "Epoch 29/50\n",
      "82/82 [==============================] - 0s 6ms/step - loss: 0.0293 - mean_squared_error: 0.0293 - val_loss: 0.0446 - val_mean_squared_error: 0.0446\n",
      "Epoch 30/50\n",
      "82/82 [==============================] - 0s 6ms/step - loss: 0.0294 - mean_squared_error: 0.0294 - val_loss: 0.0425 - val_mean_squared_error: 0.0425\n",
      "Epoch 31/50\n",
      "82/82 [==============================] - 0s 6ms/step - loss: 0.0284 - mean_squared_error: 0.0284 - val_loss: 0.0448 - val_mean_squared_error: 0.0448\n",
      "Epoch 32/50\n",
      "82/82 [==============================] - 0s 6ms/step - loss: 0.0303 - mean_squared_error: 0.0303 - val_loss: 0.0473 - val_mean_squared_error: 0.0473\n",
      "Epoch 33/50\n",
      "82/82 [==============================] - 0s 6ms/step - loss: 0.0286 - mean_squared_error: 0.0286 - val_loss: 0.0443 - val_mean_squared_error: 0.0443\n",
      "Epoch 34/50\n",
      "82/82 [==============================] - 0s 6ms/step - loss: 0.0288 - mean_squared_error: 0.0288 - val_loss: 0.0438 - val_mean_squared_error: 0.0438\n",
      "Epoch 35/50\n",
      "82/82 [==============================] - 0s 6ms/step - loss: 0.0288 - mean_squared_error: 0.0288 - val_loss: 0.0467 - val_mean_squared_error: 0.0467\n"
     ]
    },
    {
     "name": "stdout",
     "output_type": "stream",
     "text": [
      "Epoch 36/50\n",
      "82/82 [==============================] - 0s 6ms/step - loss: 0.0292 - mean_squared_error: 0.0292 - val_loss: 0.0429 - val_mean_squared_error: 0.0429\n",
      "Epoch 37/50\n",
      "82/82 [==============================] - 0s 6ms/step - loss: 0.0290 - mean_squared_error: 0.0290 - val_loss: 0.0411 - val_mean_squared_error: 0.0411\n",
      "Epoch 38/50\n",
      "82/82 [==============================] - 0s 6ms/step - loss: 0.0285 - mean_squared_error: 0.0285 - val_loss: 0.0465 - val_mean_squared_error: 0.0465\n",
      "Epoch 39/50\n",
      "82/82 [==============================] - 0s 6ms/step - loss: 0.0287 - mean_squared_error: 0.0287 - val_loss: 0.0437 - val_mean_squared_error: 0.0437\n",
      "Epoch 40/50\n",
      "82/82 [==============================] - 0s 6ms/step - loss: 0.0290 - mean_squared_error: 0.0290 - val_loss: 0.0442 - val_mean_squared_error: 0.0442\n",
      "Epoch 41/50\n",
      "82/82 [==============================] - 0s 6ms/step - loss: 0.0275 - mean_squared_error: 0.0275 - val_loss: 0.0450 - val_mean_squared_error: 0.0450\n",
      "Epoch 42/50\n",
      "82/82 [==============================] - 0s 6ms/step - loss: 0.0294 - mean_squared_error: 0.0294 - val_loss: 0.0434 - val_mean_squared_error: 0.0434\n",
      "Epoch 43/50\n",
      "82/82 [==============================] - 0s 6ms/step - loss: 0.0277 - mean_squared_error: 0.0277 - val_loss: 0.0444 - val_mean_squared_error: 0.0444\n",
      "Epoch 44/50\n",
      "82/82 [==============================] - 0s 6ms/step - loss: 0.0283 - mean_squared_error: 0.0283 - val_loss: 0.0468 - val_mean_squared_error: 0.0468\n",
      "Epoch 45/50\n",
      "82/82 [==============================] - 0s 6ms/step - loss: 0.0318 - mean_squared_error: 0.0318 - val_loss: 0.0411 - val_mean_squared_error: 0.0411\n",
      "Epoch 46/50\n",
      "82/82 [==============================] - 0s 6ms/step - loss: 0.0288 - mean_squared_error: 0.0288 - val_loss: 0.0574 - val_mean_squared_error: 0.0574\n",
      "Epoch 47/50\n",
      "82/82 [==============================] - 0s 6ms/step - loss: 0.0309 - mean_squared_error: 0.0309 - val_loss: 0.0453 - val_mean_squared_error: 0.0453\n",
      "Epoch 48/50\n",
      "82/82 [==============================] - 0s 6ms/step - loss: 0.0288 - mean_squared_error: 0.0288 - val_loss: 0.0406 - val_mean_squared_error: 0.0406\n",
      "Epoch 49/50\n",
      "82/82 [==============================] - 0s 6ms/step - loss: 0.0281 - mean_squared_error: 0.0281 - val_loss: 0.0465 - val_mean_squared_error: 0.0465\n",
      "Epoch 50/50\n",
      "82/82 [==============================] - 0s 6ms/step - loss: 0.0293 - mean_squared_error: 0.0293 - val_loss: 0.0465 - val_mean_squared_error: 0.0465\n",
      "6/6 [==============================] - 0s 3ms/step - loss: 0.0465 - mean_squared_error: 0.0465\n",
      "Epoch 1/5\n",
      "328/328 [==============================] - 4s 6ms/step - loss: 0.4312 - mean_squared_error: 0.4312 - val_loss: 0.0367 - val_mean_squared_error: 0.0367\n",
      "Epoch 2/5\n",
      "328/328 [==============================] - 2s 5ms/step - loss: 0.0394 - mean_squared_error: 0.0394 - val_loss: 0.0510 - val_mean_squared_error: 0.0510\n",
      "Epoch 3/5\n",
      "328/328 [==============================] - 2s 5ms/step - loss: 0.0368 - mean_squared_error: 0.0368 - val_loss: 0.0358 - val_mean_squared_error: 0.0358\n",
      "Epoch 4/5\n",
      "328/328 [==============================] - 1s 5ms/step - loss: 0.0359 - mean_squared_error: 0.0359 - val_loss: 0.0429 - val_mean_squared_error: 0.0429\n",
      "Epoch 5/5\n",
      "328/328 [==============================] - 2s 5ms/step - loss: 0.0376 - mean_squared_error: 0.0376 - val_loss: 0.0523 - val_mean_squared_error: 0.0523\n",
      "6/6 [==============================] - 0s 4ms/step - loss: 0.0523 - mean_squared_error: 0.0523\n",
      "Epoch 1/50\n",
      "82/82 [==============================] - 3s 12ms/step - loss: 0.7693 - mean_squared_error: 0.7693 - val_loss: 0.2345 - val_mean_squared_error: 0.2345\n",
      "Epoch 2/50\n",
      "82/82 [==============================] - 0s 6ms/step - loss: 0.0976 - mean_squared_error: 0.0976 - val_loss: 0.0897 - val_mean_squared_error: 0.0897\n",
      "Epoch 3/50\n",
      "82/82 [==============================] - 0s 6ms/step - loss: 0.0455 - mean_squared_error: 0.0455 - val_loss: 0.0469 - val_mean_squared_error: 0.0469\n",
      "Epoch 4/50\n",
      "82/82 [==============================] - 0s 5ms/step - loss: 0.0381 - mean_squared_error: 0.0381 - val_loss: 0.0406 - val_mean_squared_error: 0.0406\n",
      "Epoch 5/50\n",
      "82/82 [==============================] - 0s 6ms/step - loss: 0.0350 - mean_squared_error: 0.0350 - val_loss: 0.0386 - val_mean_squared_error: 0.0386\n",
      "Epoch 6/50\n",
      "82/82 [==============================] - 0s 6ms/step - loss: 0.0358 - mean_squared_error: 0.0358 - val_loss: 0.0403 - val_mean_squared_error: 0.0403\n",
      "Epoch 7/50\n",
      "82/82 [==============================] - 0s 6ms/step - loss: 0.0359 - mean_squared_error: 0.0359 - val_loss: 0.0392 - val_mean_squared_error: 0.0392\n",
      "Epoch 8/50\n",
      "82/82 [==============================] - 0s 6ms/step - loss: 0.0321 - mean_squared_error: 0.0321 - val_loss: 0.0454 - val_mean_squared_error: 0.0454\n",
      "Epoch 9/50\n",
      "82/82 [==============================] - 0s 6ms/step - loss: 0.0316 - mean_squared_error: 0.0316 - val_loss: 0.0385 - val_mean_squared_error: 0.0385\n",
      "Epoch 10/50\n",
      "82/82 [==============================] - 0s 6ms/step - loss: 0.0306 - mean_squared_error: 0.0306 - val_loss: 0.0392 - val_mean_squared_error: 0.0392\n",
      "Epoch 11/50\n",
      "82/82 [==============================] - 0s 6ms/step - loss: 0.0318 - mean_squared_error: 0.0318 - val_loss: 0.0381 - val_mean_squared_error: 0.0381\n",
      "Epoch 12/50\n",
      "82/82 [==============================] - 0s 6ms/step - loss: 0.0309 - mean_squared_error: 0.0309 - val_loss: 0.0417 - val_mean_squared_error: 0.0417\n",
      "Epoch 13/50\n",
      "82/82 [==============================] - 0s 6ms/step - loss: 0.0312 - mean_squared_error: 0.0312 - val_loss: 0.0354 - val_mean_squared_error: 0.0354\n",
      "Epoch 14/50\n",
      "82/82 [==============================] - 0s 6ms/step - loss: 0.0303 - mean_squared_error: 0.0303 - val_loss: 0.0355 - val_mean_squared_error: 0.0355\n",
      "Epoch 15/50\n",
      "82/82 [==============================] - 0s 6ms/step - loss: 0.0311 - mean_squared_error: 0.0311 - val_loss: 0.0366 - val_mean_squared_error: 0.0366\n",
      "Epoch 16/50\n",
      "82/82 [==============================] - 0s 6ms/step - loss: 0.0298 - mean_squared_error: 0.0298 - val_loss: 0.0373 - val_mean_squared_error: 0.0373\n",
      "Epoch 17/50\n",
      "82/82 [==============================] - 0s 6ms/step - loss: 0.0297 - mean_squared_error: 0.0297 - val_loss: 0.0392 - val_mean_squared_error: 0.0392\n",
      "Epoch 18/50\n",
      "82/82 [==============================] - 0s 6ms/step - loss: 0.0312 - mean_squared_error: 0.0312 - val_loss: 0.0435 - val_mean_squared_error: 0.0435\n",
      "Epoch 19/50\n",
      "82/82 [==============================] - 0s 6ms/step - loss: 0.0312 - mean_squared_error: 0.0312 - val_loss: 0.0370 - val_mean_squared_error: 0.0370\n",
      "Epoch 20/50\n",
      "82/82 [==============================] - 0s 6ms/step - loss: 0.0293 - mean_squared_error: 0.0293 - val_loss: 0.0393 - val_mean_squared_error: 0.0393\n",
      "Epoch 21/50\n",
      "82/82 [==============================] - 0s 6ms/step - loss: 0.0310 - mean_squared_error: 0.0310 - val_loss: 0.0384 - val_mean_squared_error: 0.0384\n",
      "Epoch 22/50\n",
      "82/82 [==============================] - 0s 6ms/step - loss: 0.0300 - mean_squared_error: 0.0300 - val_loss: 0.0359 - val_mean_squared_error: 0.0359\n",
      "Epoch 23/50\n",
      "82/82 [==============================] - 0s 6ms/step - loss: 0.0318 - mean_squared_error: 0.0318 - val_loss: 0.0393 - val_mean_squared_error: 0.0393\n",
      "Epoch 24/50\n",
      "82/82 [==============================] - 0s 6ms/step - loss: 0.0298 - mean_squared_error: 0.0298 - val_loss: 0.0401 - val_mean_squared_error: 0.0401\n",
      "Epoch 25/50\n",
      "82/82 [==============================] - 0s 5ms/step - loss: 0.0302 - mean_squared_error: 0.0302 - val_loss: 0.0357 - val_mean_squared_error: 0.0357\n",
      "Epoch 26/50\n",
      "82/82 [==============================] - 0s 6ms/step - loss: 0.0307 - mean_squared_error: 0.0307 - val_loss: 0.0359 - val_mean_squared_error: 0.0359\n",
      "Epoch 27/50\n",
      "82/82 [==============================] - 0s 6ms/step - loss: 0.0292 - mean_squared_error: 0.0292 - val_loss: 0.0363 - val_mean_squared_error: 0.0363\n",
      "Epoch 28/50\n",
      "82/82 [==============================] - 0s 6ms/step - loss: 0.0296 - mean_squared_error: 0.0296 - val_loss: 0.0351 - val_mean_squared_error: 0.0351\n",
      "Epoch 29/50\n",
      "82/82 [==============================] - 0s 6ms/step - loss: 0.0290 - mean_squared_error: 0.0290 - val_loss: 0.0383 - val_mean_squared_error: 0.0383\n",
      "Epoch 30/50\n",
      "82/82 [==============================] - 0s 6ms/step - loss: 0.0305 - mean_squared_error: 0.0305 - val_loss: 0.0376 - val_mean_squared_error: 0.0376\n"
     ]
    },
    {
     "name": "stdout",
     "output_type": "stream",
     "text": [
      "Epoch 31/50\n",
      "82/82 [==============================] - 0s 6ms/step - loss: 0.0298 - mean_squared_error: 0.0298 - val_loss: 0.0385 - val_mean_squared_error: 0.0385\n",
      "Epoch 32/50\n",
      "82/82 [==============================] - 0s 6ms/step - loss: 0.0295 - mean_squared_error: 0.0295 - val_loss: 0.0381 - val_mean_squared_error: 0.0381\n",
      "Epoch 33/50\n",
      "82/82 [==============================] - 0s 6ms/step - loss: 0.0309 - mean_squared_error: 0.0309 - val_loss: 0.0391 - val_mean_squared_error: 0.0391\n",
      "Epoch 34/50\n",
      "82/82 [==============================] - 0s 6ms/step - loss: 0.0318 - mean_squared_error: 0.0318 - val_loss: 0.0382 - val_mean_squared_error: 0.0382\n",
      "Epoch 35/50\n",
      "82/82 [==============================] - 0s 6ms/step - loss: 0.0318 - mean_squared_error: 0.0318 - val_loss: 0.0370 - val_mean_squared_error: 0.0370\n",
      "Epoch 36/50\n",
      "82/82 [==============================] - 0s 6ms/step - loss: 0.0303 - mean_squared_error: 0.0303 - val_loss: 0.0392 - val_mean_squared_error: 0.0392\n",
      "Epoch 37/50\n",
      "82/82 [==============================] - 0s 6ms/step - loss: 0.0305 - mean_squared_error: 0.0305 - val_loss: 0.0420 - val_mean_squared_error: 0.0420\n",
      "Epoch 38/50\n",
      "82/82 [==============================] - 0s 6ms/step - loss: 0.0307 - mean_squared_error: 0.0307 - val_loss: 0.0427 - val_mean_squared_error: 0.0427\n",
      "Epoch 39/50\n",
      "82/82 [==============================] - 0s 6ms/step - loss: 0.0298 - mean_squared_error: 0.0298 - val_loss: 0.0375 - val_mean_squared_error: 0.0375\n",
      "Epoch 40/50\n",
      "82/82 [==============================] - 0s 6ms/step - loss: 0.0308 - mean_squared_error: 0.0308 - val_loss: 0.0379 - val_mean_squared_error: 0.0379\n",
      "Epoch 41/50\n",
      "82/82 [==============================] - 0s 6ms/step - loss: 0.0295 - mean_squared_error: 0.0295 - val_loss: 0.0383 - val_mean_squared_error: 0.0383\n",
      "Epoch 42/50\n",
      "82/82 [==============================] - 0s 6ms/step - loss: 0.0295 - mean_squared_error: 0.0295 - val_loss: 0.0378 - val_mean_squared_error: 0.0378\n",
      "Epoch 43/50\n",
      "82/82 [==============================] - 0s 6ms/step - loss: 0.0310 - mean_squared_error: 0.0310 - val_loss: 0.0368 - val_mean_squared_error: 0.0368\n",
      "Epoch 44/50\n",
      "82/82 [==============================] - 0s 6ms/step - loss: 0.0322 - mean_squared_error: 0.0322 - val_loss: 0.0368 - val_mean_squared_error: 0.0368\n",
      "Epoch 45/50\n",
      "82/82 [==============================] - 0s 6ms/step - loss: 0.0308 - mean_squared_error: 0.0308 - val_loss: 0.0362 - val_mean_squared_error: 0.0362\n",
      "Epoch 46/50\n",
      "82/82 [==============================] - 0s 6ms/step - loss: 0.0292 - mean_squared_error: 0.0292 - val_loss: 0.0370 - val_mean_squared_error: 0.0370\n",
      "Epoch 47/50\n",
      "82/82 [==============================] - 0s 6ms/step - loss: 0.0299 - mean_squared_error: 0.0299 - val_loss: 0.0397 - val_mean_squared_error: 0.0397\n",
      "Epoch 48/50\n",
      "82/82 [==============================] - 0s 6ms/step - loss: 0.0293 - mean_squared_error: 0.0293 - val_loss: 0.0409 - val_mean_squared_error: 0.0409\n",
      "Epoch 49/50\n",
      "82/82 [==============================] - 0s 6ms/step - loss: 0.0300 - mean_squared_error: 0.0300 - val_loss: 0.0363 - val_mean_squared_error: 0.0363\n",
      "Epoch 50/50\n",
      "82/82 [==============================] - 0s 6ms/step - loss: 0.0292 - mean_squared_error: 0.0292 - val_loss: 0.0379 - val_mean_squared_error: 0.0379\n",
      "6/6 [==============================] - 0s 5ms/step - loss: 0.0379 - mean_squared_error: 0.0379\n"
     ]
    },
    {
     "ename": "SyntaxError",
     "evalue": "'return' outside function (3581543633.py, line 30)",
     "output_type": "error",
     "traceback": [
      "\u001b[1;36m  Input \u001b[1;32mIn [34]\u001b[1;36m\u001b[0m\n\u001b[1;33m    return(SearchResultsData)\u001b[0m\n\u001b[1;37m    ^\u001b[0m\n\u001b[1;31mSyntaxError\u001b[0m\u001b[1;31m:\u001b[0m 'return' outside function\n"
     ]
    }
   ],
   "source": [
    "SearchResultsData=pd.DataFrame(columns=['Epochs', 'Batch','random_state', 'MSE'])\n",
    "\n",
    "for epochs_trail, batch_trail, Rd_state in [[5,5,42],[10,5,42],[50,20,42],[5,5,100],[50,20,100]] :\n",
    "    \n",
    "    X_train, X_test, y_train, y_test = train_test_split(X, y, test_size=0.10, random_state=Rd_state)\n",
    "    \n",
    "    model = Sequential()\n",
    "\n",
    "    model.add(Dense(units=14, input_dim=X_train.shape[-1], kernel_initializer='normal', activation='relu'))\n",
    "\n",
    "\n",
    "    model.add(Dense(units=35, kernel_initializer='normal', activation='relu'))\n",
    "    \n",
    "    model.add(Dense(units=32, kernel_initializer='normal', activation='relu'))\n",
    "    \n",
    "    model.add(Dense(units=36, kernel_initializer='normal', activation='relu'))\n",
    "\n",
    "\n",
    "    model.add(Dense(1, kernel_initializer='normal'))\n",
    "\n",
    "    \n",
    "    model.compile(loss='mse', optimizer='adam', metrics=[tf.keras.metrics.MeanSquaredError()])\n",
    "    \n",
    "    model.fit(X_train, y_train, verbose=1, epochs = epochs_trail, batch_size=batch_trail,\n",
    "                   validation_data=(X_test,y_test))\n",
    "    _, MSE = model.evaluate(X_test,y_test)\n",
    "    \n",
    "    SearchResultsData=SearchResultsData.append(pd.DataFrame(data=[[epochs_trail, batch_trail, Rd_state, MSE]],\n",
    "                                                                    columns=['Epochs', 'Batch','random_state', 'MSE'] ))\n",
    "return(SearchResultsData)   \n",
    "    "
   ]
  },
  {
   "cell_type": "code",
   "execution_count": 35,
   "id": "8865b86a",
   "metadata": {},
   "outputs": [
    {
     "data": {
      "text/html": [
       "<div>\n",
       "<style scoped>\n",
       "    .dataframe tbody tr th:only-of-type {\n",
       "        vertical-align: middle;\n",
       "    }\n",
       "\n",
       "    .dataframe tbody tr th {\n",
       "        vertical-align: top;\n",
       "    }\n",
       "\n",
       "    .dataframe thead th {\n",
       "        text-align: right;\n",
       "    }\n",
       "</style>\n",
       "<table border=\"1\" class=\"dataframe\">\n",
       "  <thead>\n",
       "    <tr style=\"text-align: right;\">\n",
       "      <th></th>\n",
       "      <th>Epochs</th>\n",
       "      <th>Batch</th>\n",
       "      <th>random_state</th>\n",
       "      <th>MSE</th>\n",
       "    </tr>\n",
       "  </thead>\n",
       "  <tbody>\n",
       "    <tr>\n",
       "      <th>0</th>\n",
       "      <td>5</td>\n",
       "      <td>5</td>\n",
       "      <td>42</td>\n",
       "      <td>0.048857</td>\n",
       "    </tr>\n",
       "    <tr>\n",
       "      <th>0</th>\n",
       "      <td>10</td>\n",
       "      <td>5</td>\n",
       "      <td>42</td>\n",
       "      <td>0.042013</td>\n",
       "    </tr>\n",
       "    <tr>\n",
       "      <th>0</th>\n",
       "      <td>50</td>\n",
       "      <td>20</td>\n",
       "      <td>42</td>\n",
       "      <td>0.046484</td>\n",
       "    </tr>\n",
       "    <tr>\n",
       "      <th>0</th>\n",
       "      <td>5</td>\n",
       "      <td>5</td>\n",
       "      <td>100</td>\n",
       "      <td>0.052303</td>\n",
       "    </tr>\n",
       "    <tr>\n",
       "      <th>0</th>\n",
       "      <td>50</td>\n",
       "      <td>20</td>\n",
       "      <td>100</td>\n",
       "      <td>0.037918</td>\n",
       "    </tr>\n",
       "  </tbody>\n",
       "</table>\n",
       "</div>"
      ],
      "text/plain": [
       "  Epochs Batch random_state       MSE\n",
       "0      5     5           42  0.048857\n",
       "0     10     5           42  0.042013\n",
       "0     50    20           42  0.046484\n",
       "0      5     5          100  0.052303\n",
       "0     50    20          100  0.037918"
      ]
     },
     "execution_count": 35,
     "metadata": {},
     "output_type": "execute_result"
    }
   ],
   "source": [
    "SearchResultsData"
   ]
  },
  {
   "cell_type": "markdown",
   "id": "9ba1d935",
   "metadata": {},
   "source": [
    "d'après le tableau ci-dessus, le meilleur modèle est : \n",
    " le modèle qui a Epochs = 50, Batch = 20, random_state = 100"
   ]
  },
  {
   "cell_type": "markdown",
   "id": "2de2cf53",
   "metadata": {},
   "source": [
    "# Modèles sélectionnés pour l'expérimentation"
   ]
  },
  {
   "cell_type": "markdown",
   "id": "01c8cc2e",
   "metadata": {},
   "source": [
    "## Model 1 : \n",
    " random_state=100, epochs=5, batch_size=5, sans régularisation (Dropout) "
   ]
  },
  {
   "cell_type": "code",
   "execution_count": 36,
   "id": "2538c370",
   "metadata": {},
   "outputs": [],
   "source": [
    "TargetVariable=['price']\n",
    "Predictors=['Age', 'Miles', 'NB-Owners', 'MPG:CTY', 'MPG:HWY',\n",
    "       'Engine:capacity', 'Name_Audi Q5', 'Name_Audi Q7', 'Name_Audi Q8',\n",
    "       'Name_Audi RS Q8', 'Name_Audi SQ5', 'Name_Audi SQ7', 'Name_Audi SQ8',\n",
    "       'Engine:Type_V-6 Diesel Turbocharged', 'Engine:Type_V-6 Gas',\n",
    "       'Engine:Type_V-6 Gas Supercharged', 'Engine:Type_V-6 Gas Turbocharged',\n",
    "       'Engine:Type_V-8 Gas', 'Engine:Type_V-8 Gas Turbocharged',\n",
    "       'Engine:Type_V-8 Hybrid Turbocharged', 'Driven Type_ FWD']\n",
    "\n",
    "X=DataForML[Predictors].values\n",
    "y=DataForML[TargetVariable].values\n",
    "\n",
    "\n",
    "\n",
    "PredictorScalerFit=PredictorScaler.fit(X)\n",
    "TargetVarScalerFit=TargetVarScaler.fit(y)\n",
    "\n",
    "\n",
    "X=PredictorScalerFit.transform(X)\n",
    "y=TargetVarScalerFit.transform(y)\n",
    "\n",
    "\n",
    "\n",
    "from sklearn.model_selection import train_test_split\n",
    "X_train, X_test, y_train, y_test = train_test_split(X, y, test_size=0.10, random_state=100)"
   ]
  },
  {
   "cell_type": "code",
   "execution_count": 37,
   "id": "656881de",
   "metadata": {},
   "outputs": [],
   "source": [
    "    model = Sequential()\n",
    "\n",
    "    model.add(Dense(units=39, input_dim=X_train.shape[-1], kernel_initializer='normal', activation='relu'))\n",
    "\n",
    "\n",
    "    model.add(Dense(units=23, kernel_initializer='normal', activation='relu'))\n",
    "\n",
    "\n",
    "    model.add(Dense(1, kernel_initializer='normal'))\n",
    "\n",
    "    \n",
    "    model.compile(loss='mse', optimizer='adam', metrics=[tf.keras.metrics.MeanSquaredError()])"
   ]
  },
  {
   "cell_type": "code",
   "execution_count": 38,
   "id": "03eac89f",
   "metadata": {},
   "outputs": [
    {
     "name": "stdout",
     "output_type": "stream",
     "text": [
      "Model: \"sequential_5\"\n",
      "_________________________________________________________________\n",
      " Layer (type)                Output Shape              Param #   \n",
      "=================================================================\n",
      " dense_25 (Dense)            (None, 39)                858       \n",
      "                                                                 \n",
      " dense_26 (Dense)            (None, 23)                920       \n",
      "                                                                 \n",
      " dense_27 (Dense)            (None, 1)                 24        \n",
      "                                                                 \n",
      "=================================================================\n",
      "Total params: 1,802\n",
      "Trainable params: 1,802\n",
      "Non-trainable params: 0\n",
      "_________________________________________________________________\n",
      "None\n"
     ]
    }
   ],
   "source": [
    "print(model.summary())"
   ]
  },
  {
   "cell_type": "markdown",
   "id": "3656136f",
   "metadata": {},
   "source": [
    "le modèle contient deux couches cachées, la première couche contient 39 neurones, la deuxième couche contient 23 neurones."
   ]
  },
  {
   "cell_type": "code",
   "execution_count": 39,
   "id": "dfc97295",
   "metadata": {},
   "outputs": [
    {
     "name": "stdout",
     "output_type": "stream",
     "text": [
      "Epoch 1/5\n",
      "328/328 [==============================] - 4s 6ms/step - loss: 0.2799 - mean_squared_error: 0.2799 - val_loss: 0.0415 - val_mean_squared_error: 0.0415\n",
      "Epoch 2/5\n",
      "328/328 [==============================] - 1s 4ms/step - loss: 0.0373 - mean_squared_error: 0.0373 - val_loss: 0.0397 - val_mean_squared_error: 0.0397\n",
      "Epoch 3/5\n",
      "328/328 [==============================] - 1s 4ms/step - loss: 0.0368 - mean_squared_error: 0.0368 - val_loss: 0.0368 - val_mean_squared_error: 0.0368\n",
      "Epoch 4/5\n",
      "328/328 [==============================] - 1s 4ms/step - loss: 0.0339 - mean_squared_error: 0.0339 - val_loss: 0.0388 - val_mean_squared_error: 0.0388\n",
      "Epoch 5/5\n",
      "328/328 [==============================] - 1s 4ms/step - loss: 0.0331 - mean_squared_error: 0.0331 - val_loss: 0.0423 - val_mean_squared_error: 0.0423\n"
     ]
    }
   ],
   "source": [
    "history = model.fit(X_train, y_train, verbose=1, epochs = 5, batch_size=5,\n",
    "                   validation_data=(X_test,y_test))"
   ]
  },
  {
   "cell_type": "code",
   "execution_count": 40,
   "id": "d484e267",
   "metadata": {},
   "outputs": [
    {
     "name": "stdout",
     "output_type": "stream",
     "text": [
      "6/6 [==============================] - 0s 3ms/step - loss: 0.0423 - mean_squared_error: 0.0423\n",
      "MSE =  0.04232645407319069\n"
     ]
    }
   ],
   "source": [
    "_, MSE = model.evaluate(X_test,y_test)\n",
    "print(\"MSE = \", MSE)"
   ]
  },
  {
   "cell_type": "code",
   "execution_count": 41,
   "id": "f0448ac1",
   "metadata": {},
   "outputs": [
    {
     "data": {
      "image/png": "[encoded data removed]",
      "text/plain": [
       "<Figure size 432x288 with 1 Axes>"
      ]
     },
     "metadata": {
      "needs_background": "light"
     },
     "output_type": "display_data"
    }
   ],
   "source": [
    "loss = history.history['loss']\n",
    "val_loss = history.history['val_loss']\n",
    "epochs = range(1, len(loss)+1)\n",
    "plt.plot(epochs, loss, 'y', label='Training loss')\n",
    "plt.plot(epochs, val_loss, 'r', label='Validation loss')\n",
    "plt.title('Training and Validation loss')\n",
    "plt.xlabel('Epochs')\n",
    "plt.ylabel('Loss')\n",
    "plt.legend()\n",
    "plt.show()"
   ]
  },
  {
   "cell_type": "markdown",
   "id": "68599a62",
   "metadata": {},
   "source": [
    "Nous pouvons clairement voir une divergence de la fonction de perte dans les données de test."
   ]
  },
  {
   "cell_type": "markdown",
   "id": "4698ffe4",
   "metadata": {},
   "source": [
    "# Model 2 : \n",
    " random_state=100, epochs=50, batch_size=20, sans régularisation (Dropout) "
   ]
  },
  {
   "cell_type": "code",
   "execution_count": 48,
   "id": "4a2fe70b",
   "metadata": {},
   "outputs": [],
   "source": [
    "TargetVariable=['price']\n",
    "Predictors=['Age', 'Miles', 'NB-Owners', 'MPG:CTY', 'MPG:HWY',\n",
    "       'Engine:capacity', 'Name_Audi Q5', 'Name_Audi Q7', 'Name_Audi Q8',\n",
    "       'Name_Audi RS Q8', 'Name_Audi SQ5', 'Name_Audi SQ7', 'Name_Audi SQ8',\n",
    "       'Engine:Type_V-6 Diesel Turbocharged', 'Engine:Type_V-6 Gas',\n",
    "       'Engine:Type_V-6 Gas Supercharged', 'Engine:Type_V-6 Gas Turbocharged',\n",
    "       'Engine:Type_V-8 Gas', 'Engine:Type_V-8 Gas Turbocharged',\n",
    "       'Engine:Type_V-8 Hybrid Turbocharged', 'Driven Type_ FWD']\n",
    "\n",
    "X=DataForML[Predictors].values\n",
    "y=DataForML[TargetVariable].values\n",
    "\n",
    "\n",
    "\n",
    "PredictorScalerFit=PredictorScaler.fit(X)\n",
    "TargetVarScalerFit=TargetVarScaler.fit(y)\n",
    "\n",
    "\n",
    "X=PredictorScalerFit.transform(X)\n",
    "y=TargetVarScalerFit.transform(y)\n",
    "\n",
    "\n",
    "\n",
    "from sklearn.model_selection import train_test_split\n",
    "X_train, X_test, y_train, y_test = train_test_split(X, y, test_size=0.10, random_state=100)"
   ]
  },
  {
   "cell_type": "code",
   "execution_count": 49,
   "id": "4976d8ab",
   "metadata": {},
   "outputs": [],
   "source": [
    "model = Sequential()\n",
    "\n",
    "model.add(Dense(units=13, input_dim=X_train.shape[-1], kernel_initializer='normal', activation='relu'))\n",
    "\n",
    "\n",
    "model.add(Dense(units=29, kernel_initializer='normal', activation='relu'))\n",
    "\n",
    "\n",
    "model.add(Dense(1, kernel_initializer='normal'))\n",
    "\n",
    "#optimizer = keras.optimizers.Adam(lr=0.01)\n",
    "model.compile(loss='mse', optimizer='adam', metrics=[tf.keras.metrics.MeanSquaredError()])"
   ]
  },
  {
   "cell_type": "code",
   "execution_count": 50,
   "id": "44cdcf35",
   "metadata": {},
   "outputs": [
    {
     "name": "stdout",
     "output_type": "stream",
     "text": [
      "Model: \"sequential_7\"\n",
      "_________________________________________________________________\n",
      " Layer (type)                Output Shape              Param #   \n",
      "=================================================================\n",
      " dense_31 (Dense)            (None, 13)                286       \n",
      "                                                                 \n",
      " dense_32 (Dense)            (None, 29)                406       \n",
      "                                                                 \n",
      " dense_33 (Dense)            (None, 1)                 30        \n",
      "                                                                 \n",
      "=================================================================\n",
      "Total params: 722\n",
      "Trainable params: 722\n",
      "Non-trainable params: 0\n",
      "_________________________________________________________________\n",
      "None\n"
     ]
    }
   ],
   "source": [
    "print(model.summary())"
   ]
  },
  {
   "cell_type": "markdown",
   "id": "66de1a89",
   "metadata": {},
   "source": [
    "le modèle contient deux couches cachées, la première couche contient 13 neurones, la deuxième couche contient 29 neurones."
   ]
  },
  {
   "cell_type": "code",
   "execution_count": 51,
   "id": "231c568d",
   "metadata": {
    "scrolled": true
   },
   "outputs": [
    {
     "name": "stdout",
     "output_type": "stream",
     "text": [
      "Epoch 1/50\n",
      "82/82 [==============================] - 2s 11ms/step - loss: 0.8248 - mean_squared_error: 0.8248 - val_loss: 0.4595 - val_mean_squared_error: 0.4595\n",
      "Epoch 2/50\n",
      "82/82 [==============================] - 0s 5ms/step - loss: 0.2451 - mean_squared_error: 0.2451 - val_loss: 0.1197 - val_mean_squared_error: 0.1197\n",
      "Epoch 3/50\n",
      "82/82 [==============================] - 0s 5ms/step - loss: 0.1002 - mean_squared_error: 0.1002 - val_loss: 0.0447 - val_mean_squared_error: 0.0447\n",
      "Epoch 4/50\n",
      "82/82 [==============================] - 0s 5ms/step - loss: 0.0608 - mean_squared_error: 0.0608 - val_loss: 0.0421 - val_mean_squared_error: 0.0421\n",
      "Epoch 5/50\n",
      "82/82 [==============================] - 0s 5ms/step - loss: 0.0490 - mean_squared_error: 0.0490 - val_loss: 0.0437 - val_mean_squared_error: 0.0437\n",
      "Epoch 6/50\n",
      "82/82 [==============================] - 0s 5ms/step - loss: 0.0416 - mean_squared_error: 0.0416 - val_loss: 0.0414 - val_mean_squared_error: 0.0414\n",
      "Epoch 7/50\n",
      "82/82 [==============================] - 0s 5ms/step - loss: 0.0371 - mean_squared_error: 0.0371 - val_loss: 0.0405 - val_mean_squared_error: 0.0405\n",
      "Epoch 8/50\n",
      "82/82 [==============================] - 0s 5ms/step - loss: 0.0351 - mean_squared_error: 0.0351 - val_loss: 0.0392 - val_mean_squared_error: 0.0392\n",
      "Epoch 9/50\n",
      "82/82 [==============================] - 0s 5ms/step - loss: 0.0331 - mean_squared_error: 0.0331 - val_loss: 0.0384 - val_mean_squared_error: 0.0384\n",
      "Epoch 10/50\n",
      "82/82 [==============================] - 0s 5ms/step - loss: 0.0320 - mean_squared_error: 0.0320 - val_loss: 0.0388 - val_mean_squared_error: 0.0388\n",
      "Epoch 11/50\n",
      "82/82 [==============================] - 0s 5ms/step - loss: 0.0310 - mean_squared_error: 0.0310 - val_loss: 0.0359 - val_mean_squared_error: 0.0359\n",
      "Epoch 12/50\n",
      "82/82 [==============================] - 0s 5ms/step - loss: 0.0306 - mean_squared_error: 0.0306 - val_loss: 0.0376 - val_mean_squared_error: 0.0376\n",
      "Epoch 13/50\n",
      "82/82 [==============================] - 0s 5ms/step - loss: 0.0301 - mean_squared_error: 0.0301 - val_loss: 0.0377 - val_mean_squared_error: 0.0377\n",
      "Epoch 14/50\n",
      "82/82 [==============================] - 0s 5ms/step - loss: 0.0297 - mean_squared_error: 0.0297 - val_loss: 0.0368 - val_mean_squared_error: 0.0368\n",
      "Epoch 15/50\n",
      "82/82 [==============================] - 0s 5ms/step - loss: 0.0310 - mean_squared_error: 0.0310 - val_loss: 0.0376 - val_mean_squared_error: 0.0376\n",
      "Epoch 16/50\n",
      "82/82 [==============================] - 0s 6ms/step - loss: 0.0293 - mean_squared_error: 0.0293 - val_loss: 0.0401 - val_mean_squared_error: 0.0401\n",
      "Epoch 17/50\n",
      "82/82 [==============================] - 0s 5ms/step - loss: 0.0299 - mean_squared_error: 0.0299 - val_loss: 0.0381 - val_mean_squared_error: 0.0381\n",
      "Epoch 18/50\n",
      "82/82 [==============================] - 0s 5ms/step - loss: 0.0296 - mean_squared_error: 0.0296 - val_loss: 0.0364 - val_mean_squared_error: 0.0364\n",
      "Epoch 19/50\n",
      "82/82 [==============================] - 0s 5ms/step - loss: 0.0295 - mean_squared_error: 0.0295 - val_loss: 0.0370 - val_mean_squared_error: 0.0370\n",
      "Epoch 20/50\n",
      "82/82 [==============================] - 0s 5ms/step - loss: 0.0295 - mean_squared_error: 0.0295 - val_loss: 0.0359 - val_mean_squared_error: 0.0359\n",
      "Epoch 21/50\n",
      "82/82 [==============================] - 0s 5ms/step - loss: 0.0298 - mean_squared_error: 0.0298 - val_loss: 0.0355 - val_mean_squared_error: 0.0355\n",
      "Epoch 22/50\n",
      "82/82 [==============================] - 0s 5ms/step - loss: 0.0303 - mean_squared_error: 0.0303 - val_loss: 0.0390 - val_mean_squared_error: 0.0390\n",
      "Epoch 23/50\n",
      "82/82 [==============================] - 0s 5ms/step - loss: 0.0290 - mean_squared_error: 0.0290 - val_loss: 0.0368 - val_mean_squared_error: 0.0368\n",
      "Epoch 24/50\n",
      "82/82 [==============================] - 0s 5ms/step - loss: 0.0288 - mean_squared_error: 0.0288 - val_loss: 0.0372 - val_mean_squared_error: 0.0372\n",
      "Epoch 25/50\n",
      "82/82 [==============================] - 0s 6ms/step - loss: 0.0286 - mean_squared_error: 0.0286 - val_loss: 0.0364 - val_mean_squared_error: 0.0364\n",
      "Epoch 26/50\n",
      "82/82 [==============================] - 0s 5ms/step - loss: 0.0286 - mean_squared_error: 0.0286 - val_loss: 0.0375 - val_mean_squared_error: 0.0375\n",
      "Epoch 27/50\n",
      "82/82 [==============================] - 0s 5ms/step - loss: 0.0286 - mean_squared_error: 0.0286 - val_loss: 0.0368 - val_mean_squared_error: 0.0368\n",
      "Epoch 28/50\n",
      "82/82 [==============================] - 0s 5ms/step - loss: 0.0289 - mean_squared_error: 0.0289 - val_loss: 0.0365 - val_mean_squared_error: 0.0365\n",
      "Epoch 29/50\n",
      "82/82 [==============================] - 0s 5ms/step - loss: 0.0286 - mean_squared_error: 0.0286 - val_loss: 0.0368 - val_mean_squared_error: 0.0368\n",
      "Epoch 30/50\n",
      "82/82 [==============================] - 0s 5ms/step - loss: 0.0291 - mean_squared_error: 0.0291 - val_loss: 0.0382 - val_mean_squared_error: 0.0382\n",
      "Epoch 31/50\n",
      "82/82 [==============================] - 0s 5ms/step - loss: 0.0290 - mean_squared_error: 0.0290 - val_loss: 0.0371 - val_mean_squared_error: 0.0371\n",
      "Epoch 32/50\n",
      "82/82 [==============================] - 0s 5ms/step - loss: 0.0292 - mean_squared_error: 0.0292 - val_loss: 0.0373 - val_mean_squared_error: 0.0373\n",
      "Epoch 33/50\n",
      "82/82 [==============================] - 0s 5ms/step - loss: 0.0284 - mean_squared_error: 0.0284 - val_loss: 0.0360 - val_mean_squared_error: 0.0360\n",
      "Epoch 34/50\n",
      "82/82 [==============================] - 0s 5ms/step - loss: 0.0288 - mean_squared_error: 0.0288 - val_loss: 0.0366 - val_mean_squared_error: 0.0366\n",
      "Epoch 35/50\n",
      "82/82 [==============================] - 0s 5ms/step - loss: 0.0289 - mean_squared_error: 0.0289 - val_loss: 0.0396 - val_mean_squared_error: 0.0396\n",
      "Epoch 36/50\n",
      "82/82 [==============================] - 0s 5ms/step - loss: 0.0284 - mean_squared_error: 0.0284 - val_loss: 0.0359 - val_mean_squared_error: 0.0359\n",
      "Epoch 37/50\n",
      "82/82 [==============================] - 0s 5ms/step - loss: 0.0283 - mean_squared_error: 0.0283 - val_loss: 0.0366 - val_mean_squared_error: 0.0366\n",
      "Epoch 38/50\n",
      "82/82 [==============================] - 0s 5ms/step - loss: 0.0283 - mean_squared_error: 0.0283 - val_loss: 0.0371 - val_mean_squared_error: 0.0371\n",
      "Epoch 39/50\n",
      "82/82 [==============================] - 0s 5ms/step - loss: 0.0280 - mean_squared_error: 0.0280 - val_loss: 0.0377 - val_mean_squared_error: 0.0377\n",
      "Epoch 40/50\n",
      "82/82 [==============================] - 0s 5ms/step - loss: 0.0289 - mean_squared_error: 0.0289 - val_loss: 0.0374 - val_mean_squared_error: 0.0374\n",
      "Epoch 41/50\n",
      "82/82 [==============================] - 0s 5ms/step - loss: 0.0285 - mean_squared_error: 0.0285 - val_loss: 0.0381 - val_mean_squared_error: 0.0381\n",
      "Epoch 42/50\n",
      "82/82 [==============================] - 0s 5ms/step - loss: 0.0288 - mean_squared_error: 0.0288 - val_loss: 0.0366 - val_mean_squared_error: 0.0366\n",
      "Epoch 43/50\n",
      "82/82 [==============================] - 0s 5ms/step - loss: 0.0289 - mean_squared_error: 0.0289 - val_loss: 0.0373 - val_mean_squared_error: 0.0373\n",
      "Epoch 44/50\n",
      "82/82 [==============================] - 0s 6ms/step - loss: 0.0287 - mean_squared_error: 0.0287 - val_loss: 0.0372 - val_mean_squared_error: 0.0372\n",
      "Epoch 45/50\n",
      "82/82 [==============================] - 0s 5ms/step - loss: 0.0290 - mean_squared_error: 0.0290 - val_loss: 0.0387 - val_mean_squared_error: 0.0387\n",
      "Epoch 46/50\n",
      "82/82 [==============================] - 0s 5ms/step - loss: 0.0281 - mean_squared_error: 0.0281 - val_loss: 0.0385 - val_mean_squared_error: 0.0385\n",
      "Epoch 47/50\n",
      "82/82 [==============================] - 0s 5ms/step - loss: 0.0279 - mean_squared_error: 0.0279 - val_loss: 0.0395 - val_mean_squared_error: 0.0395\n",
      "Epoch 48/50\n",
      "82/82 [==============================] - 0s 5ms/step - loss: 0.0284 - mean_squared_error: 0.0284 - val_loss: 0.0357 - val_mean_squared_error: 0.0357\n",
      "Epoch 49/50\n",
      "82/82 [==============================] - 0s 5ms/step - loss: 0.0291 - mean_squared_error: 0.0291 - val_loss: 0.0388 - val_mean_squared_error: 0.0388\n",
      "Epoch 50/50\n",
      "82/82 [==============================] - 0s 5ms/step - loss: 0.0296 - mean_squared_error: 0.0296 - val_loss: 0.0363 - val_mean_squared_error: 0.0363\n"
     ]
    }
   ],
   "source": [
    "history = model.fit(X_train, y_train, verbose=1, epochs = 50, batch_size=20,\n",
    "                   validation_data=(X_test,y_test))"
   ]
  },
  {
   "cell_type": "code",
   "execution_count": 52,
   "id": "3a9afeba",
   "metadata": {},
   "outputs": [
    {
     "name": "stdout",
     "output_type": "stream",
     "text": [
      "6/6 [==============================] - 0s 2ms/step - loss: 0.0363 - mean_squared_error: 0.0363\n",
      "MSE =  0.03629586473107338\n"
     ]
    }
   ],
   "source": [
    "_, MSE = model.evaluate(X_test,y_test)\n",
    "print(\"MSE = \", MSE)"
   ]
  },
  {
   "cell_type": "code",
   "execution_count": 53,
   "id": "e7c72d8f",
   "metadata": {},
   "outputs": [
    {
     "data": {
      "image/png": "[encoded data removed]",
      "text/plain": [
       "<Figure size 432x288 with 1 Axes>"
      ]
     },
     "metadata": {
      "needs_background": "light"
     },
     "output_type": "display_data"
    }
   ],
   "source": [
    "loss = history.history['loss']\n",
    "val_loss = history.history['val_loss']\n",
    "epochs = range(1, len(loss)+1)\n",
    "plt.plot(epochs, loss, 'y', label='Training loss')\n",
    "plt.plot(epochs, val_loss, 'r', label='Validation loss')\n",
    "plt.title('Training and Validation loss')\n",
    "plt.xlabel('Epochs')\n",
    "plt.ylabel('Loss')\n",
    "plt.legend()\n",
    "plt.show()"
   ]
  },
  {
   "cell_type": "markdown",
   "id": "f81dea9d",
   "metadata": {},
   "source": [
    "la fonction de perte dans les données d'apprentissage et de test est corrélée et approximativement constante"
   ]
  },
  {
   "cell_type": "markdown",
   "id": "e591fdfe",
   "metadata": {},
   "source": [
    "# Model 3 : \n",
    "random_state=100, epochs=50, test_size=0.10, batch_size=20, sans régularisation (Dropout)"
   ]
  },
  {
   "cell_type": "code",
   "execution_count": 54,
   "id": "d7e8cd15",
   "metadata": {},
   "outputs": [],
   "source": [
    "TargetVariable=['price']\n",
    "Predictors=['Age', 'Miles', 'NB-Owners', 'MPG:CTY', 'MPG:HWY',\n",
    "       'Engine:capacity', 'Name_Audi Q5', 'Name_Audi Q7', 'Name_Audi Q8',\n",
    "       'Name_Audi RS Q8', 'Name_Audi SQ5', 'Name_Audi SQ7', 'Name_Audi SQ8',\n",
    "       'Engine:Type_V-6 Diesel Turbocharged', 'Engine:Type_V-6 Gas',\n",
    "       'Engine:Type_V-6 Gas Supercharged', 'Engine:Type_V-6 Gas Turbocharged',\n",
    "       'Engine:Type_V-8 Gas', 'Engine:Type_V-8 Gas Turbocharged',\n",
    "       'Engine:Type_V-8 Hybrid Turbocharged', 'Driven Type_ FWD']\n",
    "\n",
    "X=DataForML[Predictors].values\n",
    "y=DataForML[TargetVariable].values\n",
    "\n",
    "from sklearn.preprocessing import StandardScaler\n",
    "PredictorScaler=StandardScaler()\n",
    "TargetVarScaler=StandardScaler()\n",
    "\n",
    "\n",
    "PredictorScalerFit=PredictorScaler.fit(X)\n",
    "TargetVarScalerFit=TargetVarScaler.fit(y)\n",
    "\n",
    "\n",
    "X=PredictorScalerFit.transform(X)\n",
    "y=TargetVarScalerFit.transform(y)\n",
    "\n",
    "\n",
    "\n",
    "from sklearn.model_selection import train_test_split\n",
    "X_train, X_test, y_train, y_test = train_test_split(X, y, test_size=0.10, random_state=100)"
   ]
  },
  {
   "cell_type": "code",
   "execution_count": 55,
   "id": "f9cedecf",
   "metadata": {},
   "outputs": [],
   "source": [
    "model = Sequential()\n",
    "\n",
    "model.add(Dense(units=14, input_dim=X_train.shape[-1], kernel_initializer='normal', activation='relu'))\n",
    "\n",
    "\n",
    "model.add(Dense(units=35, kernel_initializer='normal', activation='relu'))\n",
    "    \n",
    "model.add(Dense(units=32, kernel_initializer='normal', activation='relu'))\n",
    "    \n",
    "model.add(Dense(units=36, kernel_initializer='normal', activation='relu'))\n",
    "\n",
    "\n",
    "model.add(Dense(1, kernel_initializer='normal'))\n",
    "\n",
    "#optimizer = keras.optimizers.Adam(lr=0.01)\n",
    "model.compile(loss='mse', optimizer='adam', metrics=[tf.keras.metrics.MeanSquaredError()])"
   ]
  },
  {
   "cell_type": "code",
   "execution_count": 56,
   "id": "3e1d3bc4",
   "metadata": {},
   "outputs": [
    {
     "name": "stdout",
     "output_type": "stream",
     "text": [
      "Model: \"sequential_8\"\n",
      "_________________________________________________________________\n",
      " Layer (type)                Output Shape              Param #   \n",
      "=================================================================\n",
      " dense_34 (Dense)            (None, 14)                308       \n",
      "                                                                 \n",
      " dense_35 (Dense)            (None, 35)                525       \n",
      "                                                                 \n",
      " dense_36 (Dense)            (None, 32)                1152      \n",
      "                                                                 \n",
      " dense_37 (Dense)            (None, 36)                1188      \n",
      "                                                                 \n",
      " dense_38 (Dense)            (None, 1)                 37        \n",
      "                                                                 \n",
      "=================================================================\n",
      "Total params: 3,210\n",
      "Trainable params: 3,210\n",
      "Non-trainable params: 0\n",
      "_________________________________________________________________\n",
      "None\n"
     ]
    }
   ],
   "source": [
    "print(model.summary())"
   ]
  },
  {
   "cell_type": "markdown",
   "id": "0ae1535b",
   "metadata": {},
   "source": [
    "le modèle contient quatre couches cachées, la première couche contient 14 neurones, la deuxième couche contient 35 neurones, la troisième contient 32 neurones et la quatrième contient 36 neurones."
   ]
  },
  {
   "cell_type": "code",
   "execution_count": 57,
   "id": "903b277c",
   "metadata": {},
   "outputs": [
    {
     "name": "stdout",
     "output_type": "stream",
     "text": [
      "Epoch 1/50\n",
      "82/82 [==============================] - 3s 12ms/step - loss: 0.7928 - mean_squared_error: 0.7928 - val_loss: 0.2758 - val_mean_squared_error: 0.2758\n",
      "Epoch 2/50\n",
      "82/82 [==============================] - 0s 6ms/step - loss: 0.1143 - mean_squared_error: 0.1143 - val_loss: 0.0597 - val_mean_squared_error: 0.0597\n",
      "Epoch 3/50\n",
      "82/82 [==============================] - 0s 6ms/step - loss: 0.0496 - mean_squared_error: 0.0496 - val_loss: 0.0468 - val_mean_squared_error: 0.0468\n",
      "Epoch 4/50\n",
      "82/82 [==============================] - 0s 6ms/step - loss: 0.0402 - mean_squared_error: 0.0402 - val_loss: 0.0451 - val_mean_squared_error: 0.0451\n",
      "Epoch 5/50\n",
      "82/82 [==============================] - 0s 6ms/step - loss: 0.0368 - mean_squared_error: 0.0368 - val_loss: 0.0405 - val_mean_squared_error: 0.0405\n",
      "Epoch 6/50\n",
      "82/82 [==============================] - 0s 6ms/step - loss: 0.0343 - mean_squared_error: 0.0343 - val_loss: 0.0371 - val_mean_squared_error: 0.0371\n",
      "Epoch 7/50\n",
      "82/82 [==============================] - 0s 6ms/step - loss: 0.0323 - mean_squared_error: 0.0323 - val_loss: 0.0367 - val_mean_squared_error: 0.0367\n",
      "Epoch 8/50\n",
      "82/82 [==============================] - 0s 6ms/step - loss: 0.0325 - mean_squared_error: 0.0325 - val_loss: 0.0372 - val_mean_squared_error: 0.0372\n",
      "Epoch 9/50\n",
      "82/82 [==============================] - 0s 6ms/step - loss: 0.0312 - mean_squared_error: 0.0312 - val_loss: 0.0377 - val_mean_squared_error: 0.0377\n",
      "Epoch 10/50\n",
      "82/82 [==============================] - 0s 6ms/step - loss: 0.0319 - mean_squared_error: 0.0319 - val_loss: 0.0378 - val_mean_squared_error: 0.0378\n",
      "Epoch 11/50\n",
      "82/82 [==============================] - 0s 6ms/step - loss: 0.0313 - mean_squared_error: 0.0313 - val_loss: 0.0346 - val_mean_squared_error: 0.0346\n",
      "Epoch 12/50\n",
      "82/82 [==============================] - 0s 6ms/step - loss: 0.0305 - mean_squared_error: 0.0305 - val_loss: 0.0394 - val_mean_squared_error: 0.0394\n",
      "Epoch 13/50\n",
      "82/82 [==============================] - 0s 6ms/step - loss: 0.0302 - mean_squared_error: 0.0302 - val_loss: 0.0353 - val_mean_squared_error: 0.0353\n",
      "Epoch 14/50\n",
      "82/82 [==============================] - 0s 6ms/step - loss: 0.0308 - mean_squared_error: 0.0308 - val_loss: 0.0348 - val_mean_squared_error: 0.0348\n",
      "Epoch 15/50\n",
      "82/82 [==============================] - 0s 6ms/step - loss: 0.0314 - mean_squared_error: 0.0314 - val_loss: 0.0371 - val_mean_squared_error: 0.0371\n",
      "Epoch 16/50\n",
      "82/82 [==============================] - 0s 6ms/step - loss: 0.0304 - mean_squared_error: 0.0304 - val_loss: 0.0361 - val_mean_squared_error: 0.0361\n",
      "Epoch 17/50\n",
      "82/82 [==============================] - 0s 6ms/step - loss: 0.0301 - mean_squared_error: 0.0301 - val_loss: 0.0368 - val_mean_squared_error: 0.0368\n",
      "Epoch 18/50\n",
      "82/82 [==============================] - 0s 6ms/step - loss: 0.0296 - mean_squared_error: 0.0296 - val_loss: 0.0389 - val_mean_squared_error: 0.0389\n",
      "Epoch 19/50\n",
      "82/82 [==============================] - 0s 6ms/step - loss: 0.0307 - mean_squared_error: 0.0307 - val_loss: 0.0367 - val_mean_squared_error: 0.0367\n",
      "Epoch 20/50\n",
      "82/82 [==============================] - 0s 6ms/step - loss: 0.0296 - mean_squared_error: 0.0296 - val_loss: 0.0348 - val_mean_squared_error: 0.0348\n",
      "Epoch 21/50\n",
      "82/82 [==============================] - 0s 6ms/step - loss: 0.0301 - mean_squared_error: 0.0301 - val_loss: 0.0341 - val_mean_squared_error: 0.0341\n",
      "Epoch 22/50\n",
      "82/82 [==============================] - 0s 6ms/step - loss: 0.0294 - mean_squared_error: 0.0294 - val_loss: 0.0363 - val_mean_squared_error: 0.0363\n",
      "Epoch 23/50\n",
      "82/82 [==============================] - 0s 6ms/step - loss: 0.0304 - mean_squared_error: 0.0304 - val_loss: 0.0372 - val_mean_squared_error: 0.0372\n",
      "Epoch 24/50\n",
      "82/82 [==============================] - 0s 6ms/step - loss: 0.0291 - mean_squared_error: 0.0291 - val_loss: 0.0361 - val_mean_squared_error: 0.0361\n",
      "Epoch 25/50\n",
      "82/82 [==============================] - 0s 6ms/step - loss: 0.0309 - mean_squared_error: 0.0309 - val_loss: 0.0365 - val_mean_squared_error: 0.0365\n",
      "Epoch 26/50\n",
      "82/82 [==============================] - 0s 6ms/step - loss: 0.0291 - mean_squared_error: 0.0291 - val_loss: 0.0365 - val_mean_squared_error: 0.0365\n",
      "Epoch 27/50\n",
      "82/82 [==============================] - 0s 6ms/step - loss: 0.0296 - mean_squared_error: 0.0296 - val_loss: 0.0379 - val_mean_squared_error: 0.0379\n",
      "Epoch 28/50\n",
      "82/82 [==============================] - 0s 6ms/step - loss: 0.0295 - mean_squared_error: 0.0295 - val_loss: 0.0444 - val_mean_squared_error: 0.0444\n",
      "Epoch 29/50\n",
      "82/82 [==============================] - 0s 6ms/step - loss: 0.0312 - mean_squared_error: 0.0312 - val_loss: 0.0340 - val_mean_squared_error: 0.0340\n",
      "Epoch 30/50\n",
      "82/82 [==============================] - 0s 6ms/step - loss: 0.0294 - mean_squared_error: 0.0294 - val_loss: 0.0374 - val_mean_squared_error: 0.0374\n",
      "Epoch 31/50\n",
      "82/82 [==============================] - 0s 6ms/step - loss: 0.0293 - mean_squared_error: 0.0293 - val_loss: 0.0381 - val_mean_squared_error: 0.0381\n",
      "Epoch 32/50\n",
      "82/82 [==============================] - 0s 6ms/step - loss: 0.0318 - mean_squared_error: 0.0318 - val_loss: 0.0359 - val_mean_squared_error: 0.0359\n",
      "Epoch 33/50\n",
      "82/82 [==============================] - 0s 6ms/step - loss: 0.0318 - mean_squared_error: 0.0318 - val_loss: 0.0346 - val_mean_squared_error: 0.0346\n",
      "Epoch 34/50\n",
      "82/82 [==============================] - 0s 6ms/step - loss: 0.0299 - mean_squared_error: 0.0299 - val_loss: 0.0364 - val_mean_squared_error: 0.0364\n",
      "Epoch 35/50\n",
      "82/82 [==============================] - 0s 6ms/step - loss: 0.0302 - mean_squared_error: 0.0302 - val_loss: 0.0372 - val_mean_squared_error: 0.0372\n",
      "Epoch 36/50\n",
      "82/82 [==============================] - 0s 6ms/step - loss: 0.0303 - mean_squared_error: 0.0303 - val_loss: 0.0354 - val_mean_squared_error: 0.0354\n",
      "Epoch 37/50\n",
      "82/82 [==============================] - 0s 6ms/step - loss: 0.0296 - mean_squared_error: 0.0296 - val_loss: 0.0374 - val_mean_squared_error: 0.0374\n",
      "Epoch 38/50\n",
      "82/82 [==============================] - 0s 6ms/step - loss: 0.0300 - mean_squared_error: 0.0300 - val_loss: 0.0359 - val_mean_squared_error: 0.0359\n",
      "Epoch 39/50\n",
      "82/82 [==============================] - 0s 6ms/step - loss: 0.0309 - mean_squared_error: 0.0309 - val_loss: 0.0354 - val_mean_squared_error: 0.0354\n",
      "Epoch 40/50\n",
      "82/82 [==============================] - 0s 6ms/step - loss: 0.0296 - mean_squared_error: 0.0296 - val_loss: 0.0338 - val_mean_squared_error: 0.0338\n",
      "Epoch 41/50\n",
      "82/82 [==============================] - 0s 6ms/step - loss: 0.0299 - mean_squared_error: 0.0299 - val_loss: 0.0352 - val_mean_squared_error: 0.0352\n",
      "Epoch 42/50\n",
      "82/82 [==============================] - 0s 6ms/step - loss: 0.0294 - mean_squared_error: 0.0294 - val_loss: 0.0354 - val_mean_squared_error: 0.0354\n",
      "Epoch 43/50\n",
      "82/82 [==============================] - 0s 6ms/step - loss: 0.0296 - mean_squared_error: 0.0296 - val_loss: 0.0338 - val_mean_squared_error: 0.0338\n",
      "Epoch 44/50\n",
      "82/82 [==============================] - 0s 6ms/step - loss: 0.0302 - mean_squared_error: 0.0302 - val_loss: 0.0357 - val_mean_squared_error: 0.0357\n",
      "Epoch 45/50\n",
      "82/82 [==============================] - 0s 6ms/step - loss: 0.0310 - mean_squared_error: 0.0310 - val_loss: 0.0388 - val_mean_squared_error: 0.0388\n",
      "Epoch 46/50\n",
      "82/82 [==============================] - 0s 6ms/step - loss: 0.0286 - mean_squared_error: 0.0286 - val_loss: 0.0384 - val_mean_squared_error: 0.0384\n",
      "Epoch 47/50\n",
      "82/82 [==============================] - 0s 6ms/step - loss: 0.0294 - mean_squared_error: 0.0294 - val_loss: 0.0352 - val_mean_squared_error: 0.0352\n",
      "Epoch 48/50\n",
      "82/82 [==============================] - 0s 6ms/step - loss: 0.0290 - mean_squared_error: 0.0290 - val_loss: 0.0334 - val_mean_squared_error: 0.0334\n",
      "Epoch 49/50\n",
      "82/82 [==============================] - 0s 6ms/step - loss: 0.0283 - mean_squared_error: 0.0283 - val_loss: 0.0338 - val_mean_squared_error: 0.0338\n",
      "Epoch 50/50\n",
      "82/82 [==============================] - 0s 6ms/step - loss: 0.0292 - mean_squared_error: 0.0292 - val_loss: 0.0375 - val_mean_squared_error: 0.0375\n"
     ]
    }
   ],
   "source": [
    "history = model.fit(X_train, y_train, verbose=1, epochs = 50, batch_size=20,\n",
    "                   validation_data=(X_test,y_test))"
   ]
  },
  {
   "cell_type": "code",
   "execution_count": 58,
   "id": "355ac6b9",
   "metadata": {},
   "outputs": [
    {
     "name": "stdout",
     "output_type": "stream",
     "text": [
      "6/6 [==============================] - 0s 3ms/step - loss: 0.0375 - mean_squared_error: 0.0375\n",
      "MSE =  0.03751213103532791\n"
     ]
    }
   ],
   "source": [
    "_, MSE = model.evaluate(X_test,y_test)\n",
    "print(\"MSE = \", MSE)"
   ]
  },
  {
   "cell_type": "code",
   "execution_count": 59,
   "id": "a6d830c6",
   "metadata": {},
   "outputs": [
    {
     "data": {
      "image/png": "[encoded data removed]",
      "text/plain": [
       "<Figure size 432x288 with 1 Axes>"
      ]
     },
     "metadata": {
      "needs_background": "light"
     },
     "output_type": "display_data"
    }
   ],
   "source": [
    "loss = history.history['loss']\n",
    "val_loss = history.history['val_loss']\n",
    "epochs = range(1, len(loss)+1)\n",
    "plt.plot(epochs, loss, 'y', label='Training loss')\n",
    "plt.plot(epochs, val_loss, 'r', label='Validation loss')\n",
    "plt.title('Training and Validation loss')\n",
    "plt.xlabel('Epochs')\n",
    "plt.ylabel('Loss')\n",
    "plt.legend()\n",
    "plt.show()"
   ]
  },
  {
   "cell_type": "markdown",
   "id": "98fe5f0b",
   "metadata": {},
   "source": [
    "# Model 4\n",
    "\n",
    "random_state=100, epochs=50, batch_size=10, avec régularisation (Dropout)"
   ]
  },
  {
   "cell_type": "code",
   "execution_count": 61,
   "id": "49f86217",
   "metadata": {},
   "outputs": [],
   "source": [
    "TargetVariable=['price']\n",
    "Predictors=['Age', 'Miles', 'NB-Owners', 'MPG:CTY', 'MPG:HWY',\n",
    "       'Engine:capacity', 'Name_Audi Q5', 'Name_Audi Q7', 'Name_Audi Q8',\n",
    "       'Name_Audi RS Q8', 'Name_Audi SQ5', 'Name_Audi SQ7', 'Name_Audi SQ8',\n",
    "       'Engine:Type_V-6 Diesel Turbocharged', 'Engine:Type_V-6 Gas',\n",
    "       'Engine:Type_V-6 Gas Supercharged', 'Engine:Type_V-6 Gas Turbocharged',\n",
    "       'Engine:Type_V-8 Gas', 'Engine:Type_V-8 Gas Turbocharged',\n",
    "       'Engine:Type_V-8 Hybrid Turbocharged', 'Driven Type_ FWD']\n",
    "\n",
    "X=DataForML[Predictors].values\n",
    "y=DataForML[TargetVariable].values\n",
    "\n",
    "\n",
    "\n",
    "\n",
    "PredictorScalerFit=PredictorScaler.fit(X)\n",
    "TargetVarScalerFit=TargetVarScaler.fit(y)\n",
    "\n",
    "\n",
    "X=PredictorScalerFit.transform(X)\n",
    "y=TargetVarScalerFit.transform(y)\n",
    "\n",
    "\n",
    "\n",
    "X_train, X_test, y_train, y_test = train_test_split(X, y, test_size=0.10, random_state=100)"
   ]
  },
  {
   "cell_type": "code",
   "execution_count": 62,
   "id": "1c5ba56a",
   "metadata": {},
   "outputs": [],
   "source": [
    "model = Sequential()\n",
    "\n",
    "model.add(Dense(units=13, input_dim=X_train.shape[-1], kernel_initializer='normal', activation='relu'))\n",
    "\n",
    "model.add(Dropout(0.25))\n",
    "\n",
    "model.add(Dense(units=29, kernel_initializer='normal', activation='relu'))\n",
    "\n",
    "\n",
    "model.add(Dense(1, kernel_initializer='normal'))\n",
    "\n",
    "#optimizer = keras.optimizers.Adam(lr=0.01)\n",
    "model.compile(loss='mse', optimizer='adam', metrics=[tf.keras.metrics.MeanSquaredError()])"
   ]
  },
  {
   "cell_type": "code",
   "execution_count": 63,
   "id": "c9bc2966",
   "metadata": {},
   "outputs": [
    {
     "name": "stdout",
     "output_type": "stream",
     "text": [
      "Epoch 1/50\n",
      "164/164 [==============================] - 3s 7ms/step - loss: 0.6948 - mean_squared_error: 0.6948 - val_loss: 0.3363 - val_mean_squared_error: 0.3363\n",
      "Epoch 2/50\n",
      "164/164 [==============================] - 1s 5ms/step - loss: 0.1534 - mean_squared_error: 0.1534 - val_loss: 0.0702 - val_mean_squared_error: 0.0702\n",
      "Epoch 3/50\n",
      "164/164 [==============================] - 1s 5ms/step - loss: 0.1374 - mean_squared_error: 0.1374 - val_loss: 0.0542 - val_mean_squared_error: 0.0542\n",
      "Epoch 4/50\n",
      "164/164 [==============================] - 1s 5ms/step - loss: 0.1020 - mean_squared_error: 0.1020 - val_loss: 0.0469 - val_mean_squared_error: 0.0469\n",
      "Epoch 5/50\n",
      "164/164 [==============================] - 1s 5ms/step - loss: 0.0793 - mean_squared_error: 0.0793 - val_loss: 0.0459 - val_mean_squared_error: 0.0459\n",
      "Epoch 6/50\n",
      "164/164 [==============================] - 1s 5ms/step - loss: 0.0862 - mean_squared_error: 0.0862 - val_loss: 0.0581 - val_mean_squared_error: 0.0581\n",
      "Epoch 7/50\n",
      "164/164 [==============================] - 1s 5ms/step - loss: 0.0975 - mean_squared_error: 0.0975 - val_loss: 0.0458 - val_mean_squared_error: 0.0458\n",
      "Epoch 8/50\n",
      "164/164 [==============================] - 1s 5ms/step - loss: 0.0758 - mean_squared_error: 0.0758 - val_loss: 0.0525 - val_mean_squared_error: 0.0525\n",
      "Epoch 9/50\n",
      "164/164 [==============================] - 1s 5ms/step - loss: 0.0807 - mean_squared_error: 0.0807 - val_loss: 0.0470 - val_mean_squared_error: 0.0470\n",
      "Epoch 10/50\n",
      "164/164 [==============================] - 1s 5ms/step - loss: 0.0830 - mean_squared_error: 0.0830 - val_loss: 0.0414 - val_mean_squared_error: 0.0414\n",
      "Epoch 11/50\n",
      "164/164 [==============================] - 1s 5ms/step - loss: 0.0747 - mean_squared_error: 0.0747 - val_loss: 0.0431 - val_mean_squared_error: 0.0431\n",
      "Epoch 12/50\n",
      "164/164 [==============================] - 1s 5ms/step - loss: 0.0900 - mean_squared_error: 0.0900 - val_loss: 0.0470 - val_mean_squared_error: 0.0470\n",
      "Epoch 13/50\n",
      "164/164 [==============================] - 1s 5ms/step - loss: 0.0869 - mean_squared_error: 0.0869 - val_loss: 0.0388 - val_mean_squared_error: 0.0388\n",
      "Epoch 14/50\n",
      "164/164 [==============================] - 1s 5ms/step - loss: 0.0701 - mean_squared_error: 0.0701 - val_loss: 0.0526 - val_mean_squared_error: 0.0526\n",
      "Epoch 15/50\n",
      "164/164 [==============================] - 1s 5ms/step - loss: 0.0648 - mean_squared_error: 0.0648 - val_loss: 0.0373 - val_mean_squared_error: 0.0373\n",
      "Epoch 16/50\n",
      "164/164 [==============================] - 1s 5ms/step - loss: 0.0695 - mean_squared_error: 0.0695 - val_loss: 0.0441 - val_mean_squared_error: 0.0441\n",
      "Epoch 17/50\n",
      "164/164 [==============================] - 1s 5ms/step - loss: 0.0655 - mean_squared_error: 0.0655 - val_loss: 0.0450 - val_mean_squared_error: 0.0450\n",
      "Epoch 18/50\n",
      "164/164 [==============================] - 1s 5ms/step - loss: 0.0710 - mean_squared_error: 0.0710 - val_loss: 0.0506 - val_mean_squared_error: 0.0506\n",
      "Epoch 19/50\n",
      "164/164 [==============================] - 1s 5ms/step - loss: 0.0699 - mean_squared_error: 0.0699 - val_loss: 0.0397 - val_mean_squared_error: 0.0397\n",
      "Epoch 20/50\n",
      "164/164 [==============================] - 1s 5ms/step - loss: 0.0576 - mean_squared_error: 0.0576 - val_loss: 0.0467 - val_mean_squared_error: 0.0467\n",
      "Epoch 21/50\n",
      "164/164 [==============================] - 1s 5ms/step - loss: 0.0764 - mean_squared_error: 0.0764 - val_loss: 0.0452 - val_mean_squared_error: 0.0452\n",
      "Epoch 22/50\n",
      "164/164 [==============================] - 1s 5ms/step - loss: 0.0572 - mean_squared_error: 0.0572 - val_loss: 0.0496 - val_mean_squared_error: 0.0496\n",
      "Epoch 23/50\n",
      "164/164 [==============================] - 1s 5ms/step - loss: 0.0665 - mean_squared_error: 0.0665 - val_loss: 0.0417 - val_mean_squared_error: 0.0417\n",
      "Epoch 24/50\n",
      "164/164 [==============================] - 1s 5ms/step - loss: 0.0620 - mean_squared_error: 0.0620 - val_loss: 0.0552 - val_mean_squared_error: 0.0552\n",
      "Epoch 25/50\n",
      "164/164 [==============================] - 1s 5ms/step - loss: 0.0578 - mean_squared_error: 0.0578 - val_loss: 0.0436 - val_mean_squared_error: 0.0436\n",
      "Epoch 26/50\n",
      "164/164 [==============================] - 1s 5ms/step - loss: 0.0555 - mean_squared_error: 0.0555 - val_loss: 0.0546 - val_mean_squared_error: 0.0546\n",
      "Epoch 27/50\n",
      "164/164 [==============================] - 1s 5ms/step - loss: 0.0576 - mean_squared_error: 0.0576 - val_loss: 0.0437 - val_mean_squared_error: 0.0437\n",
      "Epoch 28/50\n",
      "164/164 [==============================] - 1s 5ms/step - loss: 0.0590 - mean_squared_error: 0.0590 - val_loss: 0.0506 - val_mean_squared_error: 0.0506\n",
      "Epoch 29/50\n",
      "164/164 [==============================] - 1s 5ms/step - loss: 0.0534 - mean_squared_error: 0.0534 - val_loss: 0.0445 - val_mean_squared_error: 0.0445\n",
      "Epoch 30/50\n",
      "164/164 [==============================] - 1s 5ms/step - loss: 0.0468 - mean_squared_error: 0.0468 - val_loss: 0.0597 - val_mean_squared_error: 0.0597\n",
      "Epoch 31/50\n",
      "164/164 [==============================] - 1s 5ms/step - loss: 0.0500 - mean_squared_error: 0.0500 - val_loss: 0.0487 - val_mean_squared_error: 0.0487\n",
      "Epoch 32/50\n",
      "164/164 [==============================] - 1s 5ms/step - loss: 0.0617 - mean_squared_error: 0.0617 - val_loss: 0.0445 - val_mean_squared_error: 0.0445\n",
      "Epoch 33/50\n",
      "164/164 [==============================] - 1s 5ms/step - loss: 0.0544 - mean_squared_error: 0.0544 - val_loss: 0.0492 - val_mean_squared_error: 0.0492\n",
      "Epoch 34/50\n",
      "164/164 [==============================] - 1s 5ms/step - loss: 0.0497 - mean_squared_error: 0.0497 - val_loss: 0.0489 - val_mean_squared_error: 0.0489\n",
      "Epoch 35/50\n",
      "164/164 [==============================] - 1s 5ms/step - loss: 0.0499 - mean_squared_error: 0.0499 - val_loss: 0.0565 - val_mean_squared_error: 0.0565\n",
      "Epoch 36/50\n",
      "164/164 [==============================] - 1s 5ms/step - loss: 0.0478 - mean_squared_error: 0.0478 - val_loss: 0.0508 - val_mean_squared_error: 0.0508\n",
      "Epoch 37/50\n",
      "164/164 [==============================] - 1s 5ms/step - loss: 0.0481 - mean_squared_error: 0.0481 - val_loss: 0.0534 - val_mean_squared_error: 0.0534\n",
      "Epoch 38/50\n",
      "164/164 [==============================] - 1s 5ms/step - loss: 0.0506 - mean_squared_error: 0.0506 - val_loss: 0.0465 - val_mean_squared_error: 0.0465\n",
      "Epoch 39/50\n",
      "164/164 [==============================] - 1s 5ms/step - loss: 0.0458 - mean_squared_error: 0.0458 - val_loss: 0.0443 - val_mean_squared_error: 0.0443\n",
      "Epoch 40/50\n",
      "164/164 [==============================] - 1s 5ms/step - loss: 0.0506 - mean_squared_error: 0.0506 - val_loss: 0.0484 - val_mean_squared_error: 0.0484\n",
      "Epoch 41/50\n",
      "164/164 [==============================] - 1s 5ms/step - loss: 0.0512 - mean_squared_error: 0.0512 - val_loss: 0.0557 - val_mean_squared_error: 0.0557\n",
      "Epoch 42/50\n",
      "164/164 [==============================] - 1s 5ms/step - loss: 0.0510 - mean_squared_error: 0.0510 - val_loss: 0.0692 - val_mean_squared_error: 0.0692\n",
      "Epoch 43/50\n",
      "164/164 [==============================] - 1s 5ms/step - loss: 0.0645 - mean_squared_error: 0.0645 - val_loss: 0.0670 - val_mean_squared_error: 0.0670\n",
      "Epoch 44/50\n",
      "164/164 [==============================] - 1s 5ms/step - loss: 0.0536 - mean_squared_error: 0.0536 - val_loss: 0.0570 - val_mean_squared_error: 0.0570\n",
      "Epoch 45/50\n",
      "164/164 [==============================] - 1s 5ms/step - loss: 0.0471 - mean_squared_error: 0.0471 - val_loss: 0.0608 - val_mean_squared_error: 0.0608\n",
      "Epoch 46/50\n",
      "164/164 [==============================] - 1s 5ms/step - loss: 0.0451 - mean_squared_error: 0.0451 - val_loss: 0.0486 - val_mean_squared_error: 0.0486\n",
      "Epoch 47/50\n",
      "164/164 [==============================] - 1s 4ms/step - loss: 0.0416 - mean_squared_error: 0.0416 - val_loss: 0.0487 - val_mean_squared_error: 0.0487\n",
      "Epoch 48/50\n",
      "164/164 [==============================] - 1s 4ms/step - loss: 0.0457 - mean_squared_error: 0.0457 - val_loss: 0.0456 - val_mean_squared_error: 0.0456\n",
      "Epoch 49/50\n",
      "164/164 [==============================] - 1s 4ms/step - loss: 0.0471 - mean_squared_error: 0.0471 - val_loss: 0.0497 - val_mean_squared_error: 0.0497\n",
      "Epoch 50/50\n",
      "164/164 [==============================] - 1s 5ms/step - loss: 0.0475 - mean_squared_error: 0.0475 - val_loss: 0.0534 - val_mean_squared_error: 0.0534\n"
     ]
    }
   ],
   "source": [
    "history = model.fit(X_train, y_train, verbose=1, epochs = 50, batch_size=10,\n",
    "                   validation_data=(X_test,y_test))"
   ]
  },
  {
   "cell_type": "code",
   "execution_count": 64,
   "id": "61bb9639",
   "metadata": {},
   "outputs": [
    {
     "name": "stdout",
     "output_type": "stream",
     "text": [
      "6/6 [==============================] - 0s 3ms/step - loss: 0.0534 - mean_squared_error: 0.0534\n",
      "MSE =  0.053359899669885635\n"
     ]
    }
   ],
   "source": [
    "_, MSE = model.evaluate(X_test,y_test)\n",
    "print(\"MSE = \", MSE)"
   ]
  },
  {
   "cell_type": "code",
   "execution_count": 65,
   "id": "2b78e375",
   "metadata": {},
   "outputs": [
    {
     "data": {
      "image/png": "[encoded data removed]",
      "text/plain": [
       "<Figure size 432x288 with 1 Axes>"
      ]
     },
     "metadata": {
      "needs_background": "light"
     },
     "output_type": "display_data"
    }
   ],
   "source": [
    "loss = history.history['loss']\n",
    "val_loss = history.history['val_loss']\n",
    "epochs = range(1, len(loss)+1)\n",
    "plt.plot(epochs, loss, 'y', label='Training loss')\n",
    "plt.plot(epochs, val_loss, 'r', label='Validation loss')\n",
    "plt.title('Training and Validation loss')\n",
    "plt.xlabel('Epochs')\n",
    "plt.ylabel('Loss')\n",
    "plt.legend()\n",
    "plt.show()"
   ]
  },
  {
   "cell_type": "markdown",
   "id": "ee32a535",
   "metadata": {},
   "source": [
    "il y a des fluctuations dans la fonction de perte dans les données de test et d'entraînement, alors ce module n'est pas bien."
   ]
  },
  {
   "cell_type": "markdown",
   "id": "4da2af2f",
   "metadata": {},
   "source": [
    "# Prediction : Model 2\n",
    "\n",
    "Parmi ces 4 modules, le meilleur module est le module deux, car les fonctions de perte pour les données d'apprentissage et de test sont corrélées et approximativement constantes, plus le module a la faible valeur de MSE"
   ]
  },
  {
   "cell_type": "code",
   "execution_count": 32,
   "id": "c28072a0",
   "metadata": {},
   "outputs": [],
   "source": [
    "TargetVariable=['price']\n",
    "Predictors=['Age', 'Miles', 'NB-Owners', 'MPG:CTY', 'MPG:HWY',\n",
    "       'Engine:capacity', 'Name_Audi Q5', 'Name_Audi Q7', 'Name_Audi Q8',\n",
    "       'Name_Audi RS Q8', 'Name_Audi SQ5', 'Name_Audi SQ7', 'Name_Audi SQ8',\n",
    "       'Engine:Type_V-6 Diesel Turbocharged', 'Engine:Type_V-6 Gas',\n",
    "       'Engine:Type_V-6 Gas Supercharged', 'Engine:Type_V-6 Gas Turbocharged',\n",
    "       'Engine:Type_V-8 Gas', 'Engine:Type_V-8 Gas Turbocharged',\n",
    "       'Engine:Type_V-8 Hybrid Turbocharged', 'Driven Type_ FWD']\n",
    "\n",
    "X=DataForML[Predictors].values\n",
    "y=DataForML[TargetVariable].values\n",
    "\n",
    "from sklearn.preprocessing import StandardScaler\n",
    "PredictorScaler=StandardScaler()\n",
    "TargetVarScaler=StandardScaler()\n",
    "\n",
    "\n",
    "PredictorScalerFit=PredictorScaler.fit(X)\n",
    "TargetVarScalerFit=TargetVarScaler.fit(y)\n",
    "\n",
    "\n",
    "X=PredictorScalerFit.transform(X)\n",
    "y=TargetVarScalerFit.transform(y)\n",
    "\n",
    "\n",
    "\n",
    "from sklearn.model_selection import train_test_split\n",
    "X_train, X_test, y_train, y_test = train_test_split(X, y, test_size=0.10, random_state=100)"
   ]
  },
  {
   "cell_type": "code",
   "execution_count": 33,
   "id": "6c22524d",
   "metadata": {},
   "outputs": [
    {
     "name": "stdout",
     "output_type": "stream",
     "text": [
      "Epoch 1/50\n",
      "82/82 [==============================] - 1s 3ms/step - loss: 0.8384 - mean_squared_error: 0.8384\n",
      "Epoch 2/50\n",
      "82/82 [==============================] - 0s 3ms/step - loss: 0.2276 - mean_squared_error: 0.2276\n",
      "Epoch 3/50\n",
      "82/82 [==============================] - 0s 2ms/step - loss: 0.0692 - mean_squared_error: 0.0692\n",
      "Epoch 4/50\n",
      "82/82 [==============================] - 0s 2ms/step - loss: 0.0392 - mean_squared_error: 0.0392\n",
      "Epoch 5/50\n",
      "82/82 [==============================] - 0s 2ms/step - loss: 0.0342 - mean_squared_error: 0.0342\n",
      "Epoch 6/50\n",
      "82/82 [==============================] - 0s 2ms/step - loss: 0.0349 - mean_squared_error: 0.0349\n",
      "Epoch 7/50\n",
      "82/82 [==============================] - 0s 2ms/step - loss: 0.0318 - mean_squared_error: 0.0318\n",
      "Epoch 8/50\n",
      "82/82 [==============================] - 0s 2ms/step - loss: 0.0310 - mean_squared_error: 0.0310\n",
      "Epoch 9/50\n",
      "82/82 [==============================] - 0s 3ms/step - loss: 0.0310 - mean_squared_error: 0.0310\n",
      "Epoch 10/50\n",
      "82/82 [==============================] - 0s 2ms/step - loss: 0.0300 - mean_squared_error: 0.0300\n",
      "Epoch 11/50\n",
      "82/82 [==============================] - 0s 3ms/step - loss: 0.0298 - mean_squared_error: 0.0298\n",
      "Epoch 12/50\n",
      "82/82 [==============================] - 0s 3ms/step - loss: 0.0293 - mean_squared_error: 0.0293\n",
      "Epoch 13/50\n",
      "82/82 [==============================] - 0s 2ms/step - loss: 0.0302 - mean_squared_error: 0.0302\n",
      "Epoch 14/50\n",
      "82/82 [==============================] - 0s 2ms/step - loss: 0.0293 - mean_squared_error: 0.0293\n",
      "Epoch 15/50\n",
      "82/82 [==============================] - 0s 2ms/step - loss: 0.0293 - mean_squared_error: 0.0293\n",
      "Epoch 16/50\n",
      "82/82 [==============================] - 0s 3ms/step - loss: 0.0294 - mean_squared_error: 0.0294\n",
      "Epoch 17/50\n",
      "82/82 [==============================] - 0s 2ms/step - loss: 0.0285 - mean_squared_error: 0.0285\n",
      "Epoch 18/50\n",
      "82/82 [==============================] - 0s 2ms/step - loss: 0.0287 - mean_squared_error: 0.0287\n",
      "Epoch 19/50\n",
      "82/82 [==============================] - 0s 2ms/step - loss: 0.0295 - mean_squared_error: 0.0295\n",
      "Epoch 20/50\n",
      "82/82 [==============================] - 0s 2ms/step - loss: 0.0287 - mean_squared_error: 0.0287\n",
      "Epoch 21/50\n",
      "82/82 [==============================] - 0s 2ms/step - loss: 0.0289 - mean_squared_error: 0.0289\n",
      "Epoch 22/50\n",
      "82/82 [==============================] - 0s 2ms/step - loss: 0.0291 - mean_squared_error: 0.0291\n",
      "Epoch 23/50\n",
      "82/82 [==============================] - 0s 3ms/step - loss: 0.0290 - mean_squared_error: 0.0290\n",
      "Epoch 24/50\n",
      "82/82 [==============================] - 0s 2ms/step - loss: 0.0290 - mean_squared_error: 0.0290\n",
      "Epoch 25/50\n",
      "82/82 [==============================] - 0s 2ms/step - loss: 0.0288 - mean_squared_error: 0.0288\n",
      "Epoch 26/50\n",
      "82/82 [==============================] - 0s 2ms/step - loss: 0.0281 - mean_squared_error: 0.0281\n",
      "Epoch 27/50\n",
      "82/82 [==============================] - 0s 3ms/step - loss: 0.0288 - mean_squared_error: 0.0288\n",
      "Epoch 28/50\n",
      "82/82 [==============================] - 0s 2ms/step - loss: 0.0287 - mean_squared_error: 0.0287\n",
      "Epoch 29/50\n",
      "82/82 [==============================] - 0s 2ms/step - loss: 0.0286 - mean_squared_error: 0.0286\n",
      "Epoch 30/50\n",
      "82/82 [==============================] - 0s 3ms/step - loss: 0.0284 - mean_squared_error: 0.0284\n",
      "Epoch 31/50\n",
      "82/82 [==============================] - 0s 3ms/step - loss: 0.0283 - mean_squared_error: 0.0283\n",
      "Epoch 32/50\n",
      "82/82 [==============================] - 0s 2ms/step - loss: 0.0293 - mean_squared_error: 0.0293\n",
      "Epoch 33/50\n",
      "82/82 [==============================] - 0s 3ms/step - loss: 0.0281 - mean_squared_error: 0.0281\n",
      "Epoch 34/50\n",
      "82/82 [==============================] - 0s 3ms/step - loss: 0.0294 - mean_squared_error: 0.0294\n",
      "Epoch 35/50\n",
      "82/82 [==============================] - 0s 2ms/step - loss: 0.0288 - mean_squared_error: 0.0288\n",
      "Epoch 36/50\n",
      "82/82 [==============================] - 0s 2ms/step - loss: 0.0290 - mean_squared_error: 0.0290\n",
      "Epoch 37/50\n",
      "82/82 [==============================] - 0s 2ms/step - loss: 0.0285 - mean_squared_error: 0.0285\n",
      "Epoch 38/50\n",
      "82/82 [==============================] - 0s 2ms/step - loss: 0.0294 - mean_squared_error: 0.0294\n",
      "Epoch 39/50\n",
      "82/82 [==============================] - 0s 2ms/step - loss: 0.0281 - mean_squared_error: 0.0281\n",
      "Epoch 40/50\n",
      "82/82 [==============================] - 0s 2ms/step - loss: 0.0286 - mean_squared_error: 0.0286\n",
      "Epoch 41/50\n",
      "82/82 [==============================] - 0s 2ms/step - loss: 0.0284 - mean_squared_error: 0.0284\n",
      "Epoch 42/50\n",
      "82/82 [==============================] - 0s 2ms/step - loss: 0.0287 - mean_squared_error: 0.0287\n",
      "Epoch 43/50\n",
      "82/82 [==============================] - 0s 3ms/step - loss: 0.0282 - mean_squared_error: 0.0282\n",
      "Epoch 44/50\n",
      "82/82 [==============================] - 0s 2ms/step - loss: 0.0280 - mean_squared_error: 0.0280\n",
      "Epoch 45/50\n",
      "82/82 [==============================] - 0s 2ms/step - loss: 0.0287 - mean_squared_error: 0.0287\n",
      "Epoch 46/50\n",
      "82/82 [==============================] - 0s 2ms/step - loss: 0.0284 - mean_squared_error: 0.0284\n",
      "Epoch 47/50\n",
      "82/82 [==============================] - 0s 2ms/step - loss: 0.0291 - mean_squared_error: 0.0291\n",
      "Epoch 48/50\n",
      "82/82 [==============================] - 0s 2ms/step - loss: 0.0282 - mean_squared_error: 0.0282\n",
      "Epoch 49/50\n",
      "82/82 [==============================] - 0s 2ms/step - loss: 0.0281 - mean_squared_error: 0.0281\n",
      "Epoch 50/50\n",
      "82/82 [==============================] - 0s 2ms/step - loss: 0.0278 - mean_squared_error: 0.0278\n",
      "6/6 [==============================] - 0s 3ms/step\n"
     ]
    },
    {
     "data": {
      "text/html": [
       "<div>\n",
       "<style scoped>\n",
       "    .dataframe tbody tr th:only-of-type {\n",
       "        vertical-align: middle;\n",
       "    }\n",
       "\n",
       "    .dataframe tbody tr th {\n",
       "        vertical-align: top;\n",
       "    }\n",
       "\n",
       "    .dataframe thead th {\n",
       "        text-align: right;\n",
       "    }\n",
       "</style>\n",
       "<table border=\"1\" class=\"dataframe\">\n",
       "  <thead>\n",
       "    <tr style=\"text-align: right;\">\n",
       "      <th></th>\n",
       "      <th>Age</th>\n",
       "      <th>Miles</th>\n",
       "      <th>NB-Owners</th>\n",
       "      <th>MPG:CTY</th>\n",
       "      <th>MPG:HWY</th>\n",
       "      <th>Engine:capacity</th>\n",
       "      <th>Name_Audi Q5</th>\n",
       "      <th>Name_Audi Q7</th>\n",
       "      <th>Name_Audi Q8</th>\n",
       "      <th>Name_Audi RS Q8</th>\n",
       "      <th>...</th>\n",
       "      <th>Engine:Type_V-6 Diesel Turbocharged</th>\n",
       "      <th>Engine:Type_V-6 Gas</th>\n",
       "      <th>Engine:Type_V-6 Gas Supercharged</th>\n",
       "      <th>Engine:Type_V-6 Gas Turbocharged</th>\n",
       "      <th>Engine:Type_V-8 Gas</th>\n",
       "      <th>Engine:Type_V-8 Gas Turbocharged</th>\n",
       "      <th>Engine:Type_V-8 Hybrid Turbocharged</th>\n",
       "      <th>Driven Type_ FWD</th>\n",
       "      <th>price</th>\n",
       "      <th>Predictedprice</th>\n",
       "    </tr>\n",
       "  </thead>\n",
       "  <tbody>\n",
       "    <tr>\n",
       "      <th>0</th>\n",
       "      <td>5.0</td>\n",
       "      <td>85218.0</td>\n",
       "      <td>1.0</td>\n",
       "      <td>19.0</td>\n",
       "      <td>25.0</td>\n",
       "      <td>3.0</td>\n",
       "      <td>0.0</td>\n",
       "      <td>1.0</td>\n",
       "      <td>0.0</td>\n",
       "      <td>0.0</td>\n",
       "      <td>...</td>\n",
       "      <td>0.0</td>\n",
       "      <td>0.0</td>\n",
       "      <td>1.0</td>\n",
       "      <td>0.0</td>\n",
       "      <td>0.0</td>\n",
       "      <td>0.0</td>\n",
       "      <td>0.0</td>\n",
       "      <td>0.0</td>\n",
       "      <td>28680.0</td>\n",
       "      <td>29654.763672</td>\n",
       "    </tr>\n",
       "    <tr>\n",
       "      <th>1</th>\n",
       "      <td>3.0</td>\n",
       "      <td>29007.0</td>\n",
       "      <td>1.0</td>\n",
       "      <td>22.0</td>\n",
       "      <td>27.0</td>\n",
       "      <td>2.0</td>\n",
       "      <td>1.0</td>\n",
       "      <td>0.0</td>\n",
       "      <td>0.0</td>\n",
       "      <td>0.0</td>\n",
       "      <td>...</td>\n",
       "      <td>0.0</td>\n",
       "      <td>0.0</td>\n",
       "      <td>0.0</td>\n",
       "      <td>0.0</td>\n",
       "      <td>0.0</td>\n",
       "      <td>0.0</td>\n",
       "      <td>0.0</td>\n",
       "      <td>0.0</td>\n",
       "      <td>34777.0</td>\n",
       "      <td>36365.398438</td>\n",
       "    </tr>\n",
       "    <tr>\n",
       "      <th>2</th>\n",
       "      <td>4.0</td>\n",
       "      <td>46701.0</td>\n",
       "      <td>1.0</td>\n",
       "      <td>19.0</td>\n",
       "      <td>25.0</td>\n",
       "      <td>2.0</td>\n",
       "      <td>0.0</td>\n",
       "      <td>1.0</td>\n",
       "      <td>0.0</td>\n",
       "      <td>0.0</td>\n",
       "      <td>...</td>\n",
       "      <td>0.0</td>\n",
       "      <td>0.0</td>\n",
       "      <td>0.0</td>\n",
       "      <td>0.0</td>\n",
       "      <td>0.0</td>\n",
       "      <td>0.0</td>\n",
       "      <td>0.0</td>\n",
       "      <td>0.0</td>\n",
       "      <td>36880.0</td>\n",
       "      <td>37024.785156</td>\n",
       "    </tr>\n",
       "    <tr>\n",
       "      <th>3</th>\n",
       "      <td>3.0</td>\n",
       "      <td>65138.0</td>\n",
       "      <td>1.0</td>\n",
       "      <td>22.0</td>\n",
       "      <td>27.0</td>\n",
       "      <td>2.0</td>\n",
       "      <td>1.0</td>\n",
       "      <td>0.0</td>\n",
       "      <td>0.0</td>\n",
       "      <td>0.0</td>\n",
       "      <td>...</td>\n",
       "      <td>0.0</td>\n",
       "      <td>0.0</td>\n",
       "      <td>0.0</td>\n",
       "      <td>0.0</td>\n",
       "      <td>0.0</td>\n",
       "      <td>0.0</td>\n",
       "      <td>0.0</td>\n",
       "      <td>0.0</td>\n",
       "      <td>31987.0</td>\n",
       "      <td>31688.783203</td>\n",
       "    </tr>\n",
       "    <tr>\n",
       "      <th>4</th>\n",
       "      <td>8.0</td>\n",
       "      <td>68105.0</td>\n",
       "      <td>2.0</td>\n",
       "      <td>16.0</td>\n",
       "      <td>22.0</td>\n",
       "      <td>3.0</td>\n",
       "      <td>0.0</td>\n",
       "      <td>1.0</td>\n",
       "      <td>0.0</td>\n",
       "      <td>0.0</td>\n",
       "      <td>...</td>\n",
       "      <td>0.0</td>\n",
       "      <td>0.0</td>\n",
       "      <td>1.0</td>\n",
       "      <td>0.0</td>\n",
       "      <td>0.0</td>\n",
       "      <td>0.0</td>\n",
       "      <td>0.0</td>\n",
       "      <td>0.0</td>\n",
       "      <td>26998.0</td>\n",
       "      <td>22800.316406</td>\n",
       "    </tr>\n",
       "  </tbody>\n",
       "</table>\n",
       "<p>5 rows × 23 columns</p>\n",
       "</div>"
      ],
      "text/plain": [
       "   Age    Miles  NB-Owners  MPG:CTY  MPG:HWY  Engine:capacity  Name_Audi Q5  \\\n",
       "0  5.0  85218.0        1.0     19.0     25.0              3.0           0.0   \n",
       "1  3.0  29007.0        1.0     22.0     27.0              2.0           1.0   \n",
       "2  4.0  46701.0        1.0     19.0     25.0              2.0           0.0   \n",
       "3  3.0  65138.0        1.0     22.0     27.0              2.0           1.0   \n",
       "4  8.0  68105.0        2.0     16.0     22.0              3.0           0.0   \n",
       "\n",
       "   Name_Audi Q7  Name_Audi Q8  Name_Audi RS Q8  ...  \\\n",
       "0           1.0           0.0              0.0  ...   \n",
       "1           0.0           0.0              0.0  ...   \n",
       "2           1.0           0.0              0.0  ...   \n",
       "3           0.0           0.0              0.0  ...   \n",
       "4           1.0           0.0              0.0  ...   \n",
       "\n",
       "   Engine:Type_V-6 Diesel Turbocharged  Engine:Type_V-6 Gas  \\\n",
       "0                                  0.0                  0.0   \n",
       "1                                  0.0                  0.0   \n",
       "2                                  0.0                  0.0   \n",
       "3                                  0.0                  0.0   \n",
       "4                                  0.0                  0.0   \n",
       "\n",
       "   Engine:Type_V-6 Gas Supercharged  Engine:Type_V-6 Gas Turbocharged  \\\n",
       "0                               1.0                               0.0   \n",
       "1                               0.0                               0.0   \n",
       "2                               0.0                               0.0   \n",
       "3                               0.0                               0.0   \n",
       "4                               1.0                               0.0   \n",
       "\n",
       "   Engine:Type_V-8 Gas  Engine:Type_V-8 Gas Turbocharged  \\\n",
       "0                  0.0                               0.0   \n",
       "1                  0.0                               0.0   \n",
       "2                  0.0                               0.0   \n",
       "3                  0.0                               0.0   \n",
       "4                  0.0                               0.0   \n",
       "\n",
       "   Engine:Type_V-8 Hybrid Turbocharged  Driven Type_ FWD    price  \\\n",
       "0                                  0.0               0.0  28680.0   \n",
       "1                                  0.0               0.0  34777.0   \n",
       "2                                  0.0               0.0  36880.0   \n",
       "3                                  0.0               0.0  31987.0   \n",
       "4                                  0.0               0.0  26998.0   \n",
       "\n",
       "   Predictedprice  \n",
       "0    29654.763672  \n",
       "1    36365.398438  \n",
       "2    37024.785156  \n",
       "3    31688.783203  \n",
       "4    22800.316406  \n",
       "\n",
       "[5 rows x 23 columns]"
      ]
     },
     "execution_count": 33,
     "metadata": {},
     "output_type": "execute_result"
    }
   ],
   "source": [
    "from keras.models import Sequential\n",
    "from keras.layers import Dense\n",
    "from keras import backend as K\n",
    "import keras\n",
    "\n",
    "model = Sequential()\n",
    "\n",
    "model.add(Dense(units=13, input_dim=X_train.shape[-1], kernel_initializer='normal', activation='relu'))\n",
    "\n",
    "\n",
    "model.add(Dense(units=29, kernel_initializer='normal', activation='relu'))\n",
    "\n",
    "\n",
    "model.add(Dense(1, kernel_initializer='normal'))\n",
    "\n",
    "\n",
    "model.compile(loss='mse', optimizer='adam', metrics=[tf.keras.metrics.MeanSquaredError()])\n",
    "\n",
    "\n",
    "model.fit(X_train, y_train ,batch_size = 20, epochs = 50, verbose=1)\n",
    "\n",
    "\n",
    "Predictions=model.predict(X_test)\n",
    "\n",
    "\n",
    "Predictions=TargetVarScalerFit.inverse_transform(Predictions)\n",
    "\n",
    "\n",
    "y_test_orig=TargetVarScalerFit.inverse_transform(y_test)\n",
    "\n",
    "\n",
    "Test_Data=PredictorScalerFit.inverse_transform(X_test)\n",
    "\n",
    "\n",
    "TestingData=pd.DataFrame(data=Test_Data, columns=Predictors)\n",
    "TestingData['price']=y_test_orig\n",
    "TestingData['Predictedprice']=Predictions\n",
    "TestingData.head()"
   ]
  },
  {
   "cell_type": "code",
   "execution_count": 34,
   "id": "23b80e56",
   "metadata": {},
   "outputs": [
    {
     "name": "stdout",
     "output_type": "stream",
     "text": [
      "Model: \"sequential\"\n",
      "_________________________________________________________________\n",
      " Layer (type)                Output Shape              Param #   \n",
      "=================================================================\n",
      " dense (Dense)               (None, 13)                286       \n",
      "                                                                 \n",
      " dense_1 (Dense)             (None, 29)                406       \n",
      "                                                                 \n",
      " dense_2 (Dense)             (None, 1)                 30        \n",
      "                                                                 \n",
      "=================================================================\n",
      "Total params: 722\n",
      "Trainable params: 722\n",
      "Non-trainable params: 0\n",
      "_________________________________________________________________\n",
      "None\n"
     ]
    }
   ],
   "source": [
    "print(model.summary())"
   ]
  },
  {
   "cell_type": "code",
   "execution_count": 42,
   "id": "3a12a38a",
   "metadata": {},
   "outputs": [
    {
     "data": {
      "image/png": "[encoded data removed]",
      "text/plain": [
       "<Figure size 432x288 with 1 Axes>"
      ]
     },
     "metadata": {
      "needs_background": "light"
     },
     "output_type": "display_data"
    }
   ],
   "source": [
    "# Visualizing the differences between actual prices and predicted values\n",
    "plt.scatter(y_test_orig, Predictions)\n",
    "plt.xlabel(\"Prices\")\n",
    "plt.ylabel(\"Predicted prices\")\n",
    "plt.title(\"Prices vs Predicted prices\")\n",
    "plt.axline((0, 0), slope=1)\n",
    "plt.show()"
   ]
  },
  {
   "cell_type": "code",
   "execution_count": 36,
   "id": "41c86312",
   "metadata": {},
   "outputs": [
    {
     "data": {
      "image/png": "[encoded data removed]",
      "text/plain": [
       "<Figure size 432x288 with 1 Axes>"
      ]
     },
     "metadata": {
      "needs_background": "light"
     },
     "output_type": "display_data"
    }
   ],
   "source": [
    "sns.distplot(y_test_orig-Predictions)\n",
    "plt.title(\"Histogram of Residuals\")\n",
    "plt.xlabel(\"Residuals\")\n",
    "plt.ylabel(\"Frequency\")\n",
    "plt.show()"
   ]
  },
  {
   "cell_type": "code",
   "execution_count": 37,
   "id": "7eadb06b",
   "metadata": {},
   "outputs": [
    {
     "data": {
      "image/png": "[encoded data removed]",
      "text/plain": [
       "<Figure size 432x288 with 1 Axes>"
      ]
     },
     "metadata": {
      "needs_background": "light"
     },
     "output_type": "display_data"
    }
   ],
   "source": [
    "# Visualizing the differences between actual prices and predicted values\n",
    "plt.scatter(Predictions, Predictions-y_test_orig)\n",
    "plt.xlabel(\"Prices\")\n",
    "plt.ylabel(\"Predicted prices\")\n",
    "plt.title(\"Prices vs Predicted prices\")\n",
    "plt.show()"
   ]
  },
  {
   "cell_type": "markdown",
   "id": "cea2c98b",
   "metadata": {},
   "source": [
    "# RMSE"
   ]
  },
  {
   "cell_type": "code",
   "execution_count": 38,
   "id": "6bfc1252",
   "metadata": {
    "scrolled": true
   },
   "outputs": [
    {
     "name": "stdout",
     "output_type": "stream",
     "text": [
      "Root Mean Square Error: 3103.901809189714\n"
     ]
    }
   ],
   "source": [
    "diff=np.subtract(y_test_orig, Predictions)\n",
    "square=np.square(diff)\n",
    "MSE=square.mean()\n",
    "RMSE=np.sqrt(MSE)\n",
    "print(\"Root Mean Square Error:\", RMSE)"
   ]
  },
  {
   "cell_type": "markdown",
   "id": "a63ce0b7",
   "metadata": {},
   "source": [
    "# R^2"
   ]
  },
  {
   "cell_type": "code",
   "execution_count": 40,
   "id": "6a9677dc",
   "metadata": {},
   "outputs": [],
   "source": [
    "def performance_metric(y_true, y_predict):\n",
    "    \"\"\" Calcule et renvoie le score de performance entre \n",
    "        valeurs vraies et prédites en fonction de la métrique choisie. \"\"\"\n",
    "    \n",
    "    # Calculer le score de performance entre 'y_true' and 'y_predict'\n",
    "    score = r2_score(y_true, y_predict)\n",
    "    \n",
    "    # Rendre le score\n",
    "    return score"
   ]
  },
  {
   "cell_type": "code",
   "execution_count": 41,
   "id": "5588e443",
   "metadata": {},
   "outputs": [
    {
     "name": "stdout",
     "output_type": "stream",
     "text": [
      "R-Squared: 0.9680049091892514\n"
     ]
    }
   ],
   "source": [
    "R_2 = performance_metric(y_test_orig, Predictions)\n",
    "print(\"R-Squared:\", R_2)"
   ]
  }
 ],
 "metadata": {
  "kernelspec": {
   "display_name": "Python 3 (ipykernel)",
   "language": "python",
   "name": "python3"
  },
  "language_info": {
   "codemirror_mode": {
    "name": "ipython",
    "version": 3
   },
   "file_extension": ".py",
   "mimetype": "text/x-python",
   "name": "python",
   "nbconvert_exporter": "python",
   "pygments_lexer": "ipython3",
   "version": "3.10.2"
  }
 },
 "nbformat": 4,
 "nbformat_minor": 5
}
